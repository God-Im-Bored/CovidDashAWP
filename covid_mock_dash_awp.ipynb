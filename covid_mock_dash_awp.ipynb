{
 "cells": [
  {
   "cell_type": "code",
   "execution_count": 1,
   "metadata": {},
   "outputs": [],
   "source": [
    "import pandas as pd\n",
    "import numpy as np"
   ]
  },
  {
   "cell_type": "code",
   "execution_count": 2,
   "metadata": {},
   "outputs": [],
   "source": [
    "covid_df = pd.read_csv('/home/aram/Downloads/COVID-19_Cases_US.csv', encoding = 'Latin-1')"
   ]
  },
  {
   "cell_type": "code",
   "execution_count": 3,
   "metadata": {},
   "outputs": [],
   "source": [
    "covid_df.columns = map(str.lower, covid_df.columns)"
   ]
  },
  {
   "cell_type": "code",
   "execution_count": 4,
   "metadata": {},
   "outputs": [],
   "source": [
    "covid_df = covid_df.rename(columns = {'province_state': 'state', \n",
    "                                      'country_region': 'country', \n",
    "                                      'long_': 'long', \n",
    "                                      'admin2': 'county',\n",
    "                                      'last_update': 'date'\n",
    "                                     }\n",
    "                          )"
   ]
  },
  {
   "cell_type": "code",
   "execution_count": 5,
   "metadata": {},
   "outputs": [],
   "source": [
    "covid_df = covid_df[['state',\n",
    "                    'county',\n",
    "                    'country',\n",
    "                    'lat',\n",
    "                    'long',\n",
    "                    'confirmed',\n",
    "                    'deaths',\n",
    "                    'active',\n",
    "                    'date']]"
   ]
  },
  {
   "cell_type": "code",
   "execution_count": 81,
   "metadata": {},
   "outputs": [
    {
     "data": {
      "text/html": [
       "<div>\n",
       "<style scoped>\n",
       "    .dataframe tbody tr th:only-of-type {\n",
       "        vertical-align: middle;\n",
       "    }\n",
       "\n",
       "    .dataframe tbody tr th {\n",
       "        vertical-align: top;\n",
       "    }\n",
       "\n",
       "    .dataframe thead th {\n",
       "        text-align: right;\n",
       "    }\n",
       "</style>\n",
       "<table border=\"1\" class=\"dataframe\">\n",
       "  <thead>\n",
       "    <tr style=\"text-align: right;\">\n",
       "      <th></th>\n",
       "      <th>state</th>\n",
       "      <th>county</th>\n",
       "      <th>country</th>\n",
       "      <th>lat</th>\n",
       "      <th>long</th>\n",
       "      <th>confirmed</th>\n",
       "      <th>deaths</th>\n",
       "      <th>active</th>\n",
       "      <th>date</th>\n",
       "    </tr>\n",
       "  </thead>\n",
       "  <tbody>\n",
       "    <tr>\n",
       "      <th>205</th>\n",
       "      <td>California</td>\n",
       "      <td>Los Angeles</td>\n",
       "      <td>US</td>\n",
       "      <td>34.308284</td>\n",
       "      <td>-118.228241</td>\n",
       "      <td>841392</td>\n",
       "      <td>11089</td>\n",
       "      <td>830303</td>\n",
       "      <td>2021/01/06 19:22:04+00</td>\n",
       "    </tr>\n",
       "    <tr>\n",
       "      <th>617</th>\n",
       "      <td>Illinois</td>\n",
       "      <td>Cook</td>\n",
       "      <td>US</td>\n",
       "      <td>41.841448</td>\n",
       "      <td>-87.816588</td>\n",
       "      <td>406674</td>\n",
       "      <td>8574</td>\n",
       "      <td>398100</td>\n",
       "      <td>2021/01/06 19:22:04+00</td>\n",
       "    </tr>\n",
       "    <tr>\n",
       "      <th>102</th>\n",
       "      <td>Arizona</td>\n",
       "      <td>Maricopa</td>\n",
       "      <td>US</td>\n",
       "      <td>33.348359</td>\n",
       "      <td>-112.491815</td>\n",
       "      <td>349852</td>\n",
       "      <td>5346</td>\n",
       "      <td>344506</td>\n",
       "      <td>2021/01/06 19:22:04+00</td>\n",
       "    </tr>\n",
       "    <tr>\n",
       "      <th>366</th>\n",
       "      <td>Florida</td>\n",
       "      <td>Miami-Dade</td>\n",
       "      <td>US</td>\n",
       "      <td>25.611236</td>\n",
       "      <td>-80.551706</td>\n",
       "      <td>314742</td>\n",
       "      <td>4260</td>\n",
       "      <td>310482</td>\n",
       "      <td>2021/01/06 19:22:04+00</td>\n",
       "    </tr>\n",
       "    <tr>\n",
       "      <th>2731</th>\n",
       "      <td>Texas</td>\n",
       "      <td>Harris</td>\n",
       "      <td>US</td>\n",
       "      <td>29.858649</td>\n",
       "      <td>-95.393395</td>\n",
       "      <td>249488</td>\n",
       "      <td>3453</td>\n",
       "      <td>246035</td>\n",
       "      <td>2021/01/06 19:22:04+00</td>\n",
       "    </tr>\n",
       "    <tr>\n",
       "      <th>222</th>\n",
       "      <td>California</td>\n",
       "      <td>San Bernardino</td>\n",
       "      <td>US</td>\n",
       "      <td>34.840603</td>\n",
       "      <td>-116.177469</td>\n",
       "      <td>214813</td>\n",
       "      <td>1454</td>\n",
       "      <td>213359</td>\n",
       "      <td>2021/01/06 19:22:04+00</td>\n",
       "    </tr>\n",
       "    <tr>\n",
       "      <th>2687</th>\n",
       "      <td>Texas</td>\n",
       "      <td>Dallas</td>\n",
       "      <td>US</td>\n",
       "      <td>32.766706</td>\n",
       "      <td>-96.777960</td>\n",
       "      <td>204374</td>\n",
       "      <td>2087</td>\n",
       "      <td>202287</td>\n",
       "      <td>2021/01/06 19:22:04+00</td>\n",
       "    </tr>\n",
       "    <tr>\n",
       "      <th>219</th>\n",
       "      <td>California</td>\n",
       "      <td>Riverside</td>\n",
       "      <td>US</td>\n",
       "      <td>33.743150</td>\n",
       "      <td>-115.993358</td>\n",
       "      <td>200439</td>\n",
       "      <td>2098</td>\n",
       "      <td>198341</td>\n",
       "      <td>2021/01/06 19:22:04+00</td>\n",
       "    </tr>\n",
       "    <tr>\n",
       "      <th>1768</th>\n",
       "      <td>Nevada</td>\n",
       "      <td>Clark</td>\n",
       "      <td>US</td>\n",
       "      <td>36.214589</td>\n",
       "      <td>-115.013024</td>\n",
       "      <td>180524</td>\n",
       "      <td>2496</td>\n",
       "      <td>178028</td>\n",
       "      <td>2021/01/06 19:22:04+00</td>\n",
       "    </tr>\n",
       "    <tr>\n",
       "      <th>216</th>\n",
       "      <td>California</td>\n",
       "      <td>Orange</td>\n",
       "      <td>US</td>\n",
       "      <td>33.701475</td>\n",
       "      <td>-117.764600</td>\n",
       "      <td>174869</td>\n",
       "      <td>1926</td>\n",
       "      <td>172943</td>\n",
       "      <td>2021/01/06 19:22:04+00</td>\n",
       "    </tr>\n",
       "    <tr>\n",
       "      <th>223</th>\n",
       "      <td>California</td>\n",
       "      <td>San Diego</td>\n",
       "      <td>US</td>\n",
       "      <td>33.034846</td>\n",
       "      <td>-116.736533</td>\n",
       "      <td>172847</td>\n",
       "      <td>1654</td>\n",
       "      <td>171193</td>\n",
       "      <td>2021/01/06 19:22:04+00</td>\n",
       "    </tr>\n",
       "    <tr>\n",
       "      <th>2850</th>\n",
       "      <td>Texas</td>\n",
       "      <td>Tarrant</td>\n",
       "      <td>US</td>\n",
       "      <td>32.771438</td>\n",
       "      <td>-97.291016</td>\n",
       "      <td>161878</td>\n",
       "      <td>1550</td>\n",
       "      <td>160328</td>\n",
       "      <td>2021/01/06 19:22:04+00</td>\n",
       "    </tr>\n",
       "    <tr>\n",
       "      <th>329</th>\n",
       "      <td>Florida</td>\n",
       "      <td>Broward</td>\n",
       "      <td>US</td>\n",
       "      <td>26.151847</td>\n",
       "      <td>-80.487256</td>\n",
       "      <td>144590</td>\n",
       "      <td>1890</td>\n",
       "      <td>142700</td>\n",
       "      <td>2021/01/06 19:22:04+00</td>\n",
       "    </tr>\n",
       "    <tr>\n",
       "      <th>1890</th>\n",
       "      <td>New York</td>\n",
       "      <td>Queens</td>\n",
       "      <td>US</td>\n",
       "      <td>40.710881</td>\n",
       "      <td>-73.816847</td>\n",
       "      <td>134670</td>\n",
       "      <td>7602</td>\n",
       "      <td>127068</td>\n",
       "      <td>2021/01/06 19:22:04+00</td>\n",
       "    </tr>\n",
       "    <tr>\n",
       "      <th>1873</th>\n",
       "      <td>New York</td>\n",
       "      <td>Kings</td>\n",
       "      <td>US</td>\n",
       "      <td>40.636183</td>\n",
       "      <td>-73.949356</td>\n",
       "      <td>132075</td>\n",
       "      <td>7807</td>\n",
       "      <td>124268</td>\n",
       "      <td>2021/01/06 19:22:04+00</td>\n",
       "    </tr>\n",
       "    <tr>\n",
       "      <th>2645</th>\n",
       "      <td>Texas</td>\n",
       "      <td>Bexar</td>\n",
       "      <td>US</td>\n",
       "      <td>29.449287</td>\n",
       "      <td>-98.520197</td>\n",
       "      <td>124800</td>\n",
       "      <td>1758</td>\n",
       "      <td>123042</td>\n",
       "      <td>2021/01/06 19:22:04+00</td>\n",
       "    </tr>\n",
       "    <tr>\n",
       "      <th>2888</th>\n",
       "      <td>Utah</td>\n",
       "      <td>Salt Lake</td>\n",
       "      <td>US</td>\n",
       "      <td>40.666165</td>\n",
       "      <td>-111.921601</td>\n",
       "      <td>111389</td>\n",
       "      <td>563</td>\n",
       "      <td>110826</td>\n",
       "      <td>2021/01/06 19:22:04+00</td>\n",
       "    </tr>\n",
       "    <tr>\n",
       "      <th>1901</th>\n",
       "      <td>New York</td>\n",
       "      <td>Suffolk</td>\n",
       "      <td>US</td>\n",
       "      <td>40.883201</td>\n",
       "      <td>-72.801217</td>\n",
       "      <td>106061</td>\n",
       "      <td>2388</td>\n",
       "      <td>103673</td>\n",
       "      <td>2021/01/06 19:22:04+00</td>\n",
       "    </tr>\n",
       "    <tr>\n",
       "      <th>2700</th>\n",
       "      <td>Texas</td>\n",
       "      <td>El Paso</td>\n",
       "      <td>US</td>\n",
       "      <td>31.769808</td>\n",
       "      <td>-106.236327</td>\n",
       "      <td>100944</td>\n",
       "      <td>1714</td>\n",
       "      <td>99230</td>\n",
       "      <td>2021/01/06 19:22:04+00</td>\n",
       "    </tr>\n",
       "    <tr>\n",
       "      <th>2319</th>\n",
       "      <td>Pennsylvania</td>\n",
       "      <td>Philadelphia</td>\n",
       "      <td>US</td>\n",
       "      <td>40.003385</td>\n",
       "      <td>-75.137927</td>\n",
       "      <td>97099</td>\n",
       "      <td>2553</td>\n",
       "      <td>94546</td>\n",
       "      <td>2021/01/06 19:22:04+00</td>\n",
       "    </tr>\n",
       "    <tr>\n",
       "      <th>1879</th>\n",
       "      <td>New York</td>\n",
       "      <td>Nassau</td>\n",
       "      <td>US</td>\n",
       "      <td>40.740665</td>\n",
       "      <td>-73.589419</td>\n",
       "      <td>96112</td>\n",
       "      <td>2445</td>\n",
       "      <td>93667</td>\n",
       "      <td>2021/01/06 19:22:04+00</td>\n",
       "    </tr>\n",
       "    <tr>\n",
       "      <th>3181</th>\n",
       "      <td>Wisconsin</td>\n",
       "      <td>Milwaukee</td>\n",
       "      <td>US</td>\n",
       "      <td>43.004861</td>\n",
       "      <td>-87.967332</td>\n",
       "      <td>93509</td>\n",
       "      <td>1008</td>\n",
       "      <td>92501</td>\n",
       "      <td>2021/01/06 19:22:04+00</td>\n",
       "    </tr>\n",
       "    <tr>\n",
       "      <th>1852</th>\n",
       "      <td>New York</td>\n",
       "      <td>Bronx</td>\n",
       "      <td>US</td>\n",
       "      <td>40.852093</td>\n",
       "      <td>-73.862828</td>\n",
       "      <td>90958</td>\n",
       "      <td>5165</td>\n",
       "      <td>85793</td>\n",
       "      <td>2021/01/06 19:22:04+00</td>\n",
       "    </tr>\n",
       "    <tr>\n",
       "      <th>1356</th>\n",
       "      <td>Minnesota</td>\n",
       "      <td>Hennepin</td>\n",
       "      <td>US</td>\n",
       "      <td>45.007615</td>\n",
       "      <td>-93.476949</td>\n",
       "      <td>88832</td>\n",
       "      <td>1417</td>\n",
       "      <td>87415</td>\n",
       "      <td>2021/01/06 19:22:04+00</td>\n",
       "    </tr>\n",
       "    <tr>\n",
       "      <th>2091</th>\n",
       "      <td>Ohio</td>\n",
       "      <td>Franklin</td>\n",
       "      <td>US</td>\n",
       "      <td>39.969958</td>\n",
       "      <td>-83.011158</td>\n",
       "      <td>88447</td>\n",
       "      <td>700</td>\n",
       "      <td>87747</td>\n",
       "      <td>2021/01/06 19:22:04+00</td>\n",
       "    </tr>\n",
       "    <tr>\n",
       "      <th>373</th>\n",
       "      <td>Florida</td>\n",
       "      <td>Palm Beach</td>\n",
       "      <td>US</td>\n",
       "      <td>26.646763</td>\n",
       "      <td>-80.465360</td>\n",
       "      <td>87683</td>\n",
       "      <td>1923</td>\n",
       "      <td>85760</td>\n",
       "      <td>2021/01/06 19:22:04+00</td>\n",
       "    </tr>\n",
       "    <tr>\n",
       "      <th>1328</th>\n",
       "      <td>Michigan</td>\n",
       "      <td>Wayne</td>\n",
       "      <td>US</td>\n",
       "      <td>42.280984</td>\n",
       "      <td>-83.281255</td>\n",
       "      <td>87259</td>\n",
       "      <td>3702</td>\n",
       "      <td>83557</td>\n",
       "      <td>2021/01/06 19:22:04+00</td>\n",
       "    </tr>\n",
       "    <tr>\n",
       "      <th>351</th>\n",
       "      <td>Florida</td>\n",
       "      <td>Hillsborough</td>\n",
       "      <td>US</td>\n",
       "      <td>27.927656</td>\n",
       "      <td>-82.320132</td>\n",
       "      <td>82257</td>\n",
       "      <td>1102</td>\n",
       "      <td>81155</td>\n",
       "      <td>2021/01/06 19:22:04+00</td>\n",
       "    </tr>\n",
       "    <tr>\n",
       "      <th>371</th>\n",
       "      <td>Florida</td>\n",
       "      <td>Orange</td>\n",
       "      <td>US</td>\n",
       "      <td>28.513676</td>\n",
       "      <td>-81.317995</td>\n",
       "      <td>82155</td>\n",
       "      <td>776</td>\n",
       "      <td>81379</td>\n",
       "      <td>2021/01/06 19:22:04+00</td>\n",
       "    </tr>\n",
       "    <tr>\n",
       "      <th>1237</th>\n",
       "      <td>Massachusetts</td>\n",
       "      <td>Middlesex</td>\n",
       "      <td>US</td>\n",
       "      <td>42.486077</td>\n",
       "      <td>-71.390492</td>\n",
       "      <td>79505</td>\n",
       "      <td>2784</td>\n",
       "      <td>76721</td>\n",
       "      <td>2021/01/06 19:22:04+00</td>\n",
       "    </tr>\n",
       "  </tbody>\n",
       "</table>\n",
       "</div>"
      ],
      "text/plain": [
       "              state          county country        lat        long  confirmed  \\\n",
       "205      California     Los Angeles      US  34.308284 -118.228241     841392   \n",
       "617        Illinois            Cook      US  41.841448  -87.816588     406674   \n",
       "102         Arizona        Maricopa      US  33.348359 -112.491815     349852   \n",
       "366         Florida      Miami-Dade      US  25.611236  -80.551706     314742   \n",
       "2731          Texas          Harris      US  29.858649  -95.393395     249488   \n",
       "222      California  San Bernardino      US  34.840603 -116.177469     214813   \n",
       "2687          Texas          Dallas      US  32.766706  -96.777960     204374   \n",
       "219      California       Riverside      US  33.743150 -115.993358     200439   \n",
       "1768         Nevada           Clark      US  36.214589 -115.013024     180524   \n",
       "216      California          Orange      US  33.701475 -117.764600     174869   \n",
       "223      California       San Diego      US  33.034846 -116.736533     172847   \n",
       "2850          Texas         Tarrant      US  32.771438  -97.291016     161878   \n",
       "329         Florida         Broward      US  26.151847  -80.487256     144590   \n",
       "1890       New York          Queens      US  40.710881  -73.816847     134670   \n",
       "1873       New York           Kings      US  40.636183  -73.949356     132075   \n",
       "2645          Texas           Bexar      US  29.449287  -98.520197     124800   \n",
       "2888           Utah       Salt Lake      US  40.666165 -111.921601     111389   \n",
       "1901       New York         Suffolk      US  40.883201  -72.801217     106061   \n",
       "2700          Texas         El Paso      US  31.769808 -106.236327     100944   \n",
       "2319   Pennsylvania    Philadelphia      US  40.003385  -75.137927      97099   \n",
       "1879       New York          Nassau      US  40.740665  -73.589419      96112   \n",
       "3181      Wisconsin       Milwaukee      US  43.004861  -87.967332      93509   \n",
       "1852       New York           Bronx      US  40.852093  -73.862828      90958   \n",
       "1356      Minnesota        Hennepin      US  45.007615  -93.476949      88832   \n",
       "2091           Ohio        Franklin      US  39.969958  -83.011158      88447   \n",
       "373         Florida      Palm Beach      US  26.646763  -80.465360      87683   \n",
       "1328       Michigan           Wayne      US  42.280984  -83.281255      87259   \n",
       "351         Florida    Hillsborough      US  27.927656  -82.320132      82257   \n",
       "371         Florida          Orange      US  28.513676  -81.317995      82155   \n",
       "1237  Massachusetts       Middlesex      US  42.486077  -71.390492      79505   \n",
       "\n",
       "      deaths  active                    date  \n",
       "205    11089  830303  2021/01/06 19:22:04+00  \n",
       "617     8574  398100  2021/01/06 19:22:04+00  \n",
       "102     5346  344506  2021/01/06 19:22:04+00  \n",
       "366     4260  310482  2021/01/06 19:22:04+00  \n",
       "2731    3453  246035  2021/01/06 19:22:04+00  \n",
       "222     1454  213359  2021/01/06 19:22:04+00  \n",
       "2687    2087  202287  2021/01/06 19:22:04+00  \n",
       "219     2098  198341  2021/01/06 19:22:04+00  \n",
       "1768    2496  178028  2021/01/06 19:22:04+00  \n",
       "216     1926  172943  2021/01/06 19:22:04+00  \n",
       "223     1654  171193  2021/01/06 19:22:04+00  \n",
       "2850    1550  160328  2021/01/06 19:22:04+00  \n",
       "329     1890  142700  2021/01/06 19:22:04+00  \n",
       "1890    7602  127068  2021/01/06 19:22:04+00  \n",
       "1873    7807  124268  2021/01/06 19:22:04+00  \n",
       "2645    1758  123042  2021/01/06 19:22:04+00  \n",
       "2888     563  110826  2021/01/06 19:22:04+00  \n",
       "1901    2388  103673  2021/01/06 19:22:04+00  \n",
       "2700    1714   99230  2021/01/06 19:22:04+00  \n",
       "2319    2553   94546  2021/01/06 19:22:04+00  \n",
       "1879    2445   93667  2021/01/06 19:22:04+00  \n",
       "3181    1008   92501  2021/01/06 19:22:04+00  \n",
       "1852    5165   85793  2021/01/06 19:22:04+00  \n",
       "1356    1417   87415  2021/01/06 19:22:04+00  \n",
       "2091     700   87747  2021/01/06 19:22:04+00  \n",
       "373     1923   85760  2021/01/06 19:22:04+00  \n",
       "1328    3702   83557  2021/01/06 19:22:04+00  \n",
       "351     1102   81155  2021/01/06 19:22:04+00  \n",
       "371      776   81379  2021/01/06 19:22:04+00  \n",
       "1237    2784   76721  2021/01/06 19:22:04+00  "
      ]
     },
     "execution_count": 81,
     "metadata": {},
     "output_type": "execute_result"
    }
   ],
   "source": [
    "\n",
    "sorted_df = covid_df.sort_values('confirmed', ascending=False).head(30)\n",
    "sorted_df"
   ]
  },
  {
   "cell_type": "code",
   "execution_count": 82,
   "metadata": {},
   "outputs": [
    {
     "data": {
      "text/html": [
       "<style  type=\"text/css\" >\n",
       "#T_f11a33a4_506b_11eb_be60_cd4982937ff1row0_col5,#T_f11a33a4_506b_11eb_be60_cd4982937ff1row1_col5,#T_f11a33a4_506b_11eb_be60_cd4982937ff1row2_col5,#T_f11a33a4_506b_11eb_be60_cd4982937ff1row3_col5,#T_f11a33a4_506b_11eb_be60_cd4982937ff1row4_col5,#T_f11a33a4_506b_11eb_be60_cd4982937ff1row5_col5,#T_f11a33a4_506b_11eb_be60_cd4982937ff1row6_col5,#T_f11a33a4_506b_11eb_be60_cd4982937ff1row7_col5,#T_f11a33a4_506b_11eb_be60_cd4982937ff1row8_col5,#T_f11a33a4_506b_11eb_be60_cd4982937ff1row9_col5,#T_f11a33a4_506b_11eb_be60_cd4982937ff1row10_col5,#T_f11a33a4_506b_11eb_be60_cd4982937ff1row11_col5,#T_f11a33a4_506b_11eb_be60_cd4982937ff1row12_col5,#T_f11a33a4_506b_11eb_be60_cd4982937ff1row13_col5,#T_f11a33a4_506b_11eb_be60_cd4982937ff1row14_col5,#T_f11a33a4_506b_11eb_be60_cd4982937ff1row15_col5,#T_f11a33a4_506b_11eb_be60_cd4982937ff1row16_col5,#T_f11a33a4_506b_11eb_be60_cd4982937ff1row17_col5,#T_f11a33a4_506b_11eb_be60_cd4982937ff1row18_col5,#T_f11a33a4_506b_11eb_be60_cd4982937ff1row19_col5,#T_f11a33a4_506b_11eb_be60_cd4982937ff1row20_col5,#T_f11a33a4_506b_11eb_be60_cd4982937ff1row21_col5,#T_f11a33a4_506b_11eb_be60_cd4982937ff1row22_col5,#T_f11a33a4_506b_11eb_be60_cd4982937ff1row23_col5,#T_f11a33a4_506b_11eb_be60_cd4982937ff1row24_col5,#T_f11a33a4_506b_11eb_be60_cd4982937ff1row25_col5,#T_f11a33a4_506b_11eb_be60_cd4982937ff1row26_col5,#T_f11a33a4_506b_11eb_be60_cd4982937ff1row27_col5,#T_f11a33a4_506b_11eb_be60_cd4982937ff1row28_col5,#T_f11a33a4_506b_11eb_be60_cd4982937ff1row29_col5{\n",
       "            background-color:  yellow;\n",
       "        }#T_f11a33a4_506b_11eb_be60_cd4982937ff1row0_col6,#T_f11a33a4_506b_11eb_be60_cd4982937ff1row1_col6,#T_f11a33a4_506b_11eb_be60_cd4982937ff1row2_col6,#T_f11a33a4_506b_11eb_be60_cd4982937ff1row3_col6,#T_f11a33a4_506b_11eb_be60_cd4982937ff1row4_col6,#T_f11a33a4_506b_11eb_be60_cd4982937ff1row5_col6,#T_f11a33a4_506b_11eb_be60_cd4982937ff1row6_col6,#T_f11a33a4_506b_11eb_be60_cd4982937ff1row7_col6,#T_f11a33a4_506b_11eb_be60_cd4982937ff1row8_col6,#T_f11a33a4_506b_11eb_be60_cd4982937ff1row9_col6,#T_f11a33a4_506b_11eb_be60_cd4982937ff1row10_col6,#T_f11a33a4_506b_11eb_be60_cd4982937ff1row11_col6,#T_f11a33a4_506b_11eb_be60_cd4982937ff1row12_col6,#T_f11a33a4_506b_11eb_be60_cd4982937ff1row13_col6,#T_f11a33a4_506b_11eb_be60_cd4982937ff1row14_col6,#T_f11a33a4_506b_11eb_be60_cd4982937ff1row15_col6,#T_f11a33a4_506b_11eb_be60_cd4982937ff1row16_col6,#T_f11a33a4_506b_11eb_be60_cd4982937ff1row17_col6,#T_f11a33a4_506b_11eb_be60_cd4982937ff1row18_col6,#T_f11a33a4_506b_11eb_be60_cd4982937ff1row19_col6,#T_f11a33a4_506b_11eb_be60_cd4982937ff1row20_col6,#T_f11a33a4_506b_11eb_be60_cd4982937ff1row21_col6,#T_f11a33a4_506b_11eb_be60_cd4982937ff1row22_col6,#T_f11a33a4_506b_11eb_be60_cd4982937ff1row23_col6,#T_f11a33a4_506b_11eb_be60_cd4982937ff1row24_col6,#T_f11a33a4_506b_11eb_be60_cd4982937ff1row25_col6,#T_f11a33a4_506b_11eb_be60_cd4982937ff1row26_col6,#T_f11a33a4_506b_11eb_be60_cd4982937ff1row27_col6,#T_f11a33a4_506b_11eb_be60_cd4982937ff1row28_col6,#T_f11a33a4_506b_11eb_be60_cd4982937ff1row29_col6{\n",
       "            background-color:  red;\n",
       "        }#T_f11a33a4_506b_11eb_be60_cd4982937ff1row0_col7,#T_f11a33a4_506b_11eb_be60_cd4982937ff1row1_col7,#T_f11a33a4_506b_11eb_be60_cd4982937ff1row2_col7,#T_f11a33a4_506b_11eb_be60_cd4982937ff1row3_col7,#T_f11a33a4_506b_11eb_be60_cd4982937ff1row4_col7,#T_f11a33a4_506b_11eb_be60_cd4982937ff1row5_col7,#T_f11a33a4_506b_11eb_be60_cd4982937ff1row6_col7,#T_f11a33a4_506b_11eb_be60_cd4982937ff1row7_col7,#T_f11a33a4_506b_11eb_be60_cd4982937ff1row8_col7,#T_f11a33a4_506b_11eb_be60_cd4982937ff1row9_col7,#T_f11a33a4_506b_11eb_be60_cd4982937ff1row10_col7,#T_f11a33a4_506b_11eb_be60_cd4982937ff1row11_col7,#T_f11a33a4_506b_11eb_be60_cd4982937ff1row12_col7,#T_f11a33a4_506b_11eb_be60_cd4982937ff1row13_col7,#T_f11a33a4_506b_11eb_be60_cd4982937ff1row14_col7,#T_f11a33a4_506b_11eb_be60_cd4982937ff1row15_col7,#T_f11a33a4_506b_11eb_be60_cd4982937ff1row16_col7,#T_f11a33a4_506b_11eb_be60_cd4982937ff1row17_col7,#T_f11a33a4_506b_11eb_be60_cd4982937ff1row18_col7,#T_f11a33a4_506b_11eb_be60_cd4982937ff1row19_col7,#T_f11a33a4_506b_11eb_be60_cd4982937ff1row20_col7,#T_f11a33a4_506b_11eb_be60_cd4982937ff1row21_col7,#T_f11a33a4_506b_11eb_be60_cd4982937ff1row22_col7,#T_f11a33a4_506b_11eb_be60_cd4982937ff1row23_col7,#T_f11a33a4_506b_11eb_be60_cd4982937ff1row24_col7,#T_f11a33a4_506b_11eb_be60_cd4982937ff1row25_col7,#T_f11a33a4_506b_11eb_be60_cd4982937ff1row26_col7,#T_f11a33a4_506b_11eb_be60_cd4982937ff1row27_col7,#T_f11a33a4_506b_11eb_be60_cd4982937ff1row28_col7,#T_f11a33a4_506b_11eb_be60_cd4982937ff1row29_col7{\n",
       "            background-color:  green;\n",
       "        }</style><table id=\"T_f11a33a4_506b_11eb_be60_cd4982937ff1\" ><thead>    <tr>        <th class=\"blank level0\" ></th>        <th class=\"col_heading level0 col0\" >state</th>        <th class=\"col_heading level0 col1\" >county</th>        <th class=\"col_heading level0 col2\" >country</th>        <th class=\"col_heading level0 col3\" >lat</th>        <th class=\"col_heading level0 col4\" >long</th>        <th class=\"col_heading level0 col5\" >confirmed</th>        <th class=\"col_heading level0 col6\" >deaths</th>        <th class=\"col_heading level0 col7\" >active</th>        <th class=\"col_heading level0 col8\" >date</th>    </tr></thead><tbody>\n",
       "                <tr>\n",
       "                        <th id=\"T_f11a33a4_506b_11eb_be60_cd4982937ff1level0_row0\" class=\"row_heading level0 row0\" >205</th>\n",
       "                        <td id=\"T_f11a33a4_506b_11eb_be60_cd4982937ff1row0_col0\" class=\"data row0 col0\" >California</td>\n",
       "                        <td id=\"T_f11a33a4_506b_11eb_be60_cd4982937ff1row0_col1\" class=\"data row0 col1\" >Los Angeles</td>\n",
       "                        <td id=\"T_f11a33a4_506b_11eb_be60_cd4982937ff1row0_col2\" class=\"data row0 col2\" >US</td>\n",
       "                        <td id=\"T_f11a33a4_506b_11eb_be60_cd4982937ff1row0_col3\" class=\"data row0 col3\" >34.308284</td>\n",
       "                        <td id=\"T_f11a33a4_506b_11eb_be60_cd4982937ff1row0_col4\" class=\"data row0 col4\" >-118.228241</td>\n",
       "                        <td id=\"T_f11a33a4_506b_11eb_be60_cd4982937ff1row0_col5\" class=\"data row0 col5\" >841392</td>\n",
       "                        <td id=\"T_f11a33a4_506b_11eb_be60_cd4982937ff1row0_col6\" class=\"data row0 col6\" >11089</td>\n",
       "                        <td id=\"T_f11a33a4_506b_11eb_be60_cd4982937ff1row0_col7\" class=\"data row0 col7\" >830303</td>\n",
       "                        <td id=\"T_f11a33a4_506b_11eb_be60_cd4982937ff1row0_col8\" class=\"data row0 col8\" >2021/01/06 19:22:04+00</td>\n",
       "            </tr>\n",
       "            <tr>\n",
       "                        <th id=\"T_f11a33a4_506b_11eb_be60_cd4982937ff1level0_row1\" class=\"row_heading level0 row1\" >617</th>\n",
       "                        <td id=\"T_f11a33a4_506b_11eb_be60_cd4982937ff1row1_col0\" class=\"data row1 col0\" >Illinois</td>\n",
       "                        <td id=\"T_f11a33a4_506b_11eb_be60_cd4982937ff1row1_col1\" class=\"data row1 col1\" >Cook</td>\n",
       "                        <td id=\"T_f11a33a4_506b_11eb_be60_cd4982937ff1row1_col2\" class=\"data row1 col2\" >US</td>\n",
       "                        <td id=\"T_f11a33a4_506b_11eb_be60_cd4982937ff1row1_col3\" class=\"data row1 col3\" >41.841448</td>\n",
       "                        <td id=\"T_f11a33a4_506b_11eb_be60_cd4982937ff1row1_col4\" class=\"data row1 col4\" >-87.816588</td>\n",
       "                        <td id=\"T_f11a33a4_506b_11eb_be60_cd4982937ff1row1_col5\" class=\"data row1 col5\" >406674</td>\n",
       "                        <td id=\"T_f11a33a4_506b_11eb_be60_cd4982937ff1row1_col6\" class=\"data row1 col6\" >8574</td>\n",
       "                        <td id=\"T_f11a33a4_506b_11eb_be60_cd4982937ff1row1_col7\" class=\"data row1 col7\" >398100</td>\n",
       "                        <td id=\"T_f11a33a4_506b_11eb_be60_cd4982937ff1row1_col8\" class=\"data row1 col8\" >2021/01/06 19:22:04+00</td>\n",
       "            </tr>\n",
       "            <tr>\n",
       "                        <th id=\"T_f11a33a4_506b_11eb_be60_cd4982937ff1level0_row2\" class=\"row_heading level0 row2\" >102</th>\n",
       "                        <td id=\"T_f11a33a4_506b_11eb_be60_cd4982937ff1row2_col0\" class=\"data row2 col0\" >Arizona</td>\n",
       "                        <td id=\"T_f11a33a4_506b_11eb_be60_cd4982937ff1row2_col1\" class=\"data row2 col1\" >Maricopa</td>\n",
       "                        <td id=\"T_f11a33a4_506b_11eb_be60_cd4982937ff1row2_col2\" class=\"data row2 col2\" >US</td>\n",
       "                        <td id=\"T_f11a33a4_506b_11eb_be60_cd4982937ff1row2_col3\" class=\"data row2 col3\" >33.348359</td>\n",
       "                        <td id=\"T_f11a33a4_506b_11eb_be60_cd4982937ff1row2_col4\" class=\"data row2 col4\" >-112.491815</td>\n",
       "                        <td id=\"T_f11a33a4_506b_11eb_be60_cd4982937ff1row2_col5\" class=\"data row2 col5\" >349852</td>\n",
       "                        <td id=\"T_f11a33a4_506b_11eb_be60_cd4982937ff1row2_col6\" class=\"data row2 col6\" >5346</td>\n",
       "                        <td id=\"T_f11a33a4_506b_11eb_be60_cd4982937ff1row2_col7\" class=\"data row2 col7\" >344506</td>\n",
       "                        <td id=\"T_f11a33a4_506b_11eb_be60_cd4982937ff1row2_col8\" class=\"data row2 col8\" >2021/01/06 19:22:04+00</td>\n",
       "            </tr>\n",
       "            <tr>\n",
       "                        <th id=\"T_f11a33a4_506b_11eb_be60_cd4982937ff1level0_row3\" class=\"row_heading level0 row3\" >366</th>\n",
       "                        <td id=\"T_f11a33a4_506b_11eb_be60_cd4982937ff1row3_col0\" class=\"data row3 col0\" >Florida</td>\n",
       "                        <td id=\"T_f11a33a4_506b_11eb_be60_cd4982937ff1row3_col1\" class=\"data row3 col1\" >Miami-Dade</td>\n",
       "                        <td id=\"T_f11a33a4_506b_11eb_be60_cd4982937ff1row3_col2\" class=\"data row3 col2\" >US</td>\n",
       "                        <td id=\"T_f11a33a4_506b_11eb_be60_cd4982937ff1row3_col3\" class=\"data row3 col3\" >25.611236</td>\n",
       "                        <td id=\"T_f11a33a4_506b_11eb_be60_cd4982937ff1row3_col4\" class=\"data row3 col4\" >-80.551706</td>\n",
       "                        <td id=\"T_f11a33a4_506b_11eb_be60_cd4982937ff1row3_col5\" class=\"data row3 col5\" >314742</td>\n",
       "                        <td id=\"T_f11a33a4_506b_11eb_be60_cd4982937ff1row3_col6\" class=\"data row3 col6\" >4260</td>\n",
       "                        <td id=\"T_f11a33a4_506b_11eb_be60_cd4982937ff1row3_col7\" class=\"data row3 col7\" >310482</td>\n",
       "                        <td id=\"T_f11a33a4_506b_11eb_be60_cd4982937ff1row3_col8\" class=\"data row3 col8\" >2021/01/06 19:22:04+00</td>\n",
       "            </tr>\n",
       "            <tr>\n",
       "                        <th id=\"T_f11a33a4_506b_11eb_be60_cd4982937ff1level0_row4\" class=\"row_heading level0 row4\" >2731</th>\n",
       "                        <td id=\"T_f11a33a4_506b_11eb_be60_cd4982937ff1row4_col0\" class=\"data row4 col0\" >Texas</td>\n",
       "                        <td id=\"T_f11a33a4_506b_11eb_be60_cd4982937ff1row4_col1\" class=\"data row4 col1\" >Harris</td>\n",
       "                        <td id=\"T_f11a33a4_506b_11eb_be60_cd4982937ff1row4_col2\" class=\"data row4 col2\" >US</td>\n",
       "                        <td id=\"T_f11a33a4_506b_11eb_be60_cd4982937ff1row4_col3\" class=\"data row4 col3\" >29.858649</td>\n",
       "                        <td id=\"T_f11a33a4_506b_11eb_be60_cd4982937ff1row4_col4\" class=\"data row4 col4\" >-95.393395</td>\n",
       "                        <td id=\"T_f11a33a4_506b_11eb_be60_cd4982937ff1row4_col5\" class=\"data row4 col5\" >249488</td>\n",
       "                        <td id=\"T_f11a33a4_506b_11eb_be60_cd4982937ff1row4_col6\" class=\"data row4 col6\" >3453</td>\n",
       "                        <td id=\"T_f11a33a4_506b_11eb_be60_cd4982937ff1row4_col7\" class=\"data row4 col7\" >246035</td>\n",
       "                        <td id=\"T_f11a33a4_506b_11eb_be60_cd4982937ff1row4_col8\" class=\"data row4 col8\" >2021/01/06 19:22:04+00</td>\n",
       "            </tr>\n",
       "            <tr>\n",
       "                        <th id=\"T_f11a33a4_506b_11eb_be60_cd4982937ff1level0_row5\" class=\"row_heading level0 row5\" >222</th>\n",
       "                        <td id=\"T_f11a33a4_506b_11eb_be60_cd4982937ff1row5_col0\" class=\"data row5 col0\" >California</td>\n",
       "                        <td id=\"T_f11a33a4_506b_11eb_be60_cd4982937ff1row5_col1\" class=\"data row5 col1\" >San Bernardino</td>\n",
       "                        <td id=\"T_f11a33a4_506b_11eb_be60_cd4982937ff1row5_col2\" class=\"data row5 col2\" >US</td>\n",
       "                        <td id=\"T_f11a33a4_506b_11eb_be60_cd4982937ff1row5_col3\" class=\"data row5 col3\" >34.840603</td>\n",
       "                        <td id=\"T_f11a33a4_506b_11eb_be60_cd4982937ff1row5_col4\" class=\"data row5 col4\" >-116.177469</td>\n",
       "                        <td id=\"T_f11a33a4_506b_11eb_be60_cd4982937ff1row5_col5\" class=\"data row5 col5\" >214813</td>\n",
       "                        <td id=\"T_f11a33a4_506b_11eb_be60_cd4982937ff1row5_col6\" class=\"data row5 col6\" >1454</td>\n",
       "                        <td id=\"T_f11a33a4_506b_11eb_be60_cd4982937ff1row5_col7\" class=\"data row5 col7\" >213359</td>\n",
       "                        <td id=\"T_f11a33a4_506b_11eb_be60_cd4982937ff1row5_col8\" class=\"data row5 col8\" >2021/01/06 19:22:04+00</td>\n",
       "            </tr>\n",
       "            <tr>\n",
       "                        <th id=\"T_f11a33a4_506b_11eb_be60_cd4982937ff1level0_row6\" class=\"row_heading level0 row6\" >2687</th>\n",
       "                        <td id=\"T_f11a33a4_506b_11eb_be60_cd4982937ff1row6_col0\" class=\"data row6 col0\" >Texas</td>\n",
       "                        <td id=\"T_f11a33a4_506b_11eb_be60_cd4982937ff1row6_col1\" class=\"data row6 col1\" >Dallas</td>\n",
       "                        <td id=\"T_f11a33a4_506b_11eb_be60_cd4982937ff1row6_col2\" class=\"data row6 col2\" >US</td>\n",
       "                        <td id=\"T_f11a33a4_506b_11eb_be60_cd4982937ff1row6_col3\" class=\"data row6 col3\" >32.766706</td>\n",
       "                        <td id=\"T_f11a33a4_506b_11eb_be60_cd4982937ff1row6_col4\" class=\"data row6 col4\" >-96.777960</td>\n",
       "                        <td id=\"T_f11a33a4_506b_11eb_be60_cd4982937ff1row6_col5\" class=\"data row6 col5\" >204374</td>\n",
       "                        <td id=\"T_f11a33a4_506b_11eb_be60_cd4982937ff1row6_col6\" class=\"data row6 col6\" >2087</td>\n",
       "                        <td id=\"T_f11a33a4_506b_11eb_be60_cd4982937ff1row6_col7\" class=\"data row6 col7\" >202287</td>\n",
       "                        <td id=\"T_f11a33a4_506b_11eb_be60_cd4982937ff1row6_col8\" class=\"data row6 col8\" >2021/01/06 19:22:04+00</td>\n",
       "            </tr>\n",
       "            <tr>\n",
       "                        <th id=\"T_f11a33a4_506b_11eb_be60_cd4982937ff1level0_row7\" class=\"row_heading level0 row7\" >219</th>\n",
       "                        <td id=\"T_f11a33a4_506b_11eb_be60_cd4982937ff1row7_col0\" class=\"data row7 col0\" >California</td>\n",
       "                        <td id=\"T_f11a33a4_506b_11eb_be60_cd4982937ff1row7_col1\" class=\"data row7 col1\" >Riverside</td>\n",
       "                        <td id=\"T_f11a33a4_506b_11eb_be60_cd4982937ff1row7_col2\" class=\"data row7 col2\" >US</td>\n",
       "                        <td id=\"T_f11a33a4_506b_11eb_be60_cd4982937ff1row7_col3\" class=\"data row7 col3\" >33.743150</td>\n",
       "                        <td id=\"T_f11a33a4_506b_11eb_be60_cd4982937ff1row7_col4\" class=\"data row7 col4\" >-115.993358</td>\n",
       "                        <td id=\"T_f11a33a4_506b_11eb_be60_cd4982937ff1row7_col5\" class=\"data row7 col5\" >200439</td>\n",
       "                        <td id=\"T_f11a33a4_506b_11eb_be60_cd4982937ff1row7_col6\" class=\"data row7 col6\" >2098</td>\n",
       "                        <td id=\"T_f11a33a4_506b_11eb_be60_cd4982937ff1row7_col7\" class=\"data row7 col7\" >198341</td>\n",
       "                        <td id=\"T_f11a33a4_506b_11eb_be60_cd4982937ff1row7_col8\" class=\"data row7 col8\" >2021/01/06 19:22:04+00</td>\n",
       "            </tr>\n",
       "            <tr>\n",
       "                        <th id=\"T_f11a33a4_506b_11eb_be60_cd4982937ff1level0_row8\" class=\"row_heading level0 row8\" >1768</th>\n",
       "                        <td id=\"T_f11a33a4_506b_11eb_be60_cd4982937ff1row8_col0\" class=\"data row8 col0\" >Nevada</td>\n",
       "                        <td id=\"T_f11a33a4_506b_11eb_be60_cd4982937ff1row8_col1\" class=\"data row8 col1\" >Clark</td>\n",
       "                        <td id=\"T_f11a33a4_506b_11eb_be60_cd4982937ff1row8_col2\" class=\"data row8 col2\" >US</td>\n",
       "                        <td id=\"T_f11a33a4_506b_11eb_be60_cd4982937ff1row8_col3\" class=\"data row8 col3\" >36.214589</td>\n",
       "                        <td id=\"T_f11a33a4_506b_11eb_be60_cd4982937ff1row8_col4\" class=\"data row8 col4\" >-115.013024</td>\n",
       "                        <td id=\"T_f11a33a4_506b_11eb_be60_cd4982937ff1row8_col5\" class=\"data row8 col5\" >180524</td>\n",
       "                        <td id=\"T_f11a33a4_506b_11eb_be60_cd4982937ff1row8_col6\" class=\"data row8 col6\" >2496</td>\n",
       "                        <td id=\"T_f11a33a4_506b_11eb_be60_cd4982937ff1row8_col7\" class=\"data row8 col7\" >178028</td>\n",
       "                        <td id=\"T_f11a33a4_506b_11eb_be60_cd4982937ff1row8_col8\" class=\"data row8 col8\" >2021/01/06 19:22:04+00</td>\n",
       "            </tr>\n",
       "            <tr>\n",
       "                        <th id=\"T_f11a33a4_506b_11eb_be60_cd4982937ff1level0_row9\" class=\"row_heading level0 row9\" >216</th>\n",
       "                        <td id=\"T_f11a33a4_506b_11eb_be60_cd4982937ff1row9_col0\" class=\"data row9 col0\" >California</td>\n",
       "                        <td id=\"T_f11a33a4_506b_11eb_be60_cd4982937ff1row9_col1\" class=\"data row9 col1\" >Orange</td>\n",
       "                        <td id=\"T_f11a33a4_506b_11eb_be60_cd4982937ff1row9_col2\" class=\"data row9 col2\" >US</td>\n",
       "                        <td id=\"T_f11a33a4_506b_11eb_be60_cd4982937ff1row9_col3\" class=\"data row9 col3\" >33.701475</td>\n",
       "                        <td id=\"T_f11a33a4_506b_11eb_be60_cd4982937ff1row9_col4\" class=\"data row9 col4\" >-117.764600</td>\n",
       "                        <td id=\"T_f11a33a4_506b_11eb_be60_cd4982937ff1row9_col5\" class=\"data row9 col5\" >174869</td>\n",
       "                        <td id=\"T_f11a33a4_506b_11eb_be60_cd4982937ff1row9_col6\" class=\"data row9 col6\" >1926</td>\n",
       "                        <td id=\"T_f11a33a4_506b_11eb_be60_cd4982937ff1row9_col7\" class=\"data row9 col7\" >172943</td>\n",
       "                        <td id=\"T_f11a33a4_506b_11eb_be60_cd4982937ff1row9_col8\" class=\"data row9 col8\" >2021/01/06 19:22:04+00</td>\n",
       "            </tr>\n",
       "            <tr>\n",
       "                        <th id=\"T_f11a33a4_506b_11eb_be60_cd4982937ff1level0_row10\" class=\"row_heading level0 row10\" >223</th>\n",
       "                        <td id=\"T_f11a33a4_506b_11eb_be60_cd4982937ff1row10_col0\" class=\"data row10 col0\" >California</td>\n",
       "                        <td id=\"T_f11a33a4_506b_11eb_be60_cd4982937ff1row10_col1\" class=\"data row10 col1\" >San Diego</td>\n",
       "                        <td id=\"T_f11a33a4_506b_11eb_be60_cd4982937ff1row10_col2\" class=\"data row10 col2\" >US</td>\n",
       "                        <td id=\"T_f11a33a4_506b_11eb_be60_cd4982937ff1row10_col3\" class=\"data row10 col3\" >33.034846</td>\n",
       "                        <td id=\"T_f11a33a4_506b_11eb_be60_cd4982937ff1row10_col4\" class=\"data row10 col4\" >-116.736533</td>\n",
       "                        <td id=\"T_f11a33a4_506b_11eb_be60_cd4982937ff1row10_col5\" class=\"data row10 col5\" >172847</td>\n",
       "                        <td id=\"T_f11a33a4_506b_11eb_be60_cd4982937ff1row10_col6\" class=\"data row10 col6\" >1654</td>\n",
       "                        <td id=\"T_f11a33a4_506b_11eb_be60_cd4982937ff1row10_col7\" class=\"data row10 col7\" >171193</td>\n",
       "                        <td id=\"T_f11a33a4_506b_11eb_be60_cd4982937ff1row10_col8\" class=\"data row10 col8\" >2021/01/06 19:22:04+00</td>\n",
       "            </tr>\n",
       "            <tr>\n",
       "                        <th id=\"T_f11a33a4_506b_11eb_be60_cd4982937ff1level0_row11\" class=\"row_heading level0 row11\" >2850</th>\n",
       "                        <td id=\"T_f11a33a4_506b_11eb_be60_cd4982937ff1row11_col0\" class=\"data row11 col0\" >Texas</td>\n",
       "                        <td id=\"T_f11a33a4_506b_11eb_be60_cd4982937ff1row11_col1\" class=\"data row11 col1\" >Tarrant</td>\n",
       "                        <td id=\"T_f11a33a4_506b_11eb_be60_cd4982937ff1row11_col2\" class=\"data row11 col2\" >US</td>\n",
       "                        <td id=\"T_f11a33a4_506b_11eb_be60_cd4982937ff1row11_col3\" class=\"data row11 col3\" >32.771438</td>\n",
       "                        <td id=\"T_f11a33a4_506b_11eb_be60_cd4982937ff1row11_col4\" class=\"data row11 col4\" >-97.291016</td>\n",
       "                        <td id=\"T_f11a33a4_506b_11eb_be60_cd4982937ff1row11_col5\" class=\"data row11 col5\" >161878</td>\n",
       "                        <td id=\"T_f11a33a4_506b_11eb_be60_cd4982937ff1row11_col6\" class=\"data row11 col6\" >1550</td>\n",
       "                        <td id=\"T_f11a33a4_506b_11eb_be60_cd4982937ff1row11_col7\" class=\"data row11 col7\" >160328</td>\n",
       "                        <td id=\"T_f11a33a4_506b_11eb_be60_cd4982937ff1row11_col8\" class=\"data row11 col8\" >2021/01/06 19:22:04+00</td>\n",
       "            </tr>\n",
       "            <tr>\n",
       "                        <th id=\"T_f11a33a4_506b_11eb_be60_cd4982937ff1level0_row12\" class=\"row_heading level0 row12\" >329</th>\n",
       "                        <td id=\"T_f11a33a4_506b_11eb_be60_cd4982937ff1row12_col0\" class=\"data row12 col0\" >Florida</td>\n",
       "                        <td id=\"T_f11a33a4_506b_11eb_be60_cd4982937ff1row12_col1\" class=\"data row12 col1\" >Broward</td>\n",
       "                        <td id=\"T_f11a33a4_506b_11eb_be60_cd4982937ff1row12_col2\" class=\"data row12 col2\" >US</td>\n",
       "                        <td id=\"T_f11a33a4_506b_11eb_be60_cd4982937ff1row12_col3\" class=\"data row12 col3\" >26.151847</td>\n",
       "                        <td id=\"T_f11a33a4_506b_11eb_be60_cd4982937ff1row12_col4\" class=\"data row12 col4\" >-80.487256</td>\n",
       "                        <td id=\"T_f11a33a4_506b_11eb_be60_cd4982937ff1row12_col5\" class=\"data row12 col5\" >144590</td>\n",
       "                        <td id=\"T_f11a33a4_506b_11eb_be60_cd4982937ff1row12_col6\" class=\"data row12 col6\" >1890</td>\n",
       "                        <td id=\"T_f11a33a4_506b_11eb_be60_cd4982937ff1row12_col7\" class=\"data row12 col7\" >142700</td>\n",
       "                        <td id=\"T_f11a33a4_506b_11eb_be60_cd4982937ff1row12_col8\" class=\"data row12 col8\" >2021/01/06 19:22:04+00</td>\n",
       "            </tr>\n",
       "            <tr>\n",
       "                        <th id=\"T_f11a33a4_506b_11eb_be60_cd4982937ff1level0_row13\" class=\"row_heading level0 row13\" >1890</th>\n",
       "                        <td id=\"T_f11a33a4_506b_11eb_be60_cd4982937ff1row13_col0\" class=\"data row13 col0\" >New York</td>\n",
       "                        <td id=\"T_f11a33a4_506b_11eb_be60_cd4982937ff1row13_col1\" class=\"data row13 col1\" >Queens</td>\n",
       "                        <td id=\"T_f11a33a4_506b_11eb_be60_cd4982937ff1row13_col2\" class=\"data row13 col2\" >US</td>\n",
       "                        <td id=\"T_f11a33a4_506b_11eb_be60_cd4982937ff1row13_col3\" class=\"data row13 col3\" >40.710881</td>\n",
       "                        <td id=\"T_f11a33a4_506b_11eb_be60_cd4982937ff1row13_col4\" class=\"data row13 col4\" >-73.816847</td>\n",
       "                        <td id=\"T_f11a33a4_506b_11eb_be60_cd4982937ff1row13_col5\" class=\"data row13 col5\" >134670</td>\n",
       "                        <td id=\"T_f11a33a4_506b_11eb_be60_cd4982937ff1row13_col6\" class=\"data row13 col6\" >7602</td>\n",
       "                        <td id=\"T_f11a33a4_506b_11eb_be60_cd4982937ff1row13_col7\" class=\"data row13 col7\" >127068</td>\n",
       "                        <td id=\"T_f11a33a4_506b_11eb_be60_cd4982937ff1row13_col8\" class=\"data row13 col8\" >2021/01/06 19:22:04+00</td>\n",
       "            </tr>\n",
       "            <tr>\n",
       "                        <th id=\"T_f11a33a4_506b_11eb_be60_cd4982937ff1level0_row14\" class=\"row_heading level0 row14\" >1873</th>\n",
       "                        <td id=\"T_f11a33a4_506b_11eb_be60_cd4982937ff1row14_col0\" class=\"data row14 col0\" >New York</td>\n",
       "                        <td id=\"T_f11a33a4_506b_11eb_be60_cd4982937ff1row14_col1\" class=\"data row14 col1\" >Kings</td>\n",
       "                        <td id=\"T_f11a33a4_506b_11eb_be60_cd4982937ff1row14_col2\" class=\"data row14 col2\" >US</td>\n",
       "                        <td id=\"T_f11a33a4_506b_11eb_be60_cd4982937ff1row14_col3\" class=\"data row14 col3\" >40.636183</td>\n",
       "                        <td id=\"T_f11a33a4_506b_11eb_be60_cd4982937ff1row14_col4\" class=\"data row14 col4\" >-73.949356</td>\n",
       "                        <td id=\"T_f11a33a4_506b_11eb_be60_cd4982937ff1row14_col5\" class=\"data row14 col5\" >132075</td>\n",
       "                        <td id=\"T_f11a33a4_506b_11eb_be60_cd4982937ff1row14_col6\" class=\"data row14 col6\" >7807</td>\n",
       "                        <td id=\"T_f11a33a4_506b_11eb_be60_cd4982937ff1row14_col7\" class=\"data row14 col7\" >124268</td>\n",
       "                        <td id=\"T_f11a33a4_506b_11eb_be60_cd4982937ff1row14_col8\" class=\"data row14 col8\" >2021/01/06 19:22:04+00</td>\n",
       "            </tr>\n",
       "            <tr>\n",
       "                        <th id=\"T_f11a33a4_506b_11eb_be60_cd4982937ff1level0_row15\" class=\"row_heading level0 row15\" >2645</th>\n",
       "                        <td id=\"T_f11a33a4_506b_11eb_be60_cd4982937ff1row15_col0\" class=\"data row15 col0\" >Texas</td>\n",
       "                        <td id=\"T_f11a33a4_506b_11eb_be60_cd4982937ff1row15_col1\" class=\"data row15 col1\" >Bexar</td>\n",
       "                        <td id=\"T_f11a33a4_506b_11eb_be60_cd4982937ff1row15_col2\" class=\"data row15 col2\" >US</td>\n",
       "                        <td id=\"T_f11a33a4_506b_11eb_be60_cd4982937ff1row15_col3\" class=\"data row15 col3\" >29.449287</td>\n",
       "                        <td id=\"T_f11a33a4_506b_11eb_be60_cd4982937ff1row15_col4\" class=\"data row15 col4\" >-98.520197</td>\n",
       "                        <td id=\"T_f11a33a4_506b_11eb_be60_cd4982937ff1row15_col5\" class=\"data row15 col5\" >124800</td>\n",
       "                        <td id=\"T_f11a33a4_506b_11eb_be60_cd4982937ff1row15_col6\" class=\"data row15 col6\" >1758</td>\n",
       "                        <td id=\"T_f11a33a4_506b_11eb_be60_cd4982937ff1row15_col7\" class=\"data row15 col7\" >123042</td>\n",
       "                        <td id=\"T_f11a33a4_506b_11eb_be60_cd4982937ff1row15_col8\" class=\"data row15 col8\" >2021/01/06 19:22:04+00</td>\n",
       "            </tr>\n",
       "            <tr>\n",
       "                        <th id=\"T_f11a33a4_506b_11eb_be60_cd4982937ff1level0_row16\" class=\"row_heading level0 row16\" >2888</th>\n",
       "                        <td id=\"T_f11a33a4_506b_11eb_be60_cd4982937ff1row16_col0\" class=\"data row16 col0\" >Utah</td>\n",
       "                        <td id=\"T_f11a33a4_506b_11eb_be60_cd4982937ff1row16_col1\" class=\"data row16 col1\" >Salt Lake</td>\n",
       "                        <td id=\"T_f11a33a4_506b_11eb_be60_cd4982937ff1row16_col2\" class=\"data row16 col2\" >US</td>\n",
       "                        <td id=\"T_f11a33a4_506b_11eb_be60_cd4982937ff1row16_col3\" class=\"data row16 col3\" >40.666165</td>\n",
       "                        <td id=\"T_f11a33a4_506b_11eb_be60_cd4982937ff1row16_col4\" class=\"data row16 col4\" >-111.921601</td>\n",
       "                        <td id=\"T_f11a33a4_506b_11eb_be60_cd4982937ff1row16_col5\" class=\"data row16 col5\" >111389</td>\n",
       "                        <td id=\"T_f11a33a4_506b_11eb_be60_cd4982937ff1row16_col6\" class=\"data row16 col6\" >563</td>\n",
       "                        <td id=\"T_f11a33a4_506b_11eb_be60_cd4982937ff1row16_col7\" class=\"data row16 col7\" >110826</td>\n",
       "                        <td id=\"T_f11a33a4_506b_11eb_be60_cd4982937ff1row16_col8\" class=\"data row16 col8\" >2021/01/06 19:22:04+00</td>\n",
       "            </tr>\n",
       "            <tr>\n",
       "                        <th id=\"T_f11a33a4_506b_11eb_be60_cd4982937ff1level0_row17\" class=\"row_heading level0 row17\" >1901</th>\n",
       "                        <td id=\"T_f11a33a4_506b_11eb_be60_cd4982937ff1row17_col0\" class=\"data row17 col0\" >New York</td>\n",
       "                        <td id=\"T_f11a33a4_506b_11eb_be60_cd4982937ff1row17_col1\" class=\"data row17 col1\" >Suffolk</td>\n",
       "                        <td id=\"T_f11a33a4_506b_11eb_be60_cd4982937ff1row17_col2\" class=\"data row17 col2\" >US</td>\n",
       "                        <td id=\"T_f11a33a4_506b_11eb_be60_cd4982937ff1row17_col3\" class=\"data row17 col3\" >40.883201</td>\n",
       "                        <td id=\"T_f11a33a4_506b_11eb_be60_cd4982937ff1row17_col4\" class=\"data row17 col4\" >-72.801217</td>\n",
       "                        <td id=\"T_f11a33a4_506b_11eb_be60_cd4982937ff1row17_col5\" class=\"data row17 col5\" >106061</td>\n",
       "                        <td id=\"T_f11a33a4_506b_11eb_be60_cd4982937ff1row17_col6\" class=\"data row17 col6\" >2388</td>\n",
       "                        <td id=\"T_f11a33a4_506b_11eb_be60_cd4982937ff1row17_col7\" class=\"data row17 col7\" >103673</td>\n",
       "                        <td id=\"T_f11a33a4_506b_11eb_be60_cd4982937ff1row17_col8\" class=\"data row17 col8\" >2021/01/06 19:22:04+00</td>\n",
       "            </tr>\n",
       "            <tr>\n",
       "                        <th id=\"T_f11a33a4_506b_11eb_be60_cd4982937ff1level0_row18\" class=\"row_heading level0 row18\" >2700</th>\n",
       "                        <td id=\"T_f11a33a4_506b_11eb_be60_cd4982937ff1row18_col0\" class=\"data row18 col0\" >Texas</td>\n",
       "                        <td id=\"T_f11a33a4_506b_11eb_be60_cd4982937ff1row18_col1\" class=\"data row18 col1\" >El Paso</td>\n",
       "                        <td id=\"T_f11a33a4_506b_11eb_be60_cd4982937ff1row18_col2\" class=\"data row18 col2\" >US</td>\n",
       "                        <td id=\"T_f11a33a4_506b_11eb_be60_cd4982937ff1row18_col3\" class=\"data row18 col3\" >31.769808</td>\n",
       "                        <td id=\"T_f11a33a4_506b_11eb_be60_cd4982937ff1row18_col4\" class=\"data row18 col4\" >-106.236327</td>\n",
       "                        <td id=\"T_f11a33a4_506b_11eb_be60_cd4982937ff1row18_col5\" class=\"data row18 col5\" >100944</td>\n",
       "                        <td id=\"T_f11a33a4_506b_11eb_be60_cd4982937ff1row18_col6\" class=\"data row18 col6\" >1714</td>\n",
       "                        <td id=\"T_f11a33a4_506b_11eb_be60_cd4982937ff1row18_col7\" class=\"data row18 col7\" >99230</td>\n",
       "                        <td id=\"T_f11a33a4_506b_11eb_be60_cd4982937ff1row18_col8\" class=\"data row18 col8\" >2021/01/06 19:22:04+00</td>\n",
       "            </tr>\n",
       "            <tr>\n",
       "                        <th id=\"T_f11a33a4_506b_11eb_be60_cd4982937ff1level0_row19\" class=\"row_heading level0 row19\" >2319</th>\n",
       "                        <td id=\"T_f11a33a4_506b_11eb_be60_cd4982937ff1row19_col0\" class=\"data row19 col0\" >Pennsylvania</td>\n",
       "                        <td id=\"T_f11a33a4_506b_11eb_be60_cd4982937ff1row19_col1\" class=\"data row19 col1\" >Philadelphia</td>\n",
       "                        <td id=\"T_f11a33a4_506b_11eb_be60_cd4982937ff1row19_col2\" class=\"data row19 col2\" >US</td>\n",
       "                        <td id=\"T_f11a33a4_506b_11eb_be60_cd4982937ff1row19_col3\" class=\"data row19 col3\" >40.003385</td>\n",
       "                        <td id=\"T_f11a33a4_506b_11eb_be60_cd4982937ff1row19_col4\" class=\"data row19 col4\" >-75.137927</td>\n",
       "                        <td id=\"T_f11a33a4_506b_11eb_be60_cd4982937ff1row19_col5\" class=\"data row19 col5\" >97099</td>\n",
       "                        <td id=\"T_f11a33a4_506b_11eb_be60_cd4982937ff1row19_col6\" class=\"data row19 col6\" >2553</td>\n",
       "                        <td id=\"T_f11a33a4_506b_11eb_be60_cd4982937ff1row19_col7\" class=\"data row19 col7\" >94546</td>\n",
       "                        <td id=\"T_f11a33a4_506b_11eb_be60_cd4982937ff1row19_col8\" class=\"data row19 col8\" >2021/01/06 19:22:04+00</td>\n",
       "            </tr>\n",
       "            <tr>\n",
       "                        <th id=\"T_f11a33a4_506b_11eb_be60_cd4982937ff1level0_row20\" class=\"row_heading level0 row20\" >1879</th>\n",
       "                        <td id=\"T_f11a33a4_506b_11eb_be60_cd4982937ff1row20_col0\" class=\"data row20 col0\" >New York</td>\n",
       "                        <td id=\"T_f11a33a4_506b_11eb_be60_cd4982937ff1row20_col1\" class=\"data row20 col1\" >Nassau</td>\n",
       "                        <td id=\"T_f11a33a4_506b_11eb_be60_cd4982937ff1row20_col2\" class=\"data row20 col2\" >US</td>\n",
       "                        <td id=\"T_f11a33a4_506b_11eb_be60_cd4982937ff1row20_col3\" class=\"data row20 col3\" >40.740665</td>\n",
       "                        <td id=\"T_f11a33a4_506b_11eb_be60_cd4982937ff1row20_col4\" class=\"data row20 col4\" >-73.589419</td>\n",
       "                        <td id=\"T_f11a33a4_506b_11eb_be60_cd4982937ff1row20_col5\" class=\"data row20 col5\" >96112</td>\n",
       "                        <td id=\"T_f11a33a4_506b_11eb_be60_cd4982937ff1row20_col6\" class=\"data row20 col6\" >2445</td>\n",
       "                        <td id=\"T_f11a33a4_506b_11eb_be60_cd4982937ff1row20_col7\" class=\"data row20 col7\" >93667</td>\n",
       "                        <td id=\"T_f11a33a4_506b_11eb_be60_cd4982937ff1row20_col8\" class=\"data row20 col8\" >2021/01/06 19:22:04+00</td>\n",
       "            </tr>\n",
       "            <tr>\n",
       "                        <th id=\"T_f11a33a4_506b_11eb_be60_cd4982937ff1level0_row21\" class=\"row_heading level0 row21\" >3181</th>\n",
       "                        <td id=\"T_f11a33a4_506b_11eb_be60_cd4982937ff1row21_col0\" class=\"data row21 col0\" >Wisconsin</td>\n",
       "                        <td id=\"T_f11a33a4_506b_11eb_be60_cd4982937ff1row21_col1\" class=\"data row21 col1\" >Milwaukee</td>\n",
       "                        <td id=\"T_f11a33a4_506b_11eb_be60_cd4982937ff1row21_col2\" class=\"data row21 col2\" >US</td>\n",
       "                        <td id=\"T_f11a33a4_506b_11eb_be60_cd4982937ff1row21_col3\" class=\"data row21 col3\" >43.004861</td>\n",
       "                        <td id=\"T_f11a33a4_506b_11eb_be60_cd4982937ff1row21_col4\" class=\"data row21 col4\" >-87.967332</td>\n",
       "                        <td id=\"T_f11a33a4_506b_11eb_be60_cd4982937ff1row21_col5\" class=\"data row21 col5\" >93509</td>\n",
       "                        <td id=\"T_f11a33a4_506b_11eb_be60_cd4982937ff1row21_col6\" class=\"data row21 col6\" >1008</td>\n",
       "                        <td id=\"T_f11a33a4_506b_11eb_be60_cd4982937ff1row21_col7\" class=\"data row21 col7\" >92501</td>\n",
       "                        <td id=\"T_f11a33a4_506b_11eb_be60_cd4982937ff1row21_col8\" class=\"data row21 col8\" >2021/01/06 19:22:04+00</td>\n",
       "            </tr>\n",
       "            <tr>\n",
       "                        <th id=\"T_f11a33a4_506b_11eb_be60_cd4982937ff1level0_row22\" class=\"row_heading level0 row22\" >1852</th>\n",
       "                        <td id=\"T_f11a33a4_506b_11eb_be60_cd4982937ff1row22_col0\" class=\"data row22 col0\" >New York</td>\n",
       "                        <td id=\"T_f11a33a4_506b_11eb_be60_cd4982937ff1row22_col1\" class=\"data row22 col1\" >Bronx</td>\n",
       "                        <td id=\"T_f11a33a4_506b_11eb_be60_cd4982937ff1row22_col2\" class=\"data row22 col2\" >US</td>\n",
       "                        <td id=\"T_f11a33a4_506b_11eb_be60_cd4982937ff1row22_col3\" class=\"data row22 col3\" >40.852093</td>\n",
       "                        <td id=\"T_f11a33a4_506b_11eb_be60_cd4982937ff1row22_col4\" class=\"data row22 col4\" >-73.862828</td>\n",
       "                        <td id=\"T_f11a33a4_506b_11eb_be60_cd4982937ff1row22_col5\" class=\"data row22 col5\" >90958</td>\n",
       "                        <td id=\"T_f11a33a4_506b_11eb_be60_cd4982937ff1row22_col6\" class=\"data row22 col6\" >5165</td>\n",
       "                        <td id=\"T_f11a33a4_506b_11eb_be60_cd4982937ff1row22_col7\" class=\"data row22 col7\" >85793</td>\n",
       "                        <td id=\"T_f11a33a4_506b_11eb_be60_cd4982937ff1row22_col8\" class=\"data row22 col8\" >2021/01/06 19:22:04+00</td>\n",
       "            </tr>\n",
       "            <tr>\n",
       "                        <th id=\"T_f11a33a4_506b_11eb_be60_cd4982937ff1level0_row23\" class=\"row_heading level0 row23\" >1356</th>\n",
       "                        <td id=\"T_f11a33a4_506b_11eb_be60_cd4982937ff1row23_col0\" class=\"data row23 col0\" >Minnesota</td>\n",
       "                        <td id=\"T_f11a33a4_506b_11eb_be60_cd4982937ff1row23_col1\" class=\"data row23 col1\" >Hennepin</td>\n",
       "                        <td id=\"T_f11a33a4_506b_11eb_be60_cd4982937ff1row23_col2\" class=\"data row23 col2\" >US</td>\n",
       "                        <td id=\"T_f11a33a4_506b_11eb_be60_cd4982937ff1row23_col3\" class=\"data row23 col3\" >45.007615</td>\n",
       "                        <td id=\"T_f11a33a4_506b_11eb_be60_cd4982937ff1row23_col4\" class=\"data row23 col4\" >-93.476949</td>\n",
       "                        <td id=\"T_f11a33a4_506b_11eb_be60_cd4982937ff1row23_col5\" class=\"data row23 col5\" >88832</td>\n",
       "                        <td id=\"T_f11a33a4_506b_11eb_be60_cd4982937ff1row23_col6\" class=\"data row23 col6\" >1417</td>\n",
       "                        <td id=\"T_f11a33a4_506b_11eb_be60_cd4982937ff1row23_col7\" class=\"data row23 col7\" >87415</td>\n",
       "                        <td id=\"T_f11a33a4_506b_11eb_be60_cd4982937ff1row23_col8\" class=\"data row23 col8\" >2021/01/06 19:22:04+00</td>\n",
       "            </tr>\n",
       "            <tr>\n",
       "                        <th id=\"T_f11a33a4_506b_11eb_be60_cd4982937ff1level0_row24\" class=\"row_heading level0 row24\" >2091</th>\n",
       "                        <td id=\"T_f11a33a4_506b_11eb_be60_cd4982937ff1row24_col0\" class=\"data row24 col0\" >Ohio</td>\n",
       "                        <td id=\"T_f11a33a4_506b_11eb_be60_cd4982937ff1row24_col1\" class=\"data row24 col1\" >Franklin</td>\n",
       "                        <td id=\"T_f11a33a4_506b_11eb_be60_cd4982937ff1row24_col2\" class=\"data row24 col2\" >US</td>\n",
       "                        <td id=\"T_f11a33a4_506b_11eb_be60_cd4982937ff1row24_col3\" class=\"data row24 col3\" >39.969958</td>\n",
       "                        <td id=\"T_f11a33a4_506b_11eb_be60_cd4982937ff1row24_col4\" class=\"data row24 col4\" >-83.011158</td>\n",
       "                        <td id=\"T_f11a33a4_506b_11eb_be60_cd4982937ff1row24_col5\" class=\"data row24 col5\" >88447</td>\n",
       "                        <td id=\"T_f11a33a4_506b_11eb_be60_cd4982937ff1row24_col6\" class=\"data row24 col6\" >700</td>\n",
       "                        <td id=\"T_f11a33a4_506b_11eb_be60_cd4982937ff1row24_col7\" class=\"data row24 col7\" >87747</td>\n",
       "                        <td id=\"T_f11a33a4_506b_11eb_be60_cd4982937ff1row24_col8\" class=\"data row24 col8\" >2021/01/06 19:22:04+00</td>\n",
       "            </tr>\n",
       "            <tr>\n",
       "                        <th id=\"T_f11a33a4_506b_11eb_be60_cd4982937ff1level0_row25\" class=\"row_heading level0 row25\" >373</th>\n",
       "                        <td id=\"T_f11a33a4_506b_11eb_be60_cd4982937ff1row25_col0\" class=\"data row25 col0\" >Florida</td>\n",
       "                        <td id=\"T_f11a33a4_506b_11eb_be60_cd4982937ff1row25_col1\" class=\"data row25 col1\" >Palm Beach</td>\n",
       "                        <td id=\"T_f11a33a4_506b_11eb_be60_cd4982937ff1row25_col2\" class=\"data row25 col2\" >US</td>\n",
       "                        <td id=\"T_f11a33a4_506b_11eb_be60_cd4982937ff1row25_col3\" class=\"data row25 col3\" >26.646763</td>\n",
       "                        <td id=\"T_f11a33a4_506b_11eb_be60_cd4982937ff1row25_col4\" class=\"data row25 col4\" >-80.465360</td>\n",
       "                        <td id=\"T_f11a33a4_506b_11eb_be60_cd4982937ff1row25_col5\" class=\"data row25 col5\" >87683</td>\n",
       "                        <td id=\"T_f11a33a4_506b_11eb_be60_cd4982937ff1row25_col6\" class=\"data row25 col6\" >1923</td>\n",
       "                        <td id=\"T_f11a33a4_506b_11eb_be60_cd4982937ff1row25_col7\" class=\"data row25 col7\" >85760</td>\n",
       "                        <td id=\"T_f11a33a4_506b_11eb_be60_cd4982937ff1row25_col8\" class=\"data row25 col8\" >2021/01/06 19:22:04+00</td>\n",
       "            </tr>\n",
       "            <tr>\n",
       "                        <th id=\"T_f11a33a4_506b_11eb_be60_cd4982937ff1level0_row26\" class=\"row_heading level0 row26\" >1328</th>\n",
       "                        <td id=\"T_f11a33a4_506b_11eb_be60_cd4982937ff1row26_col0\" class=\"data row26 col0\" >Michigan</td>\n",
       "                        <td id=\"T_f11a33a4_506b_11eb_be60_cd4982937ff1row26_col1\" class=\"data row26 col1\" >Wayne</td>\n",
       "                        <td id=\"T_f11a33a4_506b_11eb_be60_cd4982937ff1row26_col2\" class=\"data row26 col2\" >US</td>\n",
       "                        <td id=\"T_f11a33a4_506b_11eb_be60_cd4982937ff1row26_col3\" class=\"data row26 col3\" >42.280984</td>\n",
       "                        <td id=\"T_f11a33a4_506b_11eb_be60_cd4982937ff1row26_col4\" class=\"data row26 col4\" >-83.281255</td>\n",
       "                        <td id=\"T_f11a33a4_506b_11eb_be60_cd4982937ff1row26_col5\" class=\"data row26 col5\" >87259</td>\n",
       "                        <td id=\"T_f11a33a4_506b_11eb_be60_cd4982937ff1row26_col6\" class=\"data row26 col6\" >3702</td>\n",
       "                        <td id=\"T_f11a33a4_506b_11eb_be60_cd4982937ff1row26_col7\" class=\"data row26 col7\" >83557</td>\n",
       "                        <td id=\"T_f11a33a4_506b_11eb_be60_cd4982937ff1row26_col8\" class=\"data row26 col8\" >2021/01/06 19:22:04+00</td>\n",
       "            </tr>\n",
       "            <tr>\n",
       "                        <th id=\"T_f11a33a4_506b_11eb_be60_cd4982937ff1level0_row27\" class=\"row_heading level0 row27\" >351</th>\n",
       "                        <td id=\"T_f11a33a4_506b_11eb_be60_cd4982937ff1row27_col0\" class=\"data row27 col0\" >Florida</td>\n",
       "                        <td id=\"T_f11a33a4_506b_11eb_be60_cd4982937ff1row27_col1\" class=\"data row27 col1\" >Hillsborough</td>\n",
       "                        <td id=\"T_f11a33a4_506b_11eb_be60_cd4982937ff1row27_col2\" class=\"data row27 col2\" >US</td>\n",
       "                        <td id=\"T_f11a33a4_506b_11eb_be60_cd4982937ff1row27_col3\" class=\"data row27 col3\" >27.927656</td>\n",
       "                        <td id=\"T_f11a33a4_506b_11eb_be60_cd4982937ff1row27_col4\" class=\"data row27 col4\" >-82.320132</td>\n",
       "                        <td id=\"T_f11a33a4_506b_11eb_be60_cd4982937ff1row27_col5\" class=\"data row27 col5\" >82257</td>\n",
       "                        <td id=\"T_f11a33a4_506b_11eb_be60_cd4982937ff1row27_col6\" class=\"data row27 col6\" >1102</td>\n",
       "                        <td id=\"T_f11a33a4_506b_11eb_be60_cd4982937ff1row27_col7\" class=\"data row27 col7\" >81155</td>\n",
       "                        <td id=\"T_f11a33a4_506b_11eb_be60_cd4982937ff1row27_col8\" class=\"data row27 col8\" >2021/01/06 19:22:04+00</td>\n",
       "            </tr>\n",
       "            <tr>\n",
       "                        <th id=\"T_f11a33a4_506b_11eb_be60_cd4982937ff1level0_row28\" class=\"row_heading level0 row28\" >371</th>\n",
       "                        <td id=\"T_f11a33a4_506b_11eb_be60_cd4982937ff1row28_col0\" class=\"data row28 col0\" >Florida</td>\n",
       "                        <td id=\"T_f11a33a4_506b_11eb_be60_cd4982937ff1row28_col1\" class=\"data row28 col1\" >Orange</td>\n",
       "                        <td id=\"T_f11a33a4_506b_11eb_be60_cd4982937ff1row28_col2\" class=\"data row28 col2\" >US</td>\n",
       "                        <td id=\"T_f11a33a4_506b_11eb_be60_cd4982937ff1row28_col3\" class=\"data row28 col3\" >28.513676</td>\n",
       "                        <td id=\"T_f11a33a4_506b_11eb_be60_cd4982937ff1row28_col4\" class=\"data row28 col4\" >-81.317995</td>\n",
       "                        <td id=\"T_f11a33a4_506b_11eb_be60_cd4982937ff1row28_col5\" class=\"data row28 col5\" >82155</td>\n",
       "                        <td id=\"T_f11a33a4_506b_11eb_be60_cd4982937ff1row28_col6\" class=\"data row28 col6\" >776</td>\n",
       "                        <td id=\"T_f11a33a4_506b_11eb_be60_cd4982937ff1row28_col7\" class=\"data row28 col7\" >81379</td>\n",
       "                        <td id=\"T_f11a33a4_506b_11eb_be60_cd4982937ff1row28_col8\" class=\"data row28 col8\" >2021/01/06 19:22:04+00</td>\n",
       "            </tr>\n",
       "            <tr>\n",
       "                        <th id=\"T_f11a33a4_506b_11eb_be60_cd4982937ff1level0_row29\" class=\"row_heading level0 row29\" >1237</th>\n",
       "                        <td id=\"T_f11a33a4_506b_11eb_be60_cd4982937ff1row29_col0\" class=\"data row29 col0\" >Massachusetts</td>\n",
       "                        <td id=\"T_f11a33a4_506b_11eb_be60_cd4982937ff1row29_col1\" class=\"data row29 col1\" >Middlesex</td>\n",
       "                        <td id=\"T_f11a33a4_506b_11eb_be60_cd4982937ff1row29_col2\" class=\"data row29 col2\" >US</td>\n",
       "                        <td id=\"T_f11a33a4_506b_11eb_be60_cd4982937ff1row29_col3\" class=\"data row29 col3\" >42.486077</td>\n",
       "                        <td id=\"T_f11a33a4_506b_11eb_be60_cd4982937ff1row29_col4\" class=\"data row29 col4\" >-71.390492</td>\n",
       "                        <td id=\"T_f11a33a4_506b_11eb_be60_cd4982937ff1row29_col5\" class=\"data row29 col5\" >79505</td>\n",
       "                        <td id=\"T_f11a33a4_506b_11eb_be60_cd4982937ff1row29_col6\" class=\"data row29 col6\" >2784</td>\n",
       "                        <td id=\"T_f11a33a4_506b_11eb_be60_cd4982937ff1row29_col7\" class=\"data row29 col7\" >76721</td>\n",
       "                        <td id=\"T_f11a33a4_506b_11eb_be60_cd4982937ff1row29_col8\" class=\"data row29 col8\" >2021/01/06 19:22:04+00</td>\n",
       "            </tr>\n",
       "    </tbody></table>"
      ],
      "text/plain": [
       "<pandas.io.formats.style.Styler at 0x7f0082a1b7f0>"
      ]
     },
     "execution_count": 82,
     "metadata": {},
     "output_type": "execute_result"
    }
   ],
   "source": [
    "def highlight_col(x):\n",
    "    r = 'background-color: red'\n",
    "    y = 'background-color: yellow'\n",
    "    g = 'background-color: green'\n",
    "    temp_df = pd.DataFrame('', index=x.index, columns=x.columns)\n",
    "    temp_df.iloc[:,6] = r\n",
    "    temp_df.iloc[:,5] = y\n",
    "    temp_df.iloc[:,7] = g\n",
    "    return temp_df\n",
    "sorted_df.style.apply(highlight_col, axis=None)"
   ]
  },
  {
   "cell_type": "code",
   "execution_count": 83,
   "metadata": {},
   "outputs": [],
   "source": [
    "import plotly.express as px"
   ]
  },
  {
   "cell_type": "code",
   "execution_count": 84,
   "metadata": {},
   "outputs": [
    {
     "data": {
      "application/vnd.plotly.v1+json": {
       "config": {
        "plotlyServerURL": "https://plot.ly"
       },
       "data": [
        {
         "hovertemplate": "<b>%{hovertext}</b><br><br>county=Los Angeles<br>state=%{x}<br>confirmed=%{marker.size}<extra></extra>",
         "hovertext": [
          "California"
         ],
         "legendgroup": "Los Angeles",
         "marker": {
          "color": "#636efa",
          "size": [
           841392
          ],
          "sizemode": "area",
          "sizeref": 149.5808,
          "symbol": "circle"
         },
         "mode": "markers",
         "name": "Los Angeles",
         "orientation": "v",
         "showlegend": true,
         "type": "scatter",
         "x": [
          "California"
         ],
         "xaxis": "x",
         "y": [
          841392
         ],
         "yaxis": "y"
        },
        {
         "hovertemplate": "<b>%{hovertext}</b><br><br>county=Cook<br>state=%{x}<br>confirmed=%{marker.size}<extra></extra>",
         "hovertext": [
          "Illinois"
         ],
         "legendgroup": "Cook",
         "marker": {
          "color": "#EF553B",
          "size": [
           406674
          ],
          "sizemode": "area",
          "sizeref": 149.5808,
          "symbol": "circle"
         },
         "mode": "markers",
         "name": "Cook",
         "orientation": "v",
         "showlegend": true,
         "type": "scatter",
         "x": [
          "Illinois"
         ],
         "xaxis": "x",
         "y": [
          406674
         ],
         "yaxis": "y"
        },
        {
         "hovertemplate": "<b>%{hovertext}</b><br><br>county=Maricopa<br>state=%{x}<br>confirmed=%{marker.size}<extra></extra>",
         "hovertext": [
          "Arizona"
         ],
         "legendgroup": "Maricopa",
         "marker": {
          "color": "#00cc96",
          "size": [
           349852
          ],
          "sizemode": "area",
          "sizeref": 149.5808,
          "symbol": "circle"
         },
         "mode": "markers",
         "name": "Maricopa",
         "orientation": "v",
         "showlegend": true,
         "type": "scatter",
         "x": [
          "Arizona"
         ],
         "xaxis": "x",
         "y": [
          349852
         ],
         "yaxis": "y"
        },
        {
         "hovertemplate": "<b>%{hovertext}</b><br><br>county=Miami-Dade<br>state=%{x}<br>confirmed=%{marker.size}<extra></extra>",
         "hovertext": [
          "Florida"
         ],
         "legendgroup": "Miami-Dade",
         "marker": {
          "color": "#ab63fa",
          "size": [
           314742
          ],
          "sizemode": "area",
          "sizeref": 149.5808,
          "symbol": "circle"
         },
         "mode": "markers",
         "name": "Miami-Dade",
         "orientation": "v",
         "showlegend": true,
         "type": "scatter",
         "x": [
          "Florida"
         ],
         "xaxis": "x",
         "y": [
          314742
         ],
         "yaxis": "y"
        },
        {
         "hovertemplate": "<b>%{hovertext}</b><br><br>county=Harris<br>state=%{x}<br>confirmed=%{marker.size}<extra></extra>",
         "hovertext": [
          "Texas"
         ],
         "legendgroup": "Harris",
         "marker": {
          "color": "#FFA15A",
          "size": [
           249488
          ],
          "sizemode": "area",
          "sizeref": 149.5808,
          "symbol": "circle"
         },
         "mode": "markers",
         "name": "Harris",
         "orientation": "v",
         "showlegend": true,
         "type": "scatter",
         "x": [
          "Texas"
         ],
         "xaxis": "x",
         "y": [
          249488
         ],
         "yaxis": "y"
        },
        {
         "hovertemplate": "<b>%{hovertext}</b><br><br>county=San Bernardino<br>state=%{x}<br>confirmed=%{marker.size}<extra></extra>",
         "hovertext": [
          "California"
         ],
         "legendgroup": "San Bernardino",
         "marker": {
          "color": "#19d3f3",
          "size": [
           214813
          ],
          "sizemode": "area",
          "sizeref": 149.5808,
          "symbol": "circle"
         },
         "mode": "markers",
         "name": "San Bernardino",
         "orientation": "v",
         "showlegend": true,
         "type": "scatter",
         "x": [
          "California"
         ],
         "xaxis": "x",
         "y": [
          214813
         ],
         "yaxis": "y"
        },
        {
         "hovertemplate": "<b>%{hovertext}</b><br><br>county=Dallas<br>state=%{x}<br>confirmed=%{marker.size}<extra></extra>",
         "hovertext": [
          "Texas"
         ],
         "legendgroup": "Dallas",
         "marker": {
          "color": "#FF6692",
          "size": [
           204374
          ],
          "sizemode": "area",
          "sizeref": 149.5808,
          "symbol": "circle"
         },
         "mode": "markers",
         "name": "Dallas",
         "orientation": "v",
         "showlegend": true,
         "type": "scatter",
         "x": [
          "Texas"
         ],
         "xaxis": "x",
         "y": [
          204374
         ],
         "yaxis": "y"
        },
        {
         "hovertemplate": "<b>%{hovertext}</b><br><br>county=Riverside<br>state=%{x}<br>confirmed=%{marker.size}<extra></extra>",
         "hovertext": [
          "California"
         ],
         "legendgroup": "Riverside",
         "marker": {
          "color": "#B6E880",
          "size": [
           200439
          ],
          "sizemode": "area",
          "sizeref": 149.5808,
          "symbol": "circle"
         },
         "mode": "markers",
         "name": "Riverside",
         "orientation": "v",
         "showlegend": true,
         "type": "scatter",
         "x": [
          "California"
         ],
         "xaxis": "x",
         "y": [
          200439
         ],
         "yaxis": "y"
        },
        {
         "hovertemplate": "<b>%{hovertext}</b><br><br>county=Clark<br>state=%{x}<br>confirmed=%{marker.size}<extra></extra>",
         "hovertext": [
          "Nevada"
         ],
         "legendgroup": "Clark",
         "marker": {
          "color": "#FF97FF",
          "size": [
           180524
          ],
          "sizemode": "area",
          "sizeref": 149.5808,
          "symbol": "circle"
         },
         "mode": "markers",
         "name": "Clark",
         "orientation": "v",
         "showlegend": true,
         "type": "scatter",
         "x": [
          "Nevada"
         ],
         "xaxis": "x",
         "y": [
          180524
         ],
         "yaxis": "y"
        },
        {
         "hovertemplate": "<b>%{hovertext}</b><br><br>county=Orange<br>state=%{x}<br>confirmed=%{marker.size}<extra></extra>",
         "hovertext": [
          "California",
          "Florida"
         ],
         "legendgroup": "Orange",
         "marker": {
          "color": "#FECB52",
          "size": [
           174869,
           82155
          ],
          "sizemode": "area",
          "sizeref": 149.5808,
          "symbol": "circle"
         },
         "mode": "markers",
         "name": "Orange",
         "orientation": "v",
         "showlegend": true,
         "type": "scatter",
         "x": [
          "California",
          "Florida"
         ],
         "xaxis": "x",
         "y": [
          174869,
          82155
         ],
         "yaxis": "y"
        },
        {
         "hovertemplate": "<b>%{hovertext}</b><br><br>county=San Diego<br>state=%{x}<br>confirmed=%{marker.size}<extra></extra>",
         "hovertext": [
          "California"
         ],
         "legendgroup": "San Diego",
         "marker": {
          "color": "#636efa",
          "size": [
           172847
          ],
          "sizemode": "area",
          "sizeref": 149.5808,
          "symbol": "circle"
         },
         "mode": "markers",
         "name": "San Diego",
         "orientation": "v",
         "showlegend": true,
         "type": "scatter",
         "x": [
          "California"
         ],
         "xaxis": "x",
         "y": [
          172847
         ],
         "yaxis": "y"
        },
        {
         "hovertemplate": "<b>%{hovertext}</b><br><br>county=Tarrant<br>state=%{x}<br>confirmed=%{marker.size}<extra></extra>",
         "hovertext": [
          "Texas"
         ],
         "legendgroup": "Tarrant",
         "marker": {
          "color": "#EF553B",
          "size": [
           161878
          ],
          "sizemode": "area",
          "sizeref": 149.5808,
          "symbol": "circle"
         },
         "mode": "markers",
         "name": "Tarrant",
         "orientation": "v",
         "showlegend": true,
         "type": "scatter",
         "x": [
          "Texas"
         ],
         "xaxis": "x",
         "y": [
          161878
         ],
         "yaxis": "y"
        },
        {
         "hovertemplate": "<b>%{hovertext}</b><br><br>county=Broward<br>state=%{x}<br>confirmed=%{marker.size}<extra></extra>",
         "hovertext": [
          "Florida"
         ],
         "legendgroup": "Broward",
         "marker": {
          "color": "#00cc96",
          "size": [
           144590
          ],
          "sizemode": "area",
          "sizeref": 149.5808,
          "symbol": "circle"
         },
         "mode": "markers",
         "name": "Broward",
         "orientation": "v",
         "showlegend": true,
         "type": "scatter",
         "x": [
          "Florida"
         ],
         "xaxis": "x",
         "y": [
          144590
         ],
         "yaxis": "y"
        },
        {
         "hovertemplate": "<b>%{hovertext}</b><br><br>county=Queens<br>state=%{x}<br>confirmed=%{marker.size}<extra></extra>",
         "hovertext": [
          "New York"
         ],
         "legendgroup": "Queens",
         "marker": {
          "color": "#ab63fa",
          "size": [
           134670
          ],
          "sizemode": "area",
          "sizeref": 149.5808,
          "symbol": "circle"
         },
         "mode": "markers",
         "name": "Queens",
         "orientation": "v",
         "showlegend": true,
         "type": "scatter",
         "x": [
          "New York"
         ],
         "xaxis": "x",
         "y": [
          134670
         ],
         "yaxis": "y"
        },
        {
         "hovertemplate": "<b>%{hovertext}</b><br><br>county=Kings<br>state=%{x}<br>confirmed=%{marker.size}<extra></extra>",
         "hovertext": [
          "New York"
         ],
         "legendgroup": "Kings",
         "marker": {
          "color": "#FFA15A",
          "size": [
           132075
          ],
          "sizemode": "area",
          "sizeref": 149.5808,
          "symbol": "circle"
         },
         "mode": "markers",
         "name": "Kings",
         "orientation": "v",
         "showlegend": true,
         "type": "scatter",
         "x": [
          "New York"
         ],
         "xaxis": "x",
         "y": [
          132075
         ],
         "yaxis": "y"
        },
        {
         "hovertemplate": "<b>%{hovertext}</b><br><br>county=Bexar<br>state=%{x}<br>confirmed=%{marker.size}<extra></extra>",
         "hovertext": [
          "Texas"
         ],
         "legendgroup": "Bexar",
         "marker": {
          "color": "#19d3f3",
          "size": [
           124800
          ],
          "sizemode": "area",
          "sizeref": 149.5808,
          "symbol": "circle"
         },
         "mode": "markers",
         "name": "Bexar",
         "orientation": "v",
         "showlegend": true,
         "type": "scatter",
         "x": [
          "Texas"
         ],
         "xaxis": "x",
         "y": [
          124800
         ],
         "yaxis": "y"
        },
        {
         "hovertemplate": "<b>%{hovertext}</b><br><br>county=Salt Lake<br>state=%{x}<br>confirmed=%{marker.size}<extra></extra>",
         "hovertext": [
          "Utah"
         ],
         "legendgroup": "Salt Lake",
         "marker": {
          "color": "#FF6692",
          "size": [
           111389
          ],
          "sizemode": "area",
          "sizeref": 149.5808,
          "symbol": "circle"
         },
         "mode": "markers",
         "name": "Salt Lake",
         "orientation": "v",
         "showlegend": true,
         "type": "scatter",
         "x": [
          "Utah"
         ],
         "xaxis": "x",
         "y": [
          111389
         ],
         "yaxis": "y"
        },
        {
         "hovertemplate": "<b>%{hovertext}</b><br><br>county=Suffolk<br>state=%{x}<br>confirmed=%{marker.size}<extra></extra>",
         "hovertext": [
          "New York"
         ],
         "legendgroup": "Suffolk",
         "marker": {
          "color": "#B6E880",
          "size": [
           106061
          ],
          "sizemode": "area",
          "sizeref": 149.5808,
          "symbol": "circle"
         },
         "mode": "markers",
         "name": "Suffolk",
         "orientation": "v",
         "showlegend": true,
         "type": "scatter",
         "x": [
          "New York"
         ],
         "xaxis": "x",
         "y": [
          106061
         ],
         "yaxis": "y"
        },
        {
         "hovertemplate": "<b>%{hovertext}</b><br><br>county=El Paso<br>state=%{x}<br>confirmed=%{marker.size}<extra></extra>",
         "hovertext": [
          "Texas"
         ],
         "legendgroup": "El Paso",
         "marker": {
          "color": "#FF97FF",
          "size": [
           100944
          ],
          "sizemode": "area",
          "sizeref": 149.5808,
          "symbol": "circle"
         },
         "mode": "markers",
         "name": "El Paso",
         "orientation": "v",
         "showlegend": true,
         "type": "scatter",
         "x": [
          "Texas"
         ],
         "xaxis": "x",
         "y": [
          100944
         ],
         "yaxis": "y"
        },
        {
         "hovertemplate": "<b>%{hovertext}</b><br><br>county=Philadelphia<br>state=%{x}<br>confirmed=%{marker.size}<extra></extra>",
         "hovertext": [
          "Pennsylvania"
         ],
         "legendgroup": "Philadelphia",
         "marker": {
          "color": "#FECB52",
          "size": [
           97099
          ],
          "sizemode": "area",
          "sizeref": 149.5808,
          "symbol": "circle"
         },
         "mode": "markers",
         "name": "Philadelphia",
         "orientation": "v",
         "showlegend": true,
         "type": "scatter",
         "x": [
          "Pennsylvania"
         ],
         "xaxis": "x",
         "y": [
          97099
         ],
         "yaxis": "y"
        },
        {
         "hovertemplate": "<b>%{hovertext}</b><br><br>county=Nassau<br>state=%{x}<br>confirmed=%{marker.size}<extra></extra>",
         "hovertext": [
          "New York"
         ],
         "legendgroup": "Nassau",
         "marker": {
          "color": "#636efa",
          "size": [
           96112
          ],
          "sizemode": "area",
          "sizeref": 149.5808,
          "symbol": "circle"
         },
         "mode": "markers",
         "name": "Nassau",
         "orientation": "v",
         "showlegend": true,
         "type": "scatter",
         "x": [
          "New York"
         ],
         "xaxis": "x",
         "y": [
          96112
         ],
         "yaxis": "y"
        },
        {
         "hovertemplate": "<b>%{hovertext}</b><br><br>county=Milwaukee<br>state=%{x}<br>confirmed=%{marker.size}<extra></extra>",
         "hovertext": [
          "Wisconsin"
         ],
         "legendgroup": "Milwaukee",
         "marker": {
          "color": "#EF553B",
          "size": [
           93509
          ],
          "sizemode": "area",
          "sizeref": 149.5808,
          "symbol": "circle"
         },
         "mode": "markers",
         "name": "Milwaukee",
         "orientation": "v",
         "showlegend": true,
         "type": "scatter",
         "x": [
          "Wisconsin"
         ],
         "xaxis": "x",
         "y": [
          93509
         ],
         "yaxis": "y"
        },
        {
         "hovertemplate": "<b>%{hovertext}</b><br><br>county=Bronx<br>state=%{x}<br>confirmed=%{marker.size}<extra></extra>",
         "hovertext": [
          "New York"
         ],
         "legendgroup": "Bronx",
         "marker": {
          "color": "#00cc96",
          "size": [
           90958
          ],
          "sizemode": "area",
          "sizeref": 149.5808,
          "symbol": "circle"
         },
         "mode": "markers",
         "name": "Bronx",
         "orientation": "v",
         "showlegend": true,
         "type": "scatter",
         "x": [
          "New York"
         ],
         "xaxis": "x",
         "y": [
          90958
         ],
         "yaxis": "y"
        },
        {
         "hovertemplate": "<b>%{hovertext}</b><br><br>county=Hennepin<br>state=%{x}<br>confirmed=%{marker.size}<extra></extra>",
         "hovertext": [
          "Minnesota"
         ],
         "legendgroup": "Hennepin",
         "marker": {
          "color": "#ab63fa",
          "size": [
           88832
          ],
          "sizemode": "area",
          "sizeref": 149.5808,
          "symbol": "circle"
         },
         "mode": "markers",
         "name": "Hennepin",
         "orientation": "v",
         "showlegend": true,
         "type": "scatter",
         "x": [
          "Minnesota"
         ],
         "xaxis": "x",
         "y": [
          88832
         ],
         "yaxis": "y"
        },
        {
         "hovertemplate": "<b>%{hovertext}</b><br><br>county=Franklin<br>state=%{x}<br>confirmed=%{marker.size}<extra></extra>",
         "hovertext": [
          "Ohio"
         ],
         "legendgroup": "Franklin",
         "marker": {
          "color": "#FFA15A",
          "size": [
           88447
          ],
          "sizemode": "area",
          "sizeref": 149.5808,
          "symbol": "circle"
         },
         "mode": "markers",
         "name": "Franklin",
         "orientation": "v",
         "showlegend": true,
         "type": "scatter",
         "x": [
          "Ohio"
         ],
         "xaxis": "x",
         "y": [
          88447
         ],
         "yaxis": "y"
        },
        {
         "hovertemplate": "<b>%{hovertext}</b><br><br>county=Palm Beach<br>state=%{x}<br>confirmed=%{marker.size}<extra></extra>",
         "hovertext": [
          "Florida"
         ],
         "legendgroup": "Palm Beach",
         "marker": {
          "color": "#19d3f3",
          "size": [
           87683
          ],
          "sizemode": "area",
          "sizeref": 149.5808,
          "symbol": "circle"
         },
         "mode": "markers",
         "name": "Palm Beach",
         "orientation": "v",
         "showlegend": true,
         "type": "scatter",
         "x": [
          "Florida"
         ],
         "xaxis": "x",
         "y": [
          87683
         ],
         "yaxis": "y"
        },
        {
         "hovertemplate": "<b>%{hovertext}</b><br><br>county=Wayne<br>state=%{x}<br>confirmed=%{marker.size}<extra></extra>",
         "hovertext": [
          "Michigan"
         ],
         "legendgroup": "Wayne",
         "marker": {
          "color": "#FF6692",
          "size": [
           87259
          ],
          "sizemode": "area",
          "sizeref": 149.5808,
          "symbol": "circle"
         },
         "mode": "markers",
         "name": "Wayne",
         "orientation": "v",
         "showlegend": true,
         "type": "scatter",
         "x": [
          "Michigan"
         ],
         "xaxis": "x",
         "y": [
          87259
         ],
         "yaxis": "y"
        },
        {
         "hovertemplate": "<b>%{hovertext}</b><br><br>county=Hillsborough<br>state=%{x}<br>confirmed=%{marker.size}<extra></extra>",
         "hovertext": [
          "Florida"
         ],
         "legendgroup": "Hillsborough",
         "marker": {
          "color": "#B6E880",
          "size": [
           82257
          ],
          "sizemode": "area",
          "sizeref": 149.5808,
          "symbol": "circle"
         },
         "mode": "markers",
         "name": "Hillsborough",
         "orientation": "v",
         "showlegend": true,
         "type": "scatter",
         "x": [
          "Florida"
         ],
         "xaxis": "x",
         "y": [
          82257
         ],
         "yaxis": "y"
        },
        {
         "hovertemplate": "<b>%{hovertext}</b><br><br>county=Middlesex<br>state=%{x}<br>confirmed=%{marker.size}<extra></extra>",
         "hovertext": [
          "Massachusetts"
         ],
         "legendgroup": "Middlesex",
         "marker": {
          "color": "#FF97FF",
          "size": [
           79505
          ],
          "sizemode": "area",
          "sizeref": 149.5808,
          "symbol": "circle"
         },
         "mode": "markers",
         "name": "Middlesex",
         "orientation": "v",
         "showlegend": true,
         "type": "scatter",
         "x": [
          "Massachusetts"
         ],
         "xaxis": "x",
         "y": [
          79505
         ],
         "yaxis": "y"
        }
       ],
       "layout": {
        "legend": {
         "itemsizing": "constant",
         "title": {
          "text": "county"
         },
         "tracegroupgap": 0
        },
        "margin": {
         "t": 60
        },
        "template": {
         "data": {
          "bar": [
           {
            "error_x": {
             "color": "#2a3f5f"
            },
            "error_y": {
             "color": "#2a3f5f"
            },
            "marker": {
             "line": {
              "color": "#E5ECF6",
              "width": 0.5
             }
            },
            "type": "bar"
           }
          ],
          "barpolar": [
           {
            "marker": {
             "line": {
              "color": "#E5ECF6",
              "width": 0.5
             }
            },
            "type": "barpolar"
           }
          ],
          "carpet": [
           {
            "aaxis": {
             "endlinecolor": "#2a3f5f",
             "gridcolor": "white",
             "linecolor": "white",
             "minorgridcolor": "white",
             "startlinecolor": "#2a3f5f"
            },
            "baxis": {
             "endlinecolor": "#2a3f5f",
             "gridcolor": "white",
             "linecolor": "white",
             "minorgridcolor": "white",
             "startlinecolor": "#2a3f5f"
            },
            "type": "carpet"
           }
          ],
          "choropleth": [
           {
            "colorbar": {
             "outlinewidth": 0,
             "ticks": ""
            },
            "type": "choropleth"
           }
          ],
          "contour": [
           {
            "colorbar": {
             "outlinewidth": 0,
             "ticks": ""
            },
            "colorscale": [
             [
              0,
              "#0d0887"
             ],
             [
              0.1111111111111111,
              "#46039f"
             ],
             [
              0.2222222222222222,
              "#7201a8"
             ],
             [
              0.3333333333333333,
              "#9c179e"
             ],
             [
              0.4444444444444444,
              "#bd3786"
             ],
             [
              0.5555555555555556,
              "#d8576b"
             ],
             [
              0.6666666666666666,
              "#ed7953"
             ],
             [
              0.7777777777777778,
              "#fb9f3a"
             ],
             [
              0.8888888888888888,
              "#fdca26"
             ],
             [
              1,
              "#f0f921"
             ]
            ],
            "type": "contour"
           }
          ],
          "contourcarpet": [
           {
            "colorbar": {
             "outlinewidth": 0,
             "ticks": ""
            },
            "type": "contourcarpet"
           }
          ],
          "heatmap": [
           {
            "colorbar": {
             "outlinewidth": 0,
             "ticks": ""
            },
            "colorscale": [
             [
              0,
              "#0d0887"
             ],
             [
              0.1111111111111111,
              "#46039f"
             ],
             [
              0.2222222222222222,
              "#7201a8"
             ],
             [
              0.3333333333333333,
              "#9c179e"
             ],
             [
              0.4444444444444444,
              "#bd3786"
             ],
             [
              0.5555555555555556,
              "#d8576b"
             ],
             [
              0.6666666666666666,
              "#ed7953"
             ],
             [
              0.7777777777777778,
              "#fb9f3a"
             ],
             [
              0.8888888888888888,
              "#fdca26"
             ],
             [
              1,
              "#f0f921"
             ]
            ],
            "type": "heatmap"
           }
          ],
          "heatmapgl": [
           {
            "colorbar": {
             "outlinewidth": 0,
             "ticks": ""
            },
            "colorscale": [
             [
              0,
              "#0d0887"
             ],
             [
              0.1111111111111111,
              "#46039f"
             ],
             [
              0.2222222222222222,
              "#7201a8"
             ],
             [
              0.3333333333333333,
              "#9c179e"
             ],
             [
              0.4444444444444444,
              "#bd3786"
             ],
             [
              0.5555555555555556,
              "#d8576b"
             ],
             [
              0.6666666666666666,
              "#ed7953"
             ],
             [
              0.7777777777777778,
              "#fb9f3a"
             ],
             [
              0.8888888888888888,
              "#fdca26"
             ],
             [
              1,
              "#f0f921"
             ]
            ],
            "type": "heatmapgl"
           }
          ],
          "histogram": [
           {
            "marker": {
             "colorbar": {
              "outlinewidth": 0,
              "ticks": ""
             }
            },
            "type": "histogram"
           }
          ],
          "histogram2d": [
           {
            "colorbar": {
             "outlinewidth": 0,
             "ticks": ""
            },
            "colorscale": [
             [
              0,
              "#0d0887"
             ],
             [
              0.1111111111111111,
              "#46039f"
             ],
             [
              0.2222222222222222,
              "#7201a8"
             ],
             [
              0.3333333333333333,
              "#9c179e"
             ],
             [
              0.4444444444444444,
              "#bd3786"
             ],
             [
              0.5555555555555556,
              "#d8576b"
             ],
             [
              0.6666666666666666,
              "#ed7953"
             ],
             [
              0.7777777777777778,
              "#fb9f3a"
             ],
             [
              0.8888888888888888,
              "#fdca26"
             ],
             [
              1,
              "#f0f921"
             ]
            ],
            "type": "histogram2d"
           }
          ],
          "histogram2dcontour": [
           {
            "colorbar": {
             "outlinewidth": 0,
             "ticks": ""
            },
            "colorscale": [
             [
              0,
              "#0d0887"
             ],
             [
              0.1111111111111111,
              "#46039f"
             ],
             [
              0.2222222222222222,
              "#7201a8"
             ],
             [
              0.3333333333333333,
              "#9c179e"
             ],
             [
              0.4444444444444444,
              "#bd3786"
             ],
             [
              0.5555555555555556,
              "#d8576b"
             ],
             [
              0.6666666666666666,
              "#ed7953"
             ],
             [
              0.7777777777777778,
              "#fb9f3a"
             ],
             [
              0.8888888888888888,
              "#fdca26"
             ],
             [
              1,
              "#f0f921"
             ]
            ],
            "type": "histogram2dcontour"
           }
          ],
          "mesh3d": [
           {
            "colorbar": {
             "outlinewidth": 0,
             "ticks": ""
            },
            "type": "mesh3d"
           }
          ],
          "parcoords": [
           {
            "line": {
             "colorbar": {
              "outlinewidth": 0,
              "ticks": ""
             }
            },
            "type": "parcoords"
           }
          ],
          "pie": [
           {
            "automargin": true,
            "type": "pie"
           }
          ],
          "scatter": [
           {
            "marker": {
             "colorbar": {
              "outlinewidth": 0,
              "ticks": ""
             }
            },
            "type": "scatter"
           }
          ],
          "scatter3d": [
           {
            "line": {
             "colorbar": {
              "outlinewidth": 0,
              "ticks": ""
             }
            },
            "marker": {
             "colorbar": {
              "outlinewidth": 0,
              "ticks": ""
             }
            },
            "type": "scatter3d"
           }
          ],
          "scattercarpet": [
           {
            "marker": {
             "colorbar": {
              "outlinewidth": 0,
              "ticks": ""
             }
            },
            "type": "scattercarpet"
           }
          ],
          "scattergeo": [
           {
            "marker": {
             "colorbar": {
              "outlinewidth": 0,
              "ticks": ""
             }
            },
            "type": "scattergeo"
           }
          ],
          "scattergl": [
           {
            "marker": {
             "colorbar": {
              "outlinewidth": 0,
              "ticks": ""
             }
            },
            "type": "scattergl"
           }
          ],
          "scattermapbox": [
           {
            "marker": {
             "colorbar": {
              "outlinewidth": 0,
              "ticks": ""
             }
            },
            "type": "scattermapbox"
           }
          ],
          "scatterpolar": [
           {
            "marker": {
             "colorbar": {
              "outlinewidth": 0,
              "ticks": ""
             }
            },
            "type": "scatterpolar"
           }
          ],
          "scatterpolargl": [
           {
            "marker": {
             "colorbar": {
              "outlinewidth": 0,
              "ticks": ""
             }
            },
            "type": "scatterpolargl"
           }
          ],
          "scatterternary": [
           {
            "marker": {
             "colorbar": {
              "outlinewidth": 0,
              "ticks": ""
             }
            },
            "type": "scatterternary"
           }
          ],
          "surface": [
           {
            "colorbar": {
             "outlinewidth": 0,
             "ticks": ""
            },
            "colorscale": [
             [
              0,
              "#0d0887"
             ],
             [
              0.1111111111111111,
              "#46039f"
             ],
             [
              0.2222222222222222,
              "#7201a8"
             ],
             [
              0.3333333333333333,
              "#9c179e"
             ],
             [
              0.4444444444444444,
              "#bd3786"
             ],
             [
              0.5555555555555556,
              "#d8576b"
             ],
             [
              0.6666666666666666,
              "#ed7953"
             ],
             [
              0.7777777777777778,
              "#fb9f3a"
             ],
             [
              0.8888888888888888,
              "#fdca26"
             ],
             [
              1,
              "#f0f921"
             ]
            ],
            "type": "surface"
           }
          ],
          "table": [
           {
            "cells": {
             "fill": {
              "color": "#EBF0F8"
             },
             "line": {
              "color": "white"
             }
            },
            "header": {
             "fill": {
              "color": "#C8D4E3"
             },
             "line": {
              "color": "white"
             }
            },
            "type": "table"
           }
          ]
         },
         "layout": {
          "annotationdefaults": {
           "arrowcolor": "#2a3f5f",
           "arrowhead": 0,
           "arrowwidth": 1
          },
          "autotypenumbers": "strict",
          "coloraxis": {
           "colorbar": {
            "outlinewidth": 0,
            "ticks": ""
           }
          },
          "colorscale": {
           "diverging": [
            [
             0,
             "#8e0152"
            ],
            [
             0.1,
             "#c51b7d"
            ],
            [
             0.2,
             "#de77ae"
            ],
            [
             0.3,
             "#f1b6da"
            ],
            [
             0.4,
             "#fde0ef"
            ],
            [
             0.5,
             "#f7f7f7"
            ],
            [
             0.6,
             "#e6f5d0"
            ],
            [
             0.7,
             "#b8e186"
            ],
            [
             0.8,
             "#7fbc41"
            ],
            [
             0.9,
             "#4d9221"
            ],
            [
             1,
             "#276419"
            ]
           ],
           "sequential": [
            [
             0,
             "#0d0887"
            ],
            [
             0.1111111111111111,
             "#46039f"
            ],
            [
             0.2222222222222222,
             "#7201a8"
            ],
            [
             0.3333333333333333,
             "#9c179e"
            ],
            [
             0.4444444444444444,
             "#bd3786"
            ],
            [
             0.5555555555555556,
             "#d8576b"
            ],
            [
             0.6666666666666666,
             "#ed7953"
            ],
            [
             0.7777777777777778,
             "#fb9f3a"
            ],
            [
             0.8888888888888888,
             "#fdca26"
            ],
            [
             1,
             "#f0f921"
            ]
           ],
           "sequentialminus": [
            [
             0,
             "#0d0887"
            ],
            [
             0.1111111111111111,
             "#46039f"
            ],
            [
             0.2222222222222222,
             "#7201a8"
            ],
            [
             0.3333333333333333,
             "#9c179e"
            ],
            [
             0.4444444444444444,
             "#bd3786"
            ],
            [
             0.5555555555555556,
             "#d8576b"
            ],
            [
             0.6666666666666666,
             "#ed7953"
            ],
            [
             0.7777777777777778,
             "#fb9f3a"
            ],
            [
             0.8888888888888888,
             "#fdca26"
            ],
            [
             1,
             "#f0f921"
            ]
           ]
          },
          "colorway": [
           "#636efa",
           "#EF553B",
           "#00cc96",
           "#ab63fa",
           "#FFA15A",
           "#19d3f3",
           "#FF6692",
           "#B6E880",
           "#FF97FF",
           "#FECB52"
          ],
          "font": {
           "color": "#2a3f5f"
          },
          "geo": {
           "bgcolor": "white",
           "lakecolor": "white",
           "landcolor": "#E5ECF6",
           "showlakes": true,
           "showland": true,
           "subunitcolor": "white"
          },
          "hoverlabel": {
           "align": "left"
          },
          "hovermode": "closest",
          "mapbox": {
           "style": "light"
          },
          "paper_bgcolor": "white",
          "plot_bgcolor": "#E5ECF6",
          "polar": {
           "angularaxis": {
            "gridcolor": "white",
            "linecolor": "white",
            "ticks": ""
           },
           "bgcolor": "#E5ECF6",
           "radialaxis": {
            "gridcolor": "white",
            "linecolor": "white",
            "ticks": ""
           }
          },
          "scene": {
           "xaxis": {
            "backgroundcolor": "#E5ECF6",
            "gridcolor": "white",
            "gridwidth": 2,
            "linecolor": "white",
            "showbackground": true,
            "ticks": "",
            "zerolinecolor": "white"
           },
           "yaxis": {
            "backgroundcolor": "#E5ECF6",
            "gridcolor": "white",
            "gridwidth": 2,
            "linecolor": "white",
            "showbackground": true,
            "ticks": "",
            "zerolinecolor": "white"
           },
           "zaxis": {
            "backgroundcolor": "#E5ECF6",
            "gridcolor": "white",
            "gridwidth": 2,
            "linecolor": "white",
            "showbackground": true,
            "ticks": "",
            "zerolinecolor": "white"
           }
          },
          "shapedefaults": {
           "line": {
            "color": "#2a3f5f"
           }
          },
          "ternary": {
           "aaxis": {
            "gridcolor": "white",
            "linecolor": "white",
            "ticks": ""
           },
           "baxis": {
            "gridcolor": "white",
            "linecolor": "white",
            "ticks": ""
           },
           "bgcolor": "#E5ECF6",
           "caxis": {
            "gridcolor": "white",
            "linecolor": "white",
            "ticks": ""
           }
          },
          "title": {
           "x": 0.05
          },
          "xaxis": {
           "automargin": true,
           "gridcolor": "white",
           "linecolor": "white",
           "ticks": "",
           "title": {
            "standoff": 15
           },
           "zerolinecolor": "white",
           "zerolinewidth": 2
          },
          "yaxis": {
           "automargin": true,
           "gridcolor": "white",
           "linecolor": "white",
           "ticks": "",
           "title": {
            "standoff": 15
           },
           "zerolinecolor": "white",
           "zerolinewidth": 2
          }
         }
        },
        "xaxis": {
         "anchor": "y",
         "domain": [
          0,
          1
         ],
         "title": {
          "text": "state"
         }
        },
        "yaxis": {
         "anchor": "x",
         "domain": [
          0,
          1
         ],
         "title": {
          "text": "confirmed"
         }
        }
       }
      },
      "text/html": [
       "<div>                            <div id=\"45b05e02-5e5f-4875-95ab-fd401afac414\" class=\"plotly-graph-div\" style=\"height:525px; width:100%;\"></div>            <script type=\"text/javascript\">                require([\"plotly\"], function(Plotly) {                    window.PLOTLYENV=window.PLOTLYENV || {};                                    if (document.getElementById(\"45b05e02-5e5f-4875-95ab-fd401afac414\")) {                    Plotly.newPlot(                        \"45b05e02-5e5f-4875-95ab-fd401afac414\",                        [{\"hovertemplate\": \"<b>%{hovertext}</b><br><br>county=Los Angeles<br>state=%{x}<br>confirmed=%{marker.size}<extra></extra>\", \"hovertext\": [\"California\"], \"legendgroup\": \"Los Angeles\", \"marker\": {\"color\": \"#636efa\", \"size\": [841392], \"sizemode\": \"area\", \"sizeref\": 149.5808, \"symbol\": \"circle\"}, \"mode\": \"markers\", \"name\": \"Los Angeles\", \"orientation\": \"v\", \"showlegend\": true, \"type\": \"scatter\", \"x\": [\"California\"], \"xaxis\": \"x\", \"y\": [841392], \"yaxis\": \"y\"}, {\"hovertemplate\": \"<b>%{hovertext}</b><br><br>county=Cook<br>state=%{x}<br>confirmed=%{marker.size}<extra></extra>\", \"hovertext\": [\"Illinois\"], \"legendgroup\": \"Cook\", \"marker\": {\"color\": \"#EF553B\", \"size\": [406674], \"sizemode\": \"area\", \"sizeref\": 149.5808, \"symbol\": \"circle\"}, \"mode\": \"markers\", \"name\": \"Cook\", \"orientation\": \"v\", \"showlegend\": true, \"type\": \"scatter\", \"x\": [\"Illinois\"], \"xaxis\": \"x\", \"y\": [406674], \"yaxis\": \"y\"}, {\"hovertemplate\": \"<b>%{hovertext}</b><br><br>county=Maricopa<br>state=%{x}<br>confirmed=%{marker.size}<extra></extra>\", \"hovertext\": [\"Arizona\"], \"legendgroup\": \"Maricopa\", \"marker\": {\"color\": \"#00cc96\", \"size\": [349852], \"sizemode\": \"area\", \"sizeref\": 149.5808, \"symbol\": \"circle\"}, \"mode\": \"markers\", \"name\": \"Maricopa\", \"orientation\": \"v\", \"showlegend\": true, \"type\": \"scatter\", \"x\": [\"Arizona\"], \"xaxis\": \"x\", \"y\": [349852], \"yaxis\": \"y\"}, {\"hovertemplate\": \"<b>%{hovertext}</b><br><br>county=Miami-Dade<br>state=%{x}<br>confirmed=%{marker.size}<extra></extra>\", \"hovertext\": [\"Florida\"], \"legendgroup\": \"Miami-Dade\", \"marker\": {\"color\": \"#ab63fa\", \"size\": [314742], \"sizemode\": \"area\", \"sizeref\": 149.5808, \"symbol\": \"circle\"}, \"mode\": \"markers\", \"name\": \"Miami-Dade\", \"orientation\": \"v\", \"showlegend\": true, \"type\": \"scatter\", \"x\": [\"Florida\"], \"xaxis\": \"x\", \"y\": [314742], \"yaxis\": \"y\"}, {\"hovertemplate\": \"<b>%{hovertext}</b><br><br>county=Harris<br>state=%{x}<br>confirmed=%{marker.size}<extra></extra>\", \"hovertext\": [\"Texas\"], \"legendgroup\": \"Harris\", \"marker\": {\"color\": \"#FFA15A\", \"size\": [249488], \"sizemode\": \"area\", \"sizeref\": 149.5808, \"symbol\": \"circle\"}, \"mode\": \"markers\", \"name\": \"Harris\", \"orientation\": \"v\", \"showlegend\": true, \"type\": \"scatter\", \"x\": [\"Texas\"], \"xaxis\": \"x\", \"y\": [249488], \"yaxis\": \"y\"}, {\"hovertemplate\": \"<b>%{hovertext}</b><br><br>county=San Bernardino<br>state=%{x}<br>confirmed=%{marker.size}<extra></extra>\", \"hovertext\": [\"California\"], \"legendgroup\": \"San Bernardino\", \"marker\": {\"color\": \"#19d3f3\", \"size\": [214813], \"sizemode\": \"area\", \"sizeref\": 149.5808, \"symbol\": \"circle\"}, \"mode\": \"markers\", \"name\": \"San Bernardino\", \"orientation\": \"v\", \"showlegend\": true, \"type\": \"scatter\", \"x\": [\"California\"], \"xaxis\": \"x\", \"y\": [214813], \"yaxis\": \"y\"}, {\"hovertemplate\": \"<b>%{hovertext}</b><br><br>county=Dallas<br>state=%{x}<br>confirmed=%{marker.size}<extra></extra>\", \"hovertext\": [\"Texas\"], \"legendgroup\": \"Dallas\", \"marker\": {\"color\": \"#FF6692\", \"size\": [204374], \"sizemode\": \"area\", \"sizeref\": 149.5808, \"symbol\": \"circle\"}, \"mode\": \"markers\", \"name\": \"Dallas\", \"orientation\": \"v\", \"showlegend\": true, \"type\": \"scatter\", \"x\": [\"Texas\"], \"xaxis\": \"x\", \"y\": [204374], \"yaxis\": \"y\"}, {\"hovertemplate\": \"<b>%{hovertext}</b><br><br>county=Riverside<br>state=%{x}<br>confirmed=%{marker.size}<extra></extra>\", \"hovertext\": [\"California\"], \"legendgroup\": \"Riverside\", \"marker\": {\"color\": \"#B6E880\", \"size\": [200439], \"sizemode\": \"area\", \"sizeref\": 149.5808, \"symbol\": \"circle\"}, \"mode\": \"markers\", \"name\": \"Riverside\", \"orientation\": \"v\", \"showlegend\": true, \"type\": \"scatter\", \"x\": [\"California\"], \"xaxis\": \"x\", \"y\": [200439], \"yaxis\": \"y\"}, {\"hovertemplate\": \"<b>%{hovertext}</b><br><br>county=Clark<br>state=%{x}<br>confirmed=%{marker.size}<extra></extra>\", \"hovertext\": [\"Nevada\"], \"legendgroup\": \"Clark\", \"marker\": {\"color\": \"#FF97FF\", \"size\": [180524], \"sizemode\": \"area\", \"sizeref\": 149.5808, \"symbol\": \"circle\"}, \"mode\": \"markers\", \"name\": \"Clark\", \"orientation\": \"v\", \"showlegend\": true, \"type\": \"scatter\", \"x\": [\"Nevada\"], \"xaxis\": \"x\", \"y\": [180524], \"yaxis\": \"y\"}, {\"hovertemplate\": \"<b>%{hovertext}</b><br><br>county=Orange<br>state=%{x}<br>confirmed=%{marker.size}<extra></extra>\", \"hovertext\": [\"California\", \"Florida\"], \"legendgroup\": \"Orange\", \"marker\": {\"color\": \"#FECB52\", \"size\": [174869, 82155], \"sizemode\": \"area\", \"sizeref\": 149.5808, \"symbol\": \"circle\"}, \"mode\": \"markers\", \"name\": \"Orange\", \"orientation\": \"v\", \"showlegend\": true, \"type\": \"scatter\", \"x\": [\"California\", \"Florida\"], \"xaxis\": \"x\", \"y\": [174869, 82155], \"yaxis\": \"y\"}, {\"hovertemplate\": \"<b>%{hovertext}</b><br><br>county=San Diego<br>state=%{x}<br>confirmed=%{marker.size}<extra></extra>\", \"hovertext\": [\"California\"], \"legendgroup\": \"San Diego\", \"marker\": {\"color\": \"#636efa\", \"size\": [172847], \"sizemode\": \"area\", \"sizeref\": 149.5808, \"symbol\": \"circle\"}, \"mode\": \"markers\", \"name\": \"San Diego\", \"orientation\": \"v\", \"showlegend\": true, \"type\": \"scatter\", \"x\": [\"California\"], \"xaxis\": \"x\", \"y\": [172847], \"yaxis\": \"y\"}, {\"hovertemplate\": \"<b>%{hovertext}</b><br><br>county=Tarrant<br>state=%{x}<br>confirmed=%{marker.size}<extra></extra>\", \"hovertext\": [\"Texas\"], \"legendgroup\": \"Tarrant\", \"marker\": {\"color\": \"#EF553B\", \"size\": [161878], \"sizemode\": \"area\", \"sizeref\": 149.5808, \"symbol\": \"circle\"}, \"mode\": \"markers\", \"name\": \"Tarrant\", \"orientation\": \"v\", \"showlegend\": true, \"type\": \"scatter\", \"x\": [\"Texas\"], \"xaxis\": \"x\", \"y\": [161878], \"yaxis\": \"y\"}, {\"hovertemplate\": \"<b>%{hovertext}</b><br><br>county=Broward<br>state=%{x}<br>confirmed=%{marker.size}<extra></extra>\", \"hovertext\": [\"Florida\"], \"legendgroup\": \"Broward\", \"marker\": {\"color\": \"#00cc96\", \"size\": [144590], \"sizemode\": \"area\", \"sizeref\": 149.5808, \"symbol\": \"circle\"}, \"mode\": \"markers\", \"name\": \"Broward\", \"orientation\": \"v\", \"showlegend\": true, \"type\": \"scatter\", \"x\": [\"Florida\"], \"xaxis\": \"x\", \"y\": [144590], \"yaxis\": \"y\"}, {\"hovertemplate\": \"<b>%{hovertext}</b><br><br>county=Queens<br>state=%{x}<br>confirmed=%{marker.size}<extra></extra>\", \"hovertext\": [\"New York\"], \"legendgroup\": \"Queens\", \"marker\": {\"color\": \"#ab63fa\", \"size\": [134670], \"sizemode\": \"area\", \"sizeref\": 149.5808, \"symbol\": \"circle\"}, \"mode\": \"markers\", \"name\": \"Queens\", \"orientation\": \"v\", \"showlegend\": true, \"type\": \"scatter\", \"x\": [\"New York\"], \"xaxis\": \"x\", \"y\": [134670], \"yaxis\": \"y\"}, {\"hovertemplate\": \"<b>%{hovertext}</b><br><br>county=Kings<br>state=%{x}<br>confirmed=%{marker.size}<extra></extra>\", \"hovertext\": [\"New York\"], \"legendgroup\": \"Kings\", \"marker\": {\"color\": \"#FFA15A\", \"size\": [132075], \"sizemode\": \"area\", \"sizeref\": 149.5808, \"symbol\": \"circle\"}, \"mode\": \"markers\", \"name\": \"Kings\", \"orientation\": \"v\", \"showlegend\": true, \"type\": \"scatter\", \"x\": [\"New York\"], \"xaxis\": \"x\", \"y\": [132075], \"yaxis\": \"y\"}, {\"hovertemplate\": \"<b>%{hovertext}</b><br><br>county=Bexar<br>state=%{x}<br>confirmed=%{marker.size}<extra></extra>\", \"hovertext\": [\"Texas\"], \"legendgroup\": \"Bexar\", \"marker\": {\"color\": \"#19d3f3\", \"size\": [124800], \"sizemode\": \"area\", \"sizeref\": 149.5808, \"symbol\": \"circle\"}, \"mode\": \"markers\", \"name\": \"Bexar\", \"orientation\": \"v\", \"showlegend\": true, \"type\": \"scatter\", \"x\": [\"Texas\"], \"xaxis\": \"x\", \"y\": [124800], \"yaxis\": \"y\"}, {\"hovertemplate\": \"<b>%{hovertext}</b><br><br>county=Salt Lake<br>state=%{x}<br>confirmed=%{marker.size}<extra></extra>\", \"hovertext\": [\"Utah\"], \"legendgroup\": \"Salt Lake\", \"marker\": {\"color\": \"#FF6692\", \"size\": [111389], \"sizemode\": \"area\", \"sizeref\": 149.5808, \"symbol\": \"circle\"}, \"mode\": \"markers\", \"name\": \"Salt Lake\", \"orientation\": \"v\", \"showlegend\": true, \"type\": \"scatter\", \"x\": [\"Utah\"], \"xaxis\": \"x\", \"y\": [111389], \"yaxis\": \"y\"}, {\"hovertemplate\": \"<b>%{hovertext}</b><br><br>county=Suffolk<br>state=%{x}<br>confirmed=%{marker.size}<extra></extra>\", \"hovertext\": [\"New York\"], \"legendgroup\": \"Suffolk\", \"marker\": {\"color\": \"#B6E880\", \"size\": [106061], \"sizemode\": \"area\", \"sizeref\": 149.5808, \"symbol\": \"circle\"}, \"mode\": \"markers\", \"name\": \"Suffolk\", \"orientation\": \"v\", \"showlegend\": true, \"type\": \"scatter\", \"x\": [\"New York\"], \"xaxis\": \"x\", \"y\": [106061], \"yaxis\": \"y\"}, {\"hovertemplate\": \"<b>%{hovertext}</b><br><br>county=El Paso<br>state=%{x}<br>confirmed=%{marker.size}<extra></extra>\", \"hovertext\": [\"Texas\"], \"legendgroup\": \"El Paso\", \"marker\": {\"color\": \"#FF97FF\", \"size\": [100944], \"sizemode\": \"area\", \"sizeref\": 149.5808, \"symbol\": \"circle\"}, \"mode\": \"markers\", \"name\": \"El Paso\", \"orientation\": \"v\", \"showlegend\": true, \"type\": \"scatter\", \"x\": [\"Texas\"], \"xaxis\": \"x\", \"y\": [100944], \"yaxis\": \"y\"}, {\"hovertemplate\": \"<b>%{hovertext}</b><br><br>county=Philadelphia<br>state=%{x}<br>confirmed=%{marker.size}<extra></extra>\", \"hovertext\": [\"Pennsylvania\"], \"legendgroup\": \"Philadelphia\", \"marker\": {\"color\": \"#FECB52\", \"size\": [97099], \"sizemode\": \"area\", \"sizeref\": 149.5808, \"symbol\": \"circle\"}, \"mode\": \"markers\", \"name\": \"Philadelphia\", \"orientation\": \"v\", \"showlegend\": true, \"type\": \"scatter\", \"x\": [\"Pennsylvania\"], \"xaxis\": \"x\", \"y\": [97099], \"yaxis\": \"y\"}, {\"hovertemplate\": \"<b>%{hovertext}</b><br><br>county=Nassau<br>state=%{x}<br>confirmed=%{marker.size}<extra></extra>\", \"hovertext\": [\"New York\"], \"legendgroup\": \"Nassau\", \"marker\": {\"color\": \"#636efa\", \"size\": [96112], \"sizemode\": \"area\", \"sizeref\": 149.5808, \"symbol\": \"circle\"}, \"mode\": \"markers\", \"name\": \"Nassau\", \"orientation\": \"v\", \"showlegend\": true, \"type\": \"scatter\", \"x\": [\"New York\"], \"xaxis\": \"x\", \"y\": [96112], \"yaxis\": \"y\"}, {\"hovertemplate\": \"<b>%{hovertext}</b><br><br>county=Milwaukee<br>state=%{x}<br>confirmed=%{marker.size}<extra></extra>\", \"hovertext\": [\"Wisconsin\"], \"legendgroup\": \"Milwaukee\", \"marker\": {\"color\": \"#EF553B\", \"size\": [93509], \"sizemode\": \"area\", \"sizeref\": 149.5808, \"symbol\": \"circle\"}, \"mode\": \"markers\", \"name\": \"Milwaukee\", \"orientation\": \"v\", \"showlegend\": true, \"type\": \"scatter\", \"x\": [\"Wisconsin\"], \"xaxis\": \"x\", \"y\": [93509], \"yaxis\": \"y\"}, {\"hovertemplate\": \"<b>%{hovertext}</b><br><br>county=Bronx<br>state=%{x}<br>confirmed=%{marker.size}<extra></extra>\", \"hovertext\": [\"New York\"], \"legendgroup\": \"Bronx\", \"marker\": {\"color\": \"#00cc96\", \"size\": [90958], \"sizemode\": \"area\", \"sizeref\": 149.5808, \"symbol\": \"circle\"}, \"mode\": \"markers\", \"name\": \"Bronx\", \"orientation\": \"v\", \"showlegend\": true, \"type\": \"scatter\", \"x\": [\"New York\"], \"xaxis\": \"x\", \"y\": [90958], \"yaxis\": \"y\"}, {\"hovertemplate\": \"<b>%{hovertext}</b><br><br>county=Hennepin<br>state=%{x}<br>confirmed=%{marker.size}<extra></extra>\", \"hovertext\": [\"Minnesota\"], \"legendgroup\": \"Hennepin\", \"marker\": {\"color\": \"#ab63fa\", \"size\": [88832], \"sizemode\": \"area\", \"sizeref\": 149.5808, \"symbol\": \"circle\"}, \"mode\": \"markers\", \"name\": \"Hennepin\", \"orientation\": \"v\", \"showlegend\": true, \"type\": \"scatter\", \"x\": [\"Minnesota\"], \"xaxis\": \"x\", \"y\": [88832], \"yaxis\": \"y\"}, {\"hovertemplate\": \"<b>%{hovertext}</b><br><br>county=Franklin<br>state=%{x}<br>confirmed=%{marker.size}<extra></extra>\", \"hovertext\": [\"Ohio\"], \"legendgroup\": \"Franklin\", \"marker\": {\"color\": \"#FFA15A\", \"size\": [88447], \"sizemode\": \"area\", \"sizeref\": 149.5808, \"symbol\": \"circle\"}, \"mode\": \"markers\", \"name\": \"Franklin\", \"orientation\": \"v\", \"showlegend\": true, \"type\": \"scatter\", \"x\": [\"Ohio\"], \"xaxis\": \"x\", \"y\": [88447], \"yaxis\": \"y\"}, {\"hovertemplate\": \"<b>%{hovertext}</b><br><br>county=Palm Beach<br>state=%{x}<br>confirmed=%{marker.size}<extra></extra>\", \"hovertext\": [\"Florida\"], \"legendgroup\": \"Palm Beach\", \"marker\": {\"color\": \"#19d3f3\", \"size\": [87683], \"sizemode\": \"area\", \"sizeref\": 149.5808, \"symbol\": \"circle\"}, \"mode\": \"markers\", \"name\": \"Palm Beach\", \"orientation\": \"v\", \"showlegend\": true, \"type\": \"scatter\", \"x\": [\"Florida\"], \"xaxis\": \"x\", \"y\": [87683], \"yaxis\": \"y\"}, {\"hovertemplate\": \"<b>%{hovertext}</b><br><br>county=Wayne<br>state=%{x}<br>confirmed=%{marker.size}<extra></extra>\", \"hovertext\": [\"Michigan\"], \"legendgroup\": \"Wayne\", \"marker\": {\"color\": \"#FF6692\", \"size\": [87259], \"sizemode\": \"area\", \"sizeref\": 149.5808, \"symbol\": \"circle\"}, \"mode\": \"markers\", \"name\": \"Wayne\", \"orientation\": \"v\", \"showlegend\": true, \"type\": \"scatter\", \"x\": [\"Michigan\"], \"xaxis\": \"x\", \"y\": [87259], \"yaxis\": \"y\"}, {\"hovertemplate\": \"<b>%{hovertext}</b><br><br>county=Hillsborough<br>state=%{x}<br>confirmed=%{marker.size}<extra></extra>\", \"hovertext\": [\"Florida\"], \"legendgroup\": \"Hillsborough\", \"marker\": {\"color\": \"#B6E880\", \"size\": [82257], \"sizemode\": \"area\", \"sizeref\": 149.5808, \"symbol\": \"circle\"}, \"mode\": \"markers\", \"name\": \"Hillsborough\", \"orientation\": \"v\", \"showlegend\": true, \"type\": \"scatter\", \"x\": [\"Florida\"], \"xaxis\": \"x\", \"y\": [82257], \"yaxis\": \"y\"}, {\"hovertemplate\": \"<b>%{hovertext}</b><br><br>county=Middlesex<br>state=%{x}<br>confirmed=%{marker.size}<extra></extra>\", \"hovertext\": [\"Massachusetts\"], \"legendgroup\": \"Middlesex\", \"marker\": {\"color\": \"#FF97FF\", \"size\": [79505], \"sizemode\": \"area\", \"sizeref\": 149.5808, \"symbol\": \"circle\"}, \"mode\": \"markers\", \"name\": \"Middlesex\", \"orientation\": \"v\", \"showlegend\": true, \"type\": \"scatter\", \"x\": [\"Massachusetts\"], \"xaxis\": \"x\", \"y\": [79505], \"yaxis\": \"y\"}],                        {\"legend\": {\"itemsizing\": \"constant\", \"title\": {\"text\": \"county\"}, \"tracegroupgap\": 0}, \"margin\": {\"t\": 60}, \"template\": {\"data\": {\"bar\": [{\"error_x\": {\"color\": \"#2a3f5f\"}, \"error_y\": {\"color\": \"#2a3f5f\"}, \"marker\": {\"line\": {\"color\": \"#E5ECF6\", \"width\": 0.5}}, \"type\": \"bar\"}], \"barpolar\": [{\"marker\": {\"line\": {\"color\": \"#E5ECF6\", \"width\": 0.5}}, \"type\": \"barpolar\"}], \"carpet\": [{\"aaxis\": {\"endlinecolor\": \"#2a3f5f\", \"gridcolor\": \"white\", \"linecolor\": \"white\", \"minorgridcolor\": \"white\", \"startlinecolor\": \"#2a3f5f\"}, \"baxis\": {\"endlinecolor\": \"#2a3f5f\", \"gridcolor\": \"white\", \"linecolor\": \"white\", \"minorgridcolor\": \"white\", \"startlinecolor\": \"#2a3f5f\"}, \"type\": \"carpet\"}], \"choropleth\": [{\"colorbar\": {\"outlinewidth\": 0, \"ticks\": \"\"}, \"type\": \"choropleth\"}], \"contour\": [{\"colorbar\": {\"outlinewidth\": 0, \"ticks\": \"\"}, \"colorscale\": [[0.0, \"#0d0887\"], [0.1111111111111111, \"#46039f\"], [0.2222222222222222, \"#7201a8\"], [0.3333333333333333, \"#9c179e\"], [0.4444444444444444, \"#bd3786\"], [0.5555555555555556, \"#d8576b\"], [0.6666666666666666, \"#ed7953\"], [0.7777777777777778, \"#fb9f3a\"], [0.8888888888888888, \"#fdca26\"], [1.0, \"#f0f921\"]], \"type\": \"contour\"}], \"contourcarpet\": [{\"colorbar\": {\"outlinewidth\": 0, \"ticks\": \"\"}, \"type\": \"contourcarpet\"}], \"heatmap\": [{\"colorbar\": {\"outlinewidth\": 0, \"ticks\": \"\"}, \"colorscale\": [[0.0, \"#0d0887\"], [0.1111111111111111, \"#46039f\"], [0.2222222222222222, \"#7201a8\"], [0.3333333333333333, \"#9c179e\"], [0.4444444444444444, \"#bd3786\"], [0.5555555555555556, \"#d8576b\"], [0.6666666666666666, \"#ed7953\"], [0.7777777777777778, \"#fb9f3a\"], [0.8888888888888888, \"#fdca26\"], [1.0, \"#f0f921\"]], \"type\": \"heatmap\"}], \"heatmapgl\": [{\"colorbar\": {\"outlinewidth\": 0, \"ticks\": \"\"}, \"colorscale\": [[0.0, \"#0d0887\"], [0.1111111111111111, \"#46039f\"], [0.2222222222222222, \"#7201a8\"], [0.3333333333333333, \"#9c179e\"], [0.4444444444444444, \"#bd3786\"], [0.5555555555555556, \"#d8576b\"], [0.6666666666666666, \"#ed7953\"], [0.7777777777777778, \"#fb9f3a\"], [0.8888888888888888, \"#fdca26\"], [1.0, \"#f0f921\"]], \"type\": \"heatmapgl\"}], \"histogram\": [{\"marker\": {\"colorbar\": {\"outlinewidth\": 0, \"ticks\": \"\"}}, \"type\": \"histogram\"}], \"histogram2d\": [{\"colorbar\": {\"outlinewidth\": 0, \"ticks\": \"\"}, \"colorscale\": [[0.0, \"#0d0887\"], [0.1111111111111111, \"#46039f\"], [0.2222222222222222, \"#7201a8\"], [0.3333333333333333, \"#9c179e\"], [0.4444444444444444, \"#bd3786\"], [0.5555555555555556, \"#d8576b\"], [0.6666666666666666, \"#ed7953\"], [0.7777777777777778, \"#fb9f3a\"], [0.8888888888888888, \"#fdca26\"], [1.0, \"#f0f921\"]], \"type\": \"histogram2d\"}], \"histogram2dcontour\": [{\"colorbar\": {\"outlinewidth\": 0, \"ticks\": \"\"}, \"colorscale\": [[0.0, \"#0d0887\"], [0.1111111111111111, \"#46039f\"], [0.2222222222222222, \"#7201a8\"], [0.3333333333333333, \"#9c179e\"], [0.4444444444444444, \"#bd3786\"], [0.5555555555555556, \"#d8576b\"], [0.6666666666666666, \"#ed7953\"], [0.7777777777777778, \"#fb9f3a\"], [0.8888888888888888, \"#fdca26\"], [1.0, \"#f0f921\"]], \"type\": \"histogram2dcontour\"}], \"mesh3d\": [{\"colorbar\": {\"outlinewidth\": 0, \"ticks\": \"\"}, \"type\": \"mesh3d\"}], \"parcoords\": [{\"line\": {\"colorbar\": {\"outlinewidth\": 0, \"ticks\": \"\"}}, \"type\": \"parcoords\"}], \"pie\": [{\"automargin\": true, \"type\": \"pie\"}], \"scatter\": [{\"marker\": {\"colorbar\": {\"outlinewidth\": 0, \"ticks\": \"\"}}, \"type\": \"scatter\"}], \"scatter3d\": [{\"line\": {\"colorbar\": {\"outlinewidth\": 0, \"ticks\": \"\"}}, \"marker\": {\"colorbar\": {\"outlinewidth\": 0, \"ticks\": \"\"}}, \"type\": \"scatter3d\"}], \"scattercarpet\": [{\"marker\": {\"colorbar\": {\"outlinewidth\": 0, \"ticks\": \"\"}}, \"type\": \"scattercarpet\"}], \"scattergeo\": [{\"marker\": {\"colorbar\": {\"outlinewidth\": 0, \"ticks\": \"\"}}, \"type\": \"scattergeo\"}], \"scattergl\": [{\"marker\": {\"colorbar\": {\"outlinewidth\": 0, \"ticks\": \"\"}}, \"type\": \"scattergl\"}], \"scattermapbox\": [{\"marker\": {\"colorbar\": {\"outlinewidth\": 0, \"ticks\": \"\"}}, \"type\": \"scattermapbox\"}], \"scatterpolar\": [{\"marker\": {\"colorbar\": {\"outlinewidth\": 0, \"ticks\": \"\"}}, \"type\": \"scatterpolar\"}], \"scatterpolargl\": [{\"marker\": {\"colorbar\": {\"outlinewidth\": 0, \"ticks\": \"\"}}, \"type\": \"scatterpolargl\"}], \"scatterternary\": [{\"marker\": {\"colorbar\": {\"outlinewidth\": 0, \"ticks\": \"\"}}, \"type\": \"scatterternary\"}], \"surface\": [{\"colorbar\": {\"outlinewidth\": 0, \"ticks\": \"\"}, \"colorscale\": [[0.0, \"#0d0887\"], [0.1111111111111111, \"#46039f\"], [0.2222222222222222, \"#7201a8\"], [0.3333333333333333, \"#9c179e\"], [0.4444444444444444, \"#bd3786\"], [0.5555555555555556, \"#d8576b\"], [0.6666666666666666, \"#ed7953\"], [0.7777777777777778, \"#fb9f3a\"], [0.8888888888888888, \"#fdca26\"], [1.0, \"#f0f921\"]], \"type\": \"surface\"}], \"table\": [{\"cells\": {\"fill\": {\"color\": \"#EBF0F8\"}, \"line\": {\"color\": \"white\"}}, \"header\": {\"fill\": {\"color\": \"#C8D4E3\"}, \"line\": {\"color\": \"white\"}}, \"type\": \"table\"}]}, \"layout\": {\"annotationdefaults\": {\"arrowcolor\": \"#2a3f5f\", \"arrowhead\": 0, \"arrowwidth\": 1}, \"autotypenumbers\": \"strict\", \"coloraxis\": {\"colorbar\": {\"outlinewidth\": 0, \"ticks\": \"\"}}, \"colorscale\": {\"diverging\": [[0, \"#8e0152\"], [0.1, \"#c51b7d\"], [0.2, \"#de77ae\"], [0.3, \"#f1b6da\"], [0.4, \"#fde0ef\"], [0.5, \"#f7f7f7\"], [0.6, \"#e6f5d0\"], [0.7, \"#b8e186\"], [0.8, \"#7fbc41\"], [0.9, \"#4d9221\"], [1, \"#276419\"]], \"sequential\": [[0.0, \"#0d0887\"], [0.1111111111111111, \"#46039f\"], [0.2222222222222222, \"#7201a8\"], [0.3333333333333333, \"#9c179e\"], [0.4444444444444444, \"#bd3786\"], [0.5555555555555556, \"#d8576b\"], [0.6666666666666666, \"#ed7953\"], [0.7777777777777778, \"#fb9f3a\"], [0.8888888888888888, \"#fdca26\"], [1.0, \"#f0f921\"]], \"sequentialminus\": [[0.0, \"#0d0887\"], [0.1111111111111111, \"#46039f\"], [0.2222222222222222, \"#7201a8\"], [0.3333333333333333, \"#9c179e\"], [0.4444444444444444, \"#bd3786\"], [0.5555555555555556, \"#d8576b\"], [0.6666666666666666, \"#ed7953\"], [0.7777777777777778, \"#fb9f3a\"], [0.8888888888888888, \"#fdca26\"], [1.0, \"#f0f921\"]]}, \"colorway\": [\"#636efa\", \"#EF553B\", \"#00cc96\", \"#ab63fa\", \"#FFA15A\", \"#19d3f3\", \"#FF6692\", \"#B6E880\", \"#FF97FF\", \"#FECB52\"], \"font\": {\"color\": \"#2a3f5f\"}, \"geo\": {\"bgcolor\": \"white\", \"lakecolor\": \"white\", \"landcolor\": \"#E5ECF6\", \"showlakes\": true, \"showland\": true, \"subunitcolor\": \"white\"}, \"hoverlabel\": {\"align\": \"left\"}, \"hovermode\": \"closest\", \"mapbox\": {\"style\": \"light\"}, \"paper_bgcolor\": \"white\", \"plot_bgcolor\": \"#E5ECF6\", \"polar\": {\"angularaxis\": {\"gridcolor\": \"white\", \"linecolor\": \"white\", \"ticks\": \"\"}, \"bgcolor\": \"#E5ECF6\", \"radialaxis\": {\"gridcolor\": \"white\", \"linecolor\": \"white\", \"ticks\": \"\"}}, \"scene\": {\"xaxis\": {\"backgroundcolor\": \"#E5ECF6\", \"gridcolor\": \"white\", \"gridwidth\": 2, \"linecolor\": \"white\", \"showbackground\": true, \"ticks\": \"\", \"zerolinecolor\": \"white\"}, \"yaxis\": {\"backgroundcolor\": \"#E5ECF6\", \"gridcolor\": \"white\", \"gridwidth\": 2, \"linecolor\": \"white\", \"showbackground\": true, \"ticks\": \"\", \"zerolinecolor\": \"white\"}, \"zaxis\": {\"backgroundcolor\": \"#E5ECF6\", \"gridcolor\": \"white\", \"gridwidth\": 2, \"linecolor\": \"white\", \"showbackground\": true, \"ticks\": \"\", \"zerolinecolor\": \"white\"}}, \"shapedefaults\": {\"line\": {\"color\": \"#2a3f5f\"}}, \"ternary\": {\"aaxis\": {\"gridcolor\": \"white\", \"linecolor\": \"white\", \"ticks\": \"\"}, \"baxis\": {\"gridcolor\": \"white\", \"linecolor\": \"white\", \"ticks\": \"\"}, \"bgcolor\": \"#E5ECF6\", \"caxis\": {\"gridcolor\": \"white\", \"linecolor\": \"white\", \"ticks\": \"\"}}, \"title\": {\"x\": 0.05}, \"xaxis\": {\"automargin\": true, \"gridcolor\": \"white\", \"linecolor\": \"white\", \"ticks\": \"\", \"title\": {\"standoff\": 15}, \"zerolinecolor\": \"white\", \"zerolinewidth\": 2}, \"yaxis\": {\"automargin\": true, \"gridcolor\": \"white\", \"linecolor\": \"white\", \"ticks\": \"\", \"title\": {\"standoff\": 15}, \"zerolinecolor\": \"white\", \"zerolinewidth\": 2}}}, \"xaxis\": {\"anchor\": \"y\", \"domain\": [0.0, 1.0], \"title\": {\"text\": \"state\"}}, \"yaxis\": {\"anchor\": \"x\", \"domain\": [0.0, 1.0], \"title\": {\"text\": \"confirmed\"}}},                        {\"responsive\": true}                    ).then(function(){\n",
       "                            \n",
       "var gd = document.getElementById('45b05e02-5e5f-4875-95ab-fd401afac414');\n",
       "var x = new MutationObserver(function (mutations, observer) {{\n",
       "        var display = window.getComputedStyle(gd).display;\n",
       "        if (!display || display === 'none') {{\n",
       "            console.log([gd, 'removed!']);\n",
       "            Plotly.purge(gd);\n",
       "            observer.disconnect();\n",
       "        }}\n",
       "}});\n",
       "\n",
       "// Listen for the removal of the full notebook cells\n",
       "var notebookContainer = gd.closest('#notebook-container');\n",
       "if (notebookContainer) {{\n",
       "    x.observe(notebookContainer, {childList: true});\n",
       "}}\n",
       "\n",
       "// Listen for the clearing of the current output cell\n",
       "var outputEl = gd.closest('.output');\n",
       "if (outputEl) {{\n",
       "    x.observe(outputEl, {childList: true});\n",
       "}}\n",
       "\n",
       "                        })                };                });            </script>        </div>"
      ]
     },
     "metadata": {},
     "output_type": "display_data"
    }
   ],
   "source": [
    "fig_county = px.scatter(sorted_df.head(30),\n",
    "                     x='state',\n",
    "                     y='confirmed',\n",
    "                     size='confirmed',\n",
    "                     color='county',\n",
    "                     hover_name='state',\n",
    "                     size_max=75)\n",
    "fig_county.show()"
   ]
  },
  {
   "cell_type": "code",
   "execution_count": 88,
   "metadata": {},
   "outputs": [
    {
     "data": {
      "application/vnd.plotly.v1+json": {
       "config": {
        "plotlyServerURL": "https://plot.ly"
       },
       "data": [
        {
         "hovertemplate": "<b>%{hovertext}</b><br><br>county=%{x}<br>confirmed=%{marker.size}<extra></extra>",
         "hovertext": [
          "California"
         ],
         "legendgroup": "Los Angeles",
         "marker": {
          "color": "#636efa",
          "size": [
           841392
          ],
          "sizemode": "area",
          "sizeref": 233.72,
          "symbol": "circle"
         },
         "mode": "markers",
         "name": "Los Angeles",
         "orientation": "v",
         "showlegend": true,
         "type": "scatter",
         "x": [
          "Los Angeles"
         ],
         "xaxis": "x",
         "y": [
          841392
         ],
         "yaxis": "y"
        },
        {
         "hovertemplate": "<b>%{hovertext}</b><br><br>county=%{x}<br>confirmed=%{marker.size}<extra></extra>",
         "hovertext": [
          "Illinois"
         ],
         "legendgroup": "Cook",
         "marker": {
          "color": "#EF553B",
          "size": [
           406674
          ],
          "sizemode": "area",
          "sizeref": 233.72,
          "symbol": "circle"
         },
         "mode": "markers",
         "name": "Cook",
         "orientation": "v",
         "showlegend": true,
         "type": "scatter",
         "x": [
          "Cook"
         ],
         "xaxis": "x",
         "y": [
          406674
         ],
         "yaxis": "y"
        },
        {
         "hovertemplate": "<b>%{hovertext}</b><br><br>county=%{x}<br>confirmed=%{marker.size}<extra></extra>",
         "hovertext": [
          "Arizona"
         ],
         "legendgroup": "Maricopa",
         "marker": {
          "color": "#00cc96",
          "size": [
           349852
          ],
          "sizemode": "area",
          "sizeref": 233.72,
          "symbol": "circle"
         },
         "mode": "markers",
         "name": "Maricopa",
         "orientation": "v",
         "showlegend": true,
         "type": "scatter",
         "x": [
          "Maricopa"
         ],
         "xaxis": "x",
         "y": [
          349852
         ],
         "yaxis": "y"
        },
        {
         "hovertemplate": "<b>%{hovertext}</b><br><br>county=%{x}<br>confirmed=%{marker.size}<extra></extra>",
         "hovertext": [
          "Florida"
         ],
         "legendgroup": "Miami-Dade",
         "marker": {
          "color": "#ab63fa",
          "size": [
           314742
          ],
          "sizemode": "area",
          "sizeref": 233.72,
          "symbol": "circle"
         },
         "mode": "markers",
         "name": "Miami-Dade",
         "orientation": "v",
         "showlegend": true,
         "type": "scatter",
         "x": [
          "Miami-Dade"
         ],
         "xaxis": "x",
         "y": [
          314742
         ],
         "yaxis": "y"
        },
        {
         "hovertemplate": "<b>%{hovertext}</b><br><br>county=%{x}<br>confirmed=%{marker.size}<extra></extra>",
         "hovertext": [
          "Texas"
         ],
         "legendgroup": "Harris",
         "marker": {
          "color": "#FFA15A",
          "size": [
           249488
          ],
          "sizemode": "area",
          "sizeref": 233.72,
          "symbol": "circle"
         },
         "mode": "markers",
         "name": "Harris",
         "orientation": "v",
         "showlegend": true,
         "type": "scatter",
         "x": [
          "Harris"
         ],
         "xaxis": "x",
         "y": [
          249488
         ],
         "yaxis": "y"
        },
        {
         "hovertemplate": "<b>%{hovertext}</b><br><br>county=%{x}<br>confirmed=%{marker.size}<extra></extra>",
         "hovertext": [
          "California"
         ],
         "legendgroup": "San Bernardino",
         "marker": {
          "color": "#19d3f3",
          "size": [
           214813
          ],
          "sizemode": "area",
          "sizeref": 233.72,
          "symbol": "circle"
         },
         "mode": "markers",
         "name": "San Bernardino",
         "orientation": "v",
         "showlegend": true,
         "type": "scatter",
         "x": [
          "San Bernardino"
         ],
         "xaxis": "x",
         "y": [
          214813
         ],
         "yaxis": "y"
        },
        {
         "hovertemplate": "<b>%{hovertext}</b><br><br>county=%{x}<br>confirmed=%{marker.size}<extra></extra>",
         "hovertext": [
          "Texas"
         ],
         "legendgroup": "Dallas",
         "marker": {
          "color": "#FF6692",
          "size": [
           204374
          ],
          "sizemode": "area",
          "sizeref": 233.72,
          "symbol": "circle"
         },
         "mode": "markers",
         "name": "Dallas",
         "orientation": "v",
         "showlegend": true,
         "type": "scatter",
         "x": [
          "Dallas"
         ],
         "xaxis": "x",
         "y": [
          204374
         ],
         "yaxis": "y"
        },
        {
         "hovertemplate": "<b>%{hovertext}</b><br><br>county=%{x}<br>confirmed=%{marker.size}<extra></extra>",
         "hovertext": [
          "California"
         ],
         "legendgroup": "Riverside",
         "marker": {
          "color": "#B6E880",
          "size": [
           200439
          ],
          "sizemode": "area",
          "sizeref": 233.72,
          "symbol": "circle"
         },
         "mode": "markers",
         "name": "Riverside",
         "orientation": "v",
         "showlegend": true,
         "type": "scatter",
         "x": [
          "Riverside"
         ],
         "xaxis": "x",
         "y": [
          200439
         ],
         "yaxis": "y"
        },
        {
         "hovertemplate": "<b>%{hovertext}</b><br><br>county=%{x}<br>confirmed=%{marker.size}<extra></extra>",
         "hovertext": [
          "Nevada"
         ],
         "legendgroup": "Clark",
         "marker": {
          "color": "#FF97FF",
          "size": [
           180524
          ],
          "sizemode": "area",
          "sizeref": 233.72,
          "symbol": "circle"
         },
         "mode": "markers",
         "name": "Clark",
         "orientation": "v",
         "showlegend": true,
         "type": "scatter",
         "x": [
          "Clark"
         ],
         "xaxis": "x",
         "y": [
          180524
         ],
         "yaxis": "y"
        },
        {
         "hovertemplate": "<b>%{hovertext}</b><br><br>county=%{x}<br>confirmed=%{marker.size}<extra></extra>",
         "hovertext": [
          "California",
          "Florida"
         ],
         "legendgroup": "Orange",
         "marker": {
          "color": "#FECB52",
          "size": [
           174869,
           82155
          ],
          "sizemode": "area",
          "sizeref": 233.72,
          "symbol": "circle"
         },
         "mode": "markers",
         "name": "Orange",
         "orientation": "v",
         "showlegend": true,
         "type": "scatter",
         "x": [
          "Orange",
          "Orange"
         ],
         "xaxis": "x",
         "y": [
          174869,
          82155
         ],
         "yaxis": "y"
        },
        {
         "hovertemplate": "<b>%{hovertext}</b><br><br>county=%{x}<br>confirmed=%{marker.size}<extra></extra>",
         "hovertext": [
          "California"
         ],
         "legendgroup": "San Diego",
         "marker": {
          "color": "#636efa",
          "size": [
           172847
          ],
          "sizemode": "area",
          "sizeref": 233.72,
          "symbol": "circle"
         },
         "mode": "markers",
         "name": "San Diego",
         "orientation": "v",
         "showlegend": true,
         "type": "scatter",
         "x": [
          "San Diego"
         ],
         "xaxis": "x",
         "y": [
          172847
         ],
         "yaxis": "y"
        },
        {
         "hovertemplate": "<b>%{hovertext}</b><br><br>county=%{x}<br>confirmed=%{marker.size}<extra></extra>",
         "hovertext": [
          "Texas"
         ],
         "legendgroup": "Tarrant",
         "marker": {
          "color": "#EF553B",
          "size": [
           161878
          ],
          "sizemode": "area",
          "sizeref": 233.72,
          "symbol": "circle"
         },
         "mode": "markers",
         "name": "Tarrant",
         "orientation": "v",
         "showlegend": true,
         "type": "scatter",
         "x": [
          "Tarrant"
         ],
         "xaxis": "x",
         "y": [
          161878
         ],
         "yaxis": "y"
        },
        {
         "hovertemplate": "<b>%{hovertext}</b><br><br>county=%{x}<br>confirmed=%{marker.size}<extra></extra>",
         "hovertext": [
          "Florida"
         ],
         "legendgroup": "Broward",
         "marker": {
          "color": "#00cc96",
          "size": [
           144590
          ],
          "sizemode": "area",
          "sizeref": 233.72,
          "symbol": "circle"
         },
         "mode": "markers",
         "name": "Broward",
         "orientation": "v",
         "showlegend": true,
         "type": "scatter",
         "x": [
          "Broward"
         ],
         "xaxis": "x",
         "y": [
          144590
         ],
         "yaxis": "y"
        },
        {
         "hovertemplate": "<b>%{hovertext}</b><br><br>county=%{x}<br>confirmed=%{marker.size}<extra></extra>",
         "hovertext": [
          "New York"
         ],
         "legendgroup": "Queens",
         "marker": {
          "color": "#ab63fa",
          "size": [
           134670
          ],
          "sizemode": "area",
          "sizeref": 233.72,
          "symbol": "circle"
         },
         "mode": "markers",
         "name": "Queens",
         "orientation": "v",
         "showlegend": true,
         "type": "scatter",
         "x": [
          "Queens"
         ],
         "xaxis": "x",
         "y": [
          134670
         ],
         "yaxis": "y"
        },
        {
         "hovertemplate": "<b>%{hovertext}</b><br><br>county=%{x}<br>confirmed=%{marker.size}<extra></extra>",
         "hovertext": [
          "New York"
         ],
         "legendgroup": "Kings",
         "marker": {
          "color": "#FFA15A",
          "size": [
           132075
          ],
          "sizemode": "area",
          "sizeref": 233.72,
          "symbol": "circle"
         },
         "mode": "markers",
         "name": "Kings",
         "orientation": "v",
         "showlegend": true,
         "type": "scatter",
         "x": [
          "Kings"
         ],
         "xaxis": "x",
         "y": [
          132075
         ],
         "yaxis": "y"
        },
        {
         "hovertemplate": "<b>%{hovertext}</b><br><br>county=%{x}<br>confirmed=%{marker.size}<extra></extra>",
         "hovertext": [
          "Texas"
         ],
         "legendgroup": "Bexar",
         "marker": {
          "color": "#19d3f3",
          "size": [
           124800
          ],
          "sizemode": "area",
          "sizeref": 233.72,
          "symbol": "circle"
         },
         "mode": "markers",
         "name": "Bexar",
         "orientation": "v",
         "showlegend": true,
         "type": "scatter",
         "x": [
          "Bexar"
         ],
         "xaxis": "x",
         "y": [
          124800
         ],
         "yaxis": "y"
        },
        {
         "hovertemplate": "<b>%{hovertext}</b><br><br>county=%{x}<br>confirmed=%{marker.size}<extra></extra>",
         "hovertext": [
          "Utah"
         ],
         "legendgroup": "Salt Lake",
         "marker": {
          "color": "#FF6692",
          "size": [
           111389
          ],
          "sizemode": "area",
          "sizeref": 233.72,
          "symbol": "circle"
         },
         "mode": "markers",
         "name": "Salt Lake",
         "orientation": "v",
         "showlegend": true,
         "type": "scatter",
         "x": [
          "Salt Lake"
         ],
         "xaxis": "x",
         "y": [
          111389
         ],
         "yaxis": "y"
        },
        {
         "hovertemplate": "<b>%{hovertext}</b><br><br>county=%{x}<br>confirmed=%{marker.size}<extra></extra>",
         "hovertext": [
          "New York"
         ],
         "legendgroup": "Suffolk",
         "marker": {
          "color": "#B6E880",
          "size": [
           106061
          ],
          "sizemode": "area",
          "sizeref": 233.72,
          "symbol": "circle"
         },
         "mode": "markers",
         "name": "Suffolk",
         "orientation": "v",
         "showlegend": true,
         "type": "scatter",
         "x": [
          "Suffolk"
         ],
         "xaxis": "x",
         "y": [
          106061
         ],
         "yaxis": "y"
        },
        {
         "hovertemplate": "<b>%{hovertext}</b><br><br>county=%{x}<br>confirmed=%{marker.size}<extra></extra>",
         "hovertext": [
          "Texas"
         ],
         "legendgroup": "El Paso",
         "marker": {
          "color": "#FF97FF",
          "size": [
           100944
          ],
          "sizemode": "area",
          "sizeref": 233.72,
          "symbol": "circle"
         },
         "mode": "markers",
         "name": "El Paso",
         "orientation": "v",
         "showlegend": true,
         "type": "scatter",
         "x": [
          "El Paso"
         ],
         "xaxis": "x",
         "y": [
          100944
         ],
         "yaxis": "y"
        },
        {
         "hovertemplate": "<b>%{hovertext}</b><br><br>county=%{x}<br>confirmed=%{marker.size}<extra></extra>",
         "hovertext": [
          "Pennsylvania"
         ],
         "legendgroup": "Philadelphia",
         "marker": {
          "color": "#FECB52",
          "size": [
           97099
          ],
          "sizemode": "area",
          "sizeref": 233.72,
          "symbol": "circle"
         },
         "mode": "markers",
         "name": "Philadelphia",
         "orientation": "v",
         "showlegend": true,
         "type": "scatter",
         "x": [
          "Philadelphia"
         ],
         "xaxis": "x",
         "y": [
          97099
         ],
         "yaxis": "y"
        },
        {
         "hovertemplate": "<b>%{hovertext}</b><br><br>county=%{x}<br>confirmed=%{marker.size}<extra></extra>",
         "hovertext": [
          "New York"
         ],
         "legendgroup": "Nassau",
         "marker": {
          "color": "#636efa",
          "size": [
           96112
          ],
          "sizemode": "area",
          "sizeref": 233.72,
          "symbol": "circle"
         },
         "mode": "markers",
         "name": "Nassau",
         "orientation": "v",
         "showlegend": true,
         "type": "scatter",
         "x": [
          "Nassau"
         ],
         "xaxis": "x",
         "y": [
          96112
         ],
         "yaxis": "y"
        },
        {
         "hovertemplate": "<b>%{hovertext}</b><br><br>county=%{x}<br>confirmed=%{marker.size}<extra></extra>",
         "hovertext": [
          "Wisconsin"
         ],
         "legendgroup": "Milwaukee",
         "marker": {
          "color": "#EF553B",
          "size": [
           93509
          ],
          "sizemode": "area",
          "sizeref": 233.72,
          "symbol": "circle"
         },
         "mode": "markers",
         "name": "Milwaukee",
         "orientation": "v",
         "showlegend": true,
         "type": "scatter",
         "x": [
          "Milwaukee"
         ],
         "xaxis": "x",
         "y": [
          93509
         ],
         "yaxis": "y"
        },
        {
         "hovertemplate": "<b>%{hovertext}</b><br><br>county=%{x}<br>confirmed=%{marker.size}<extra></extra>",
         "hovertext": [
          "New York"
         ],
         "legendgroup": "Bronx",
         "marker": {
          "color": "#00cc96",
          "size": [
           90958
          ],
          "sizemode": "area",
          "sizeref": 233.72,
          "symbol": "circle"
         },
         "mode": "markers",
         "name": "Bronx",
         "orientation": "v",
         "showlegend": true,
         "type": "scatter",
         "x": [
          "Bronx"
         ],
         "xaxis": "x",
         "y": [
          90958
         ],
         "yaxis": "y"
        },
        {
         "hovertemplate": "<b>%{hovertext}</b><br><br>county=%{x}<br>confirmed=%{marker.size}<extra></extra>",
         "hovertext": [
          "Minnesota"
         ],
         "legendgroup": "Hennepin",
         "marker": {
          "color": "#ab63fa",
          "size": [
           88832
          ],
          "sizemode": "area",
          "sizeref": 233.72,
          "symbol": "circle"
         },
         "mode": "markers",
         "name": "Hennepin",
         "orientation": "v",
         "showlegend": true,
         "type": "scatter",
         "x": [
          "Hennepin"
         ],
         "xaxis": "x",
         "y": [
          88832
         ],
         "yaxis": "y"
        },
        {
         "hovertemplate": "<b>%{hovertext}</b><br><br>county=%{x}<br>confirmed=%{marker.size}<extra></extra>",
         "hovertext": [
          "Ohio"
         ],
         "legendgroup": "Franklin",
         "marker": {
          "color": "#FFA15A",
          "size": [
           88447
          ],
          "sizemode": "area",
          "sizeref": 233.72,
          "symbol": "circle"
         },
         "mode": "markers",
         "name": "Franklin",
         "orientation": "v",
         "showlegend": true,
         "type": "scatter",
         "x": [
          "Franklin"
         ],
         "xaxis": "x",
         "y": [
          88447
         ],
         "yaxis": "y"
        },
        {
         "hovertemplate": "<b>%{hovertext}</b><br><br>county=%{x}<br>confirmed=%{marker.size}<extra></extra>",
         "hovertext": [
          "Florida"
         ],
         "legendgroup": "Palm Beach",
         "marker": {
          "color": "#19d3f3",
          "size": [
           87683
          ],
          "sizemode": "area",
          "sizeref": 233.72,
          "symbol": "circle"
         },
         "mode": "markers",
         "name": "Palm Beach",
         "orientation": "v",
         "showlegend": true,
         "type": "scatter",
         "x": [
          "Palm Beach"
         ],
         "xaxis": "x",
         "y": [
          87683
         ],
         "yaxis": "y"
        },
        {
         "hovertemplate": "<b>%{hovertext}</b><br><br>county=%{x}<br>confirmed=%{marker.size}<extra></extra>",
         "hovertext": [
          "Michigan"
         ],
         "legendgroup": "Wayne",
         "marker": {
          "color": "#FF6692",
          "size": [
           87259
          ],
          "sizemode": "area",
          "sizeref": 233.72,
          "symbol": "circle"
         },
         "mode": "markers",
         "name": "Wayne",
         "orientation": "v",
         "showlegend": true,
         "type": "scatter",
         "x": [
          "Wayne"
         ],
         "xaxis": "x",
         "y": [
          87259
         ],
         "yaxis": "y"
        },
        {
         "hovertemplate": "<b>%{hovertext}</b><br><br>county=%{x}<br>confirmed=%{marker.size}<extra></extra>",
         "hovertext": [
          "Florida"
         ],
         "legendgroup": "Hillsborough",
         "marker": {
          "color": "#B6E880",
          "size": [
           82257
          ],
          "sizemode": "area",
          "sizeref": 233.72,
          "symbol": "circle"
         },
         "mode": "markers",
         "name": "Hillsborough",
         "orientation": "v",
         "showlegend": true,
         "type": "scatter",
         "x": [
          "Hillsborough"
         ],
         "xaxis": "x",
         "y": [
          82257
         ],
         "yaxis": "y"
        },
        {
         "hovertemplate": "<b>%{hovertext}</b><br><br>county=%{x}<br>confirmed=%{marker.size}<extra></extra>",
         "hovertext": [
          "Massachusetts"
         ],
         "legendgroup": "Middlesex",
         "marker": {
          "color": "#FF97FF",
          "size": [
           79505
          ],
          "sizemode": "area",
          "sizeref": 233.72,
          "symbol": "circle"
         },
         "mode": "markers",
         "name": "Middlesex",
         "orientation": "v",
         "showlegend": true,
         "type": "scatter",
         "x": [
          "Middlesex"
         ],
         "xaxis": "x",
         "y": [
          79505
         ],
         "yaxis": "y"
        }
       ],
       "layout": {
        "legend": {
         "itemsizing": "constant",
         "title": {
          "text": "county"
         },
         "tracegroupgap": 0
        },
        "margin": {
         "t": 60
        },
        "template": {
         "data": {
          "bar": [
           {
            "error_x": {
             "color": "#2a3f5f"
            },
            "error_y": {
             "color": "#2a3f5f"
            },
            "marker": {
             "line": {
              "color": "#E5ECF6",
              "width": 0.5
             }
            },
            "type": "bar"
           }
          ],
          "barpolar": [
           {
            "marker": {
             "line": {
              "color": "#E5ECF6",
              "width": 0.5
             }
            },
            "type": "barpolar"
           }
          ],
          "carpet": [
           {
            "aaxis": {
             "endlinecolor": "#2a3f5f",
             "gridcolor": "white",
             "linecolor": "white",
             "minorgridcolor": "white",
             "startlinecolor": "#2a3f5f"
            },
            "baxis": {
             "endlinecolor": "#2a3f5f",
             "gridcolor": "white",
             "linecolor": "white",
             "minorgridcolor": "white",
             "startlinecolor": "#2a3f5f"
            },
            "type": "carpet"
           }
          ],
          "choropleth": [
           {
            "colorbar": {
             "outlinewidth": 0,
             "ticks": ""
            },
            "type": "choropleth"
           }
          ],
          "contour": [
           {
            "colorbar": {
             "outlinewidth": 0,
             "ticks": ""
            },
            "colorscale": [
             [
              0,
              "#0d0887"
             ],
             [
              0.1111111111111111,
              "#46039f"
             ],
             [
              0.2222222222222222,
              "#7201a8"
             ],
             [
              0.3333333333333333,
              "#9c179e"
             ],
             [
              0.4444444444444444,
              "#bd3786"
             ],
             [
              0.5555555555555556,
              "#d8576b"
             ],
             [
              0.6666666666666666,
              "#ed7953"
             ],
             [
              0.7777777777777778,
              "#fb9f3a"
             ],
             [
              0.8888888888888888,
              "#fdca26"
             ],
             [
              1,
              "#f0f921"
             ]
            ],
            "type": "contour"
           }
          ],
          "contourcarpet": [
           {
            "colorbar": {
             "outlinewidth": 0,
             "ticks": ""
            },
            "type": "contourcarpet"
           }
          ],
          "heatmap": [
           {
            "colorbar": {
             "outlinewidth": 0,
             "ticks": ""
            },
            "colorscale": [
             [
              0,
              "#0d0887"
             ],
             [
              0.1111111111111111,
              "#46039f"
             ],
             [
              0.2222222222222222,
              "#7201a8"
             ],
             [
              0.3333333333333333,
              "#9c179e"
             ],
             [
              0.4444444444444444,
              "#bd3786"
             ],
             [
              0.5555555555555556,
              "#d8576b"
             ],
             [
              0.6666666666666666,
              "#ed7953"
             ],
             [
              0.7777777777777778,
              "#fb9f3a"
             ],
             [
              0.8888888888888888,
              "#fdca26"
             ],
             [
              1,
              "#f0f921"
             ]
            ],
            "type": "heatmap"
           }
          ],
          "heatmapgl": [
           {
            "colorbar": {
             "outlinewidth": 0,
             "ticks": ""
            },
            "colorscale": [
             [
              0,
              "#0d0887"
             ],
             [
              0.1111111111111111,
              "#46039f"
             ],
             [
              0.2222222222222222,
              "#7201a8"
             ],
             [
              0.3333333333333333,
              "#9c179e"
             ],
             [
              0.4444444444444444,
              "#bd3786"
             ],
             [
              0.5555555555555556,
              "#d8576b"
             ],
             [
              0.6666666666666666,
              "#ed7953"
             ],
             [
              0.7777777777777778,
              "#fb9f3a"
             ],
             [
              0.8888888888888888,
              "#fdca26"
             ],
             [
              1,
              "#f0f921"
             ]
            ],
            "type": "heatmapgl"
           }
          ],
          "histogram": [
           {
            "marker": {
             "colorbar": {
              "outlinewidth": 0,
              "ticks": ""
             }
            },
            "type": "histogram"
           }
          ],
          "histogram2d": [
           {
            "colorbar": {
             "outlinewidth": 0,
             "ticks": ""
            },
            "colorscale": [
             [
              0,
              "#0d0887"
             ],
             [
              0.1111111111111111,
              "#46039f"
             ],
             [
              0.2222222222222222,
              "#7201a8"
             ],
             [
              0.3333333333333333,
              "#9c179e"
             ],
             [
              0.4444444444444444,
              "#bd3786"
             ],
             [
              0.5555555555555556,
              "#d8576b"
             ],
             [
              0.6666666666666666,
              "#ed7953"
             ],
             [
              0.7777777777777778,
              "#fb9f3a"
             ],
             [
              0.8888888888888888,
              "#fdca26"
             ],
             [
              1,
              "#f0f921"
             ]
            ],
            "type": "histogram2d"
           }
          ],
          "histogram2dcontour": [
           {
            "colorbar": {
             "outlinewidth": 0,
             "ticks": ""
            },
            "colorscale": [
             [
              0,
              "#0d0887"
             ],
             [
              0.1111111111111111,
              "#46039f"
             ],
             [
              0.2222222222222222,
              "#7201a8"
             ],
             [
              0.3333333333333333,
              "#9c179e"
             ],
             [
              0.4444444444444444,
              "#bd3786"
             ],
             [
              0.5555555555555556,
              "#d8576b"
             ],
             [
              0.6666666666666666,
              "#ed7953"
             ],
             [
              0.7777777777777778,
              "#fb9f3a"
             ],
             [
              0.8888888888888888,
              "#fdca26"
             ],
             [
              1,
              "#f0f921"
             ]
            ],
            "type": "histogram2dcontour"
           }
          ],
          "mesh3d": [
           {
            "colorbar": {
             "outlinewidth": 0,
             "ticks": ""
            },
            "type": "mesh3d"
           }
          ],
          "parcoords": [
           {
            "line": {
             "colorbar": {
              "outlinewidth": 0,
              "ticks": ""
             }
            },
            "type": "parcoords"
           }
          ],
          "pie": [
           {
            "automargin": true,
            "type": "pie"
           }
          ],
          "scatter": [
           {
            "marker": {
             "colorbar": {
              "outlinewidth": 0,
              "ticks": ""
             }
            },
            "type": "scatter"
           }
          ],
          "scatter3d": [
           {
            "line": {
             "colorbar": {
              "outlinewidth": 0,
              "ticks": ""
             }
            },
            "marker": {
             "colorbar": {
              "outlinewidth": 0,
              "ticks": ""
             }
            },
            "type": "scatter3d"
           }
          ],
          "scattercarpet": [
           {
            "marker": {
             "colorbar": {
              "outlinewidth": 0,
              "ticks": ""
             }
            },
            "type": "scattercarpet"
           }
          ],
          "scattergeo": [
           {
            "marker": {
             "colorbar": {
              "outlinewidth": 0,
              "ticks": ""
             }
            },
            "type": "scattergeo"
           }
          ],
          "scattergl": [
           {
            "marker": {
             "colorbar": {
              "outlinewidth": 0,
              "ticks": ""
             }
            },
            "type": "scattergl"
           }
          ],
          "scattermapbox": [
           {
            "marker": {
             "colorbar": {
              "outlinewidth": 0,
              "ticks": ""
             }
            },
            "type": "scattermapbox"
           }
          ],
          "scatterpolar": [
           {
            "marker": {
             "colorbar": {
              "outlinewidth": 0,
              "ticks": ""
             }
            },
            "type": "scatterpolar"
           }
          ],
          "scatterpolargl": [
           {
            "marker": {
             "colorbar": {
              "outlinewidth": 0,
              "ticks": ""
             }
            },
            "type": "scatterpolargl"
           }
          ],
          "scatterternary": [
           {
            "marker": {
             "colorbar": {
              "outlinewidth": 0,
              "ticks": ""
             }
            },
            "type": "scatterternary"
           }
          ],
          "surface": [
           {
            "colorbar": {
             "outlinewidth": 0,
             "ticks": ""
            },
            "colorscale": [
             [
              0,
              "#0d0887"
             ],
             [
              0.1111111111111111,
              "#46039f"
             ],
             [
              0.2222222222222222,
              "#7201a8"
             ],
             [
              0.3333333333333333,
              "#9c179e"
             ],
             [
              0.4444444444444444,
              "#bd3786"
             ],
             [
              0.5555555555555556,
              "#d8576b"
             ],
             [
              0.6666666666666666,
              "#ed7953"
             ],
             [
              0.7777777777777778,
              "#fb9f3a"
             ],
             [
              0.8888888888888888,
              "#fdca26"
             ],
             [
              1,
              "#f0f921"
             ]
            ],
            "type": "surface"
           }
          ],
          "table": [
           {
            "cells": {
             "fill": {
              "color": "#EBF0F8"
             },
             "line": {
              "color": "white"
             }
            },
            "header": {
             "fill": {
              "color": "#C8D4E3"
             },
             "line": {
              "color": "white"
             }
            },
            "type": "table"
           }
          ]
         },
         "layout": {
          "annotationdefaults": {
           "arrowcolor": "#2a3f5f",
           "arrowhead": 0,
           "arrowwidth": 1
          },
          "autotypenumbers": "strict",
          "coloraxis": {
           "colorbar": {
            "outlinewidth": 0,
            "ticks": ""
           }
          },
          "colorscale": {
           "diverging": [
            [
             0,
             "#8e0152"
            ],
            [
             0.1,
             "#c51b7d"
            ],
            [
             0.2,
             "#de77ae"
            ],
            [
             0.3,
             "#f1b6da"
            ],
            [
             0.4,
             "#fde0ef"
            ],
            [
             0.5,
             "#f7f7f7"
            ],
            [
             0.6,
             "#e6f5d0"
            ],
            [
             0.7,
             "#b8e186"
            ],
            [
             0.8,
             "#7fbc41"
            ],
            [
             0.9,
             "#4d9221"
            ],
            [
             1,
             "#276419"
            ]
           ],
           "sequential": [
            [
             0,
             "#0d0887"
            ],
            [
             0.1111111111111111,
             "#46039f"
            ],
            [
             0.2222222222222222,
             "#7201a8"
            ],
            [
             0.3333333333333333,
             "#9c179e"
            ],
            [
             0.4444444444444444,
             "#bd3786"
            ],
            [
             0.5555555555555556,
             "#d8576b"
            ],
            [
             0.6666666666666666,
             "#ed7953"
            ],
            [
             0.7777777777777778,
             "#fb9f3a"
            ],
            [
             0.8888888888888888,
             "#fdca26"
            ],
            [
             1,
             "#f0f921"
            ]
           ],
           "sequentialminus": [
            [
             0,
             "#0d0887"
            ],
            [
             0.1111111111111111,
             "#46039f"
            ],
            [
             0.2222222222222222,
             "#7201a8"
            ],
            [
             0.3333333333333333,
             "#9c179e"
            ],
            [
             0.4444444444444444,
             "#bd3786"
            ],
            [
             0.5555555555555556,
             "#d8576b"
            ],
            [
             0.6666666666666666,
             "#ed7953"
            ],
            [
             0.7777777777777778,
             "#fb9f3a"
            ],
            [
             0.8888888888888888,
             "#fdca26"
            ],
            [
             1,
             "#f0f921"
            ]
           ]
          },
          "colorway": [
           "#636efa",
           "#EF553B",
           "#00cc96",
           "#ab63fa",
           "#FFA15A",
           "#19d3f3",
           "#FF6692",
           "#B6E880",
           "#FF97FF",
           "#FECB52"
          ],
          "font": {
           "color": "#2a3f5f"
          },
          "geo": {
           "bgcolor": "white",
           "lakecolor": "white",
           "landcolor": "#E5ECF6",
           "showlakes": true,
           "showland": true,
           "subunitcolor": "white"
          },
          "hoverlabel": {
           "align": "left"
          },
          "hovermode": "closest",
          "mapbox": {
           "style": "light"
          },
          "paper_bgcolor": "white",
          "plot_bgcolor": "#E5ECF6",
          "polar": {
           "angularaxis": {
            "gridcolor": "white",
            "linecolor": "white",
            "ticks": ""
           },
           "bgcolor": "#E5ECF6",
           "radialaxis": {
            "gridcolor": "white",
            "linecolor": "white",
            "ticks": ""
           }
          },
          "scene": {
           "xaxis": {
            "backgroundcolor": "#E5ECF6",
            "gridcolor": "white",
            "gridwidth": 2,
            "linecolor": "white",
            "showbackground": true,
            "ticks": "",
            "zerolinecolor": "white"
           },
           "yaxis": {
            "backgroundcolor": "#E5ECF6",
            "gridcolor": "white",
            "gridwidth": 2,
            "linecolor": "white",
            "showbackground": true,
            "ticks": "",
            "zerolinecolor": "white"
           },
           "zaxis": {
            "backgroundcolor": "#E5ECF6",
            "gridcolor": "white",
            "gridwidth": 2,
            "linecolor": "white",
            "showbackground": true,
            "ticks": "",
            "zerolinecolor": "white"
           }
          },
          "shapedefaults": {
           "line": {
            "color": "#2a3f5f"
           }
          },
          "ternary": {
           "aaxis": {
            "gridcolor": "white",
            "linecolor": "white",
            "ticks": ""
           },
           "baxis": {
            "gridcolor": "white",
            "linecolor": "white",
            "ticks": ""
           },
           "bgcolor": "#E5ECF6",
           "caxis": {
            "gridcolor": "white",
            "linecolor": "white",
            "ticks": ""
           }
          },
          "title": {
           "x": 0.05
          },
          "xaxis": {
           "automargin": true,
           "gridcolor": "white",
           "linecolor": "white",
           "ticks": "",
           "title": {
            "standoff": 15
           },
           "zerolinecolor": "white",
           "zerolinewidth": 2
          },
          "yaxis": {
           "automargin": true,
           "gridcolor": "white",
           "linecolor": "white",
           "ticks": "",
           "title": {
            "standoff": 15
           },
           "zerolinecolor": "white",
           "zerolinewidth": 2
          }
         }
        },
        "xaxis": {
         "anchor": "y",
         "categoryarray": [
          "Los Angeles",
          "Cook",
          "Maricopa",
          "Miami-Dade",
          "Harris",
          "San Bernardino",
          "Dallas",
          "Riverside",
          "Clark",
          "Orange",
          "San Diego",
          "Tarrant",
          "Broward",
          "Queens",
          "Kings",
          "Bexar",
          "Salt Lake",
          "Suffolk",
          "El Paso",
          "Philadelphia",
          "Nassau",
          "Milwaukee",
          "Bronx",
          "Hennepin",
          "Franklin",
          "Palm Beach",
          "Wayne",
          "Hillsborough",
          "Middlesex"
         ],
         "categoryorder": "array",
         "domain": [
          0,
          1
         ],
         "title": {
          "text": "county"
         }
        },
        "yaxis": {
         "anchor": "x",
         "domain": [
          0,
          1
         ],
         "title": {
          "text": "confirmed"
         }
        }
       }
      },
      "text/html": [
       "<div>                            <div id=\"be1dbecf-c6e1-4d34-8e59-0530b13345d8\" class=\"plotly-graph-div\" style=\"height:525px; width:100%;\"></div>            <script type=\"text/javascript\">                require([\"plotly\"], function(Plotly) {                    window.PLOTLYENV=window.PLOTLYENV || {};                                    if (document.getElementById(\"be1dbecf-c6e1-4d34-8e59-0530b13345d8\")) {                    Plotly.newPlot(                        \"be1dbecf-c6e1-4d34-8e59-0530b13345d8\",                        [{\"hovertemplate\": \"<b>%{hovertext}</b><br><br>county=%{x}<br>confirmed=%{marker.size}<extra></extra>\", \"hovertext\": [\"California\"], \"legendgroup\": \"Los Angeles\", \"marker\": {\"color\": \"#636efa\", \"size\": [841392], \"sizemode\": \"area\", \"sizeref\": 233.72, \"symbol\": \"circle\"}, \"mode\": \"markers\", \"name\": \"Los Angeles\", \"orientation\": \"v\", \"showlegend\": true, \"type\": \"scatter\", \"x\": [\"Los Angeles\"], \"xaxis\": \"x\", \"y\": [841392], \"yaxis\": \"y\"}, {\"hovertemplate\": \"<b>%{hovertext}</b><br><br>county=%{x}<br>confirmed=%{marker.size}<extra></extra>\", \"hovertext\": [\"Illinois\"], \"legendgroup\": \"Cook\", \"marker\": {\"color\": \"#EF553B\", \"size\": [406674], \"sizemode\": \"area\", \"sizeref\": 233.72, \"symbol\": \"circle\"}, \"mode\": \"markers\", \"name\": \"Cook\", \"orientation\": \"v\", \"showlegend\": true, \"type\": \"scatter\", \"x\": [\"Cook\"], \"xaxis\": \"x\", \"y\": [406674], \"yaxis\": \"y\"}, {\"hovertemplate\": \"<b>%{hovertext}</b><br><br>county=%{x}<br>confirmed=%{marker.size}<extra></extra>\", \"hovertext\": [\"Arizona\"], \"legendgroup\": \"Maricopa\", \"marker\": {\"color\": \"#00cc96\", \"size\": [349852], \"sizemode\": \"area\", \"sizeref\": 233.72, \"symbol\": \"circle\"}, \"mode\": \"markers\", \"name\": \"Maricopa\", \"orientation\": \"v\", \"showlegend\": true, \"type\": \"scatter\", \"x\": [\"Maricopa\"], \"xaxis\": \"x\", \"y\": [349852], \"yaxis\": \"y\"}, {\"hovertemplate\": \"<b>%{hovertext}</b><br><br>county=%{x}<br>confirmed=%{marker.size}<extra></extra>\", \"hovertext\": [\"Florida\"], \"legendgroup\": \"Miami-Dade\", \"marker\": {\"color\": \"#ab63fa\", \"size\": [314742], \"sizemode\": \"area\", \"sizeref\": 233.72, \"symbol\": \"circle\"}, \"mode\": \"markers\", \"name\": \"Miami-Dade\", \"orientation\": \"v\", \"showlegend\": true, \"type\": \"scatter\", \"x\": [\"Miami-Dade\"], \"xaxis\": \"x\", \"y\": [314742], \"yaxis\": \"y\"}, {\"hovertemplate\": \"<b>%{hovertext}</b><br><br>county=%{x}<br>confirmed=%{marker.size}<extra></extra>\", \"hovertext\": [\"Texas\"], \"legendgroup\": \"Harris\", \"marker\": {\"color\": \"#FFA15A\", \"size\": [249488], \"sizemode\": \"area\", \"sizeref\": 233.72, \"symbol\": \"circle\"}, \"mode\": \"markers\", \"name\": \"Harris\", \"orientation\": \"v\", \"showlegend\": true, \"type\": \"scatter\", \"x\": [\"Harris\"], \"xaxis\": \"x\", \"y\": [249488], \"yaxis\": \"y\"}, {\"hovertemplate\": \"<b>%{hovertext}</b><br><br>county=%{x}<br>confirmed=%{marker.size}<extra></extra>\", \"hovertext\": [\"California\"], \"legendgroup\": \"San Bernardino\", \"marker\": {\"color\": \"#19d3f3\", \"size\": [214813], \"sizemode\": \"area\", \"sizeref\": 233.72, \"symbol\": \"circle\"}, \"mode\": \"markers\", \"name\": \"San Bernardino\", \"orientation\": \"v\", \"showlegend\": true, \"type\": \"scatter\", \"x\": [\"San Bernardino\"], \"xaxis\": \"x\", \"y\": [214813], \"yaxis\": \"y\"}, {\"hovertemplate\": \"<b>%{hovertext}</b><br><br>county=%{x}<br>confirmed=%{marker.size}<extra></extra>\", \"hovertext\": [\"Texas\"], \"legendgroup\": \"Dallas\", \"marker\": {\"color\": \"#FF6692\", \"size\": [204374], \"sizemode\": \"area\", \"sizeref\": 233.72, \"symbol\": \"circle\"}, \"mode\": \"markers\", \"name\": \"Dallas\", \"orientation\": \"v\", \"showlegend\": true, \"type\": \"scatter\", \"x\": [\"Dallas\"], \"xaxis\": \"x\", \"y\": [204374], \"yaxis\": \"y\"}, {\"hovertemplate\": \"<b>%{hovertext}</b><br><br>county=%{x}<br>confirmed=%{marker.size}<extra></extra>\", \"hovertext\": [\"California\"], \"legendgroup\": \"Riverside\", \"marker\": {\"color\": \"#B6E880\", \"size\": [200439], \"sizemode\": \"area\", \"sizeref\": 233.72, \"symbol\": \"circle\"}, \"mode\": \"markers\", \"name\": \"Riverside\", \"orientation\": \"v\", \"showlegend\": true, \"type\": \"scatter\", \"x\": [\"Riverside\"], \"xaxis\": \"x\", \"y\": [200439], \"yaxis\": \"y\"}, {\"hovertemplate\": \"<b>%{hovertext}</b><br><br>county=%{x}<br>confirmed=%{marker.size}<extra></extra>\", \"hovertext\": [\"Nevada\"], \"legendgroup\": \"Clark\", \"marker\": {\"color\": \"#FF97FF\", \"size\": [180524], \"sizemode\": \"area\", \"sizeref\": 233.72, \"symbol\": \"circle\"}, \"mode\": \"markers\", \"name\": \"Clark\", \"orientation\": \"v\", \"showlegend\": true, \"type\": \"scatter\", \"x\": [\"Clark\"], \"xaxis\": \"x\", \"y\": [180524], \"yaxis\": \"y\"}, {\"hovertemplate\": \"<b>%{hovertext}</b><br><br>county=%{x}<br>confirmed=%{marker.size}<extra></extra>\", \"hovertext\": [\"California\", \"Florida\"], \"legendgroup\": \"Orange\", \"marker\": {\"color\": \"#FECB52\", \"size\": [174869, 82155], \"sizemode\": \"area\", \"sizeref\": 233.72, \"symbol\": \"circle\"}, \"mode\": \"markers\", \"name\": \"Orange\", \"orientation\": \"v\", \"showlegend\": true, \"type\": \"scatter\", \"x\": [\"Orange\", \"Orange\"], \"xaxis\": \"x\", \"y\": [174869, 82155], \"yaxis\": \"y\"}, {\"hovertemplate\": \"<b>%{hovertext}</b><br><br>county=%{x}<br>confirmed=%{marker.size}<extra></extra>\", \"hovertext\": [\"California\"], \"legendgroup\": \"San Diego\", \"marker\": {\"color\": \"#636efa\", \"size\": [172847], \"sizemode\": \"area\", \"sizeref\": 233.72, \"symbol\": \"circle\"}, \"mode\": \"markers\", \"name\": \"San Diego\", \"orientation\": \"v\", \"showlegend\": true, \"type\": \"scatter\", \"x\": [\"San Diego\"], \"xaxis\": \"x\", \"y\": [172847], \"yaxis\": \"y\"}, {\"hovertemplate\": \"<b>%{hovertext}</b><br><br>county=%{x}<br>confirmed=%{marker.size}<extra></extra>\", \"hovertext\": [\"Texas\"], \"legendgroup\": \"Tarrant\", \"marker\": {\"color\": \"#EF553B\", \"size\": [161878], \"sizemode\": \"area\", \"sizeref\": 233.72, \"symbol\": \"circle\"}, \"mode\": \"markers\", \"name\": \"Tarrant\", \"orientation\": \"v\", \"showlegend\": true, \"type\": \"scatter\", \"x\": [\"Tarrant\"], \"xaxis\": \"x\", \"y\": [161878], \"yaxis\": \"y\"}, {\"hovertemplate\": \"<b>%{hovertext}</b><br><br>county=%{x}<br>confirmed=%{marker.size}<extra></extra>\", \"hovertext\": [\"Florida\"], \"legendgroup\": \"Broward\", \"marker\": {\"color\": \"#00cc96\", \"size\": [144590], \"sizemode\": \"area\", \"sizeref\": 233.72, \"symbol\": \"circle\"}, \"mode\": \"markers\", \"name\": \"Broward\", \"orientation\": \"v\", \"showlegend\": true, \"type\": \"scatter\", \"x\": [\"Broward\"], \"xaxis\": \"x\", \"y\": [144590], \"yaxis\": \"y\"}, {\"hovertemplate\": \"<b>%{hovertext}</b><br><br>county=%{x}<br>confirmed=%{marker.size}<extra></extra>\", \"hovertext\": [\"New York\"], \"legendgroup\": \"Queens\", \"marker\": {\"color\": \"#ab63fa\", \"size\": [134670], \"sizemode\": \"area\", \"sizeref\": 233.72, \"symbol\": \"circle\"}, \"mode\": \"markers\", \"name\": \"Queens\", \"orientation\": \"v\", \"showlegend\": true, \"type\": \"scatter\", \"x\": [\"Queens\"], \"xaxis\": \"x\", \"y\": [134670], \"yaxis\": \"y\"}, {\"hovertemplate\": \"<b>%{hovertext}</b><br><br>county=%{x}<br>confirmed=%{marker.size}<extra></extra>\", \"hovertext\": [\"New York\"], \"legendgroup\": \"Kings\", \"marker\": {\"color\": \"#FFA15A\", \"size\": [132075], \"sizemode\": \"area\", \"sizeref\": 233.72, \"symbol\": \"circle\"}, \"mode\": \"markers\", \"name\": \"Kings\", \"orientation\": \"v\", \"showlegend\": true, \"type\": \"scatter\", \"x\": [\"Kings\"], \"xaxis\": \"x\", \"y\": [132075], \"yaxis\": \"y\"}, {\"hovertemplate\": \"<b>%{hovertext}</b><br><br>county=%{x}<br>confirmed=%{marker.size}<extra></extra>\", \"hovertext\": [\"Texas\"], \"legendgroup\": \"Bexar\", \"marker\": {\"color\": \"#19d3f3\", \"size\": [124800], \"sizemode\": \"area\", \"sizeref\": 233.72, \"symbol\": \"circle\"}, \"mode\": \"markers\", \"name\": \"Bexar\", \"orientation\": \"v\", \"showlegend\": true, \"type\": \"scatter\", \"x\": [\"Bexar\"], \"xaxis\": \"x\", \"y\": [124800], \"yaxis\": \"y\"}, {\"hovertemplate\": \"<b>%{hovertext}</b><br><br>county=%{x}<br>confirmed=%{marker.size}<extra></extra>\", \"hovertext\": [\"Utah\"], \"legendgroup\": \"Salt Lake\", \"marker\": {\"color\": \"#FF6692\", \"size\": [111389], \"sizemode\": \"area\", \"sizeref\": 233.72, \"symbol\": \"circle\"}, \"mode\": \"markers\", \"name\": \"Salt Lake\", \"orientation\": \"v\", \"showlegend\": true, \"type\": \"scatter\", \"x\": [\"Salt Lake\"], \"xaxis\": \"x\", \"y\": [111389], \"yaxis\": \"y\"}, {\"hovertemplate\": \"<b>%{hovertext}</b><br><br>county=%{x}<br>confirmed=%{marker.size}<extra></extra>\", \"hovertext\": [\"New York\"], \"legendgroup\": \"Suffolk\", \"marker\": {\"color\": \"#B6E880\", \"size\": [106061], \"sizemode\": \"area\", \"sizeref\": 233.72, \"symbol\": \"circle\"}, \"mode\": \"markers\", \"name\": \"Suffolk\", \"orientation\": \"v\", \"showlegend\": true, \"type\": \"scatter\", \"x\": [\"Suffolk\"], \"xaxis\": \"x\", \"y\": [106061], \"yaxis\": \"y\"}, {\"hovertemplate\": \"<b>%{hovertext}</b><br><br>county=%{x}<br>confirmed=%{marker.size}<extra></extra>\", \"hovertext\": [\"Texas\"], \"legendgroup\": \"El Paso\", \"marker\": {\"color\": \"#FF97FF\", \"size\": [100944], \"sizemode\": \"area\", \"sizeref\": 233.72, \"symbol\": \"circle\"}, \"mode\": \"markers\", \"name\": \"El Paso\", \"orientation\": \"v\", \"showlegend\": true, \"type\": \"scatter\", \"x\": [\"El Paso\"], \"xaxis\": \"x\", \"y\": [100944], \"yaxis\": \"y\"}, {\"hovertemplate\": \"<b>%{hovertext}</b><br><br>county=%{x}<br>confirmed=%{marker.size}<extra></extra>\", \"hovertext\": [\"Pennsylvania\"], \"legendgroup\": \"Philadelphia\", \"marker\": {\"color\": \"#FECB52\", \"size\": [97099], \"sizemode\": \"area\", \"sizeref\": 233.72, \"symbol\": \"circle\"}, \"mode\": \"markers\", \"name\": \"Philadelphia\", \"orientation\": \"v\", \"showlegend\": true, \"type\": \"scatter\", \"x\": [\"Philadelphia\"], \"xaxis\": \"x\", \"y\": [97099], \"yaxis\": \"y\"}, {\"hovertemplate\": \"<b>%{hovertext}</b><br><br>county=%{x}<br>confirmed=%{marker.size}<extra></extra>\", \"hovertext\": [\"New York\"], \"legendgroup\": \"Nassau\", \"marker\": {\"color\": \"#636efa\", \"size\": [96112], \"sizemode\": \"area\", \"sizeref\": 233.72, \"symbol\": \"circle\"}, \"mode\": \"markers\", \"name\": \"Nassau\", \"orientation\": \"v\", \"showlegend\": true, \"type\": \"scatter\", \"x\": [\"Nassau\"], \"xaxis\": \"x\", \"y\": [96112], \"yaxis\": \"y\"}, {\"hovertemplate\": \"<b>%{hovertext}</b><br><br>county=%{x}<br>confirmed=%{marker.size}<extra></extra>\", \"hovertext\": [\"Wisconsin\"], \"legendgroup\": \"Milwaukee\", \"marker\": {\"color\": \"#EF553B\", \"size\": [93509], \"sizemode\": \"area\", \"sizeref\": 233.72, \"symbol\": \"circle\"}, \"mode\": \"markers\", \"name\": \"Milwaukee\", \"orientation\": \"v\", \"showlegend\": true, \"type\": \"scatter\", \"x\": [\"Milwaukee\"], \"xaxis\": \"x\", \"y\": [93509], \"yaxis\": \"y\"}, {\"hovertemplate\": \"<b>%{hovertext}</b><br><br>county=%{x}<br>confirmed=%{marker.size}<extra></extra>\", \"hovertext\": [\"New York\"], \"legendgroup\": \"Bronx\", \"marker\": {\"color\": \"#00cc96\", \"size\": [90958], \"sizemode\": \"area\", \"sizeref\": 233.72, \"symbol\": \"circle\"}, \"mode\": \"markers\", \"name\": \"Bronx\", \"orientation\": \"v\", \"showlegend\": true, \"type\": \"scatter\", \"x\": [\"Bronx\"], \"xaxis\": \"x\", \"y\": [90958], \"yaxis\": \"y\"}, {\"hovertemplate\": \"<b>%{hovertext}</b><br><br>county=%{x}<br>confirmed=%{marker.size}<extra></extra>\", \"hovertext\": [\"Minnesota\"], \"legendgroup\": \"Hennepin\", \"marker\": {\"color\": \"#ab63fa\", \"size\": [88832], \"sizemode\": \"area\", \"sizeref\": 233.72, \"symbol\": \"circle\"}, \"mode\": \"markers\", \"name\": \"Hennepin\", \"orientation\": \"v\", \"showlegend\": true, \"type\": \"scatter\", \"x\": [\"Hennepin\"], \"xaxis\": \"x\", \"y\": [88832], \"yaxis\": \"y\"}, {\"hovertemplate\": \"<b>%{hovertext}</b><br><br>county=%{x}<br>confirmed=%{marker.size}<extra></extra>\", \"hovertext\": [\"Ohio\"], \"legendgroup\": \"Franklin\", \"marker\": {\"color\": \"#FFA15A\", \"size\": [88447], \"sizemode\": \"area\", \"sizeref\": 233.72, \"symbol\": \"circle\"}, \"mode\": \"markers\", \"name\": \"Franklin\", \"orientation\": \"v\", \"showlegend\": true, \"type\": \"scatter\", \"x\": [\"Franklin\"], \"xaxis\": \"x\", \"y\": [88447], \"yaxis\": \"y\"}, {\"hovertemplate\": \"<b>%{hovertext}</b><br><br>county=%{x}<br>confirmed=%{marker.size}<extra></extra>\", \"hovertext\": [\"Florida\"], \"legendgroup\": \"Palm Beach\", \"marker\": {\"color\": \"#19d3f3\", \"size\": [87683], \"sizemode\": \"area\", \"sizeref\": 233.72, \"symbol\": \"circle\"}, \"mode\": \"markers\", \"name\": \"Palm Beach\", \"orientation\": \"v\", \"showlegend\": true, \"type\": \"scatter\", \"x\": [\"Palm Beach\"], \"xaxis\": \"x\", \"y\": [87683], \"yaxis\": \"y\"}, {\"hovertemplate\": \"<b>%{hovertext}</b><br><br>county=%{x}<br>confirmed=%{marker.size}<extra></extra>\", \"hovertext\": [\"Michigan\"], \"legendgroup\": \"Wayne\", \"marker\": {\"color\": \"#FF6692\", \"size\": [87259], \"sizemode\": \"area\", \"sizeref\": 233.72, \"symbol\": \"circle\"}, \"mode\": \"markers\", \"name\": \"Wayne\", \"orientation\": \"v\", \"showlegend\": true, \"type\": \"scatter\", \"x\": [\"Wayne\"], \"xaxis\": \"x\", \"y\": [87259], \"yaxis\": \"y\"}, {\"hovertemplate\": \"<b>%{hovertext}</b><br><br>county=%{x}<br>confirmed=%{marker.size}<extra></extra>\", \"hovertext\": [\"Florida\"], \"legendgroup\": \"Hillsborough\", \"marker\": {\"color\": \"#B6E880\", \"size\": [82257], \"sizemode\": \"area\", \"sizeref\": 233.72, \"symbol\": \"circle\"}, \"mode\": \"markers\", \"name\": \"Hillsborough\", \"orientation\": \"v\", \"showlegend\": true, \"type\": \"scatter\", \"x\": [\"Hillsborough\"], \"xaxis\": \"x\", \"y\": [82257], \"yaxis\": \"y\"}, {\"hovertemplate\": \"<b>%{hovertext}</b><br><br>county=%{x}<br>confirmed=%{marker.size}<extra></extra>\", \"hovertext\": [\"Massachusetts\"], \"legendgroup\": \"Middlesex\", \"marker\": {\"color\": \"#FF97FF\", \"size\": [79505], \"sizemode\": \"area\", \"sizeref\": 233.72, \"symbol\": \"circle\"}, \"mode\": \"markers\", \"name\": \"Middlesex\", \"orientation\": \"v\", \"showlegend\": true, \"type\": \"scatter\", \"x\": [\"Middlesex\"], \"xaxis\": \"x\", \"y\": [79505], \"yaxis\": \"y\"}],                        {\"legend\": {\"itemsizing\": \"constant\", \"title\": {\"text\": \"county\"}, \"tracegroupgap\": 0}, \"margin\": {\"t\": 60}, \"template\": {\"data\": {\"bar\": [{\"error_x\": {\"color\": \"#2a3f5f\"}, \"error_y\": {\"color\": \"#2a3f5f\"}, \"marker\": {\"line\": {\"color\": \"#E5ECF6\", \"width\": 0.5}}, \"type\": \"bar\"}], \"barpolar\": [{\"marker\": {\"line\": {\"color\": \"#E5ECF6\", \"width\": 0.5}}, \"type\": \"barpolar\"}], \"carpet\": [{\"aaxis\": {\"endlinecolor\": \"#2a3f5f\", \"gridcolor\": \"white\", \"linecolor\": \"white\", \"minorgridcolor\": \"white\", \"startlinecolor\": \"#2a3f5f\"}, \"baxis\": {\"endlinecolor\": \"#2a3f5f\", \"gridcolor\": \"white\", \"linecolor\": \"white\", \"minorgridcolor\": \"white\", \"startlinecolor\": \"#2a3f5f\"}, \"type\": \"carpet\"}], \"choropleth\": [{\"colorbar\": {\"outlinewidth\": 0, \"ticks\": \"\"}, \"type\": \"choropleth\"}], \"contour\": [{\"colorbar\": {\"outlinewidth\": 0, \"ticks\": \"\"}, \"colorscale\": [[0.0, \"#0d0887\"], [0.1111111111111111, \"#46039f\"], [0.2222222222222222, \"#7201a8\"], [0.3333333333333333, \"#9c179e\"], [0.4444444444444444, \"#bd3786\"], [0.5555555555555556, \"#d8576b\"], [0.6666666666666666, \"#ed7953\"], [0.7777777777777778, \"#fb9f3a\"], [0.8888888888888888, \"#fdca26\"], [1.0, \"#f0f921\"]], \"type\": \"contour\"}], \"contourcarpet\": [{\"colorbar\": {\"outlinewidth\": 0, \"ticks\": \"\"}, \"type\": \"contourcarpet\"}], \"heatmap\": [{\"colorbar\": {\"outlinewidth\": 0, \"ticks\": \"\"}, \"colorscale\": [[0.0, \"#0d0887\"], [0.1111111111111111, \"#46039f\"], [0.2222222222222222, \"#7201a8\"], [0.3333333333333333, \"#9c179e\"], [0.4444444444444444, \"#bd3786\"], [0.5555555555555556, \"#d8576b\"], [0.6666666666666666, \"#ed7953\"], [0.7777777777777778, \"#fb9f3a\"], [0.8888888888888888, \"#fdca26\"], [1.0, \"#f0f921\"]], \"type\": \"heatmap\"}], \"heatmapgl\": [{\"colorbar\": {\"outlinewidth\": 0, \"ticks\": \"\"}, \"colorscale\": [[0.0, \"#0d0887\"], [0.1111111111111111, \"#46039f\"], [0.2222222222222222, \"#7201a8\"], [0.3333333333333333, \"#9c179e\"], [0.4444444444444444, \"#bd3786\"], [0.5555555555555556, \"#d8576b\"], [0.6666666666666666, \"#ed7953\"], [0.7777777777777778, \"#fb9f3a\"], [0.8888888888888888, \"#fdca26\"], [1.0, \"#f0f921\"]], \"type\": \"heatmapgl\"}], \"histogram\": [{\"marker\": {\"colorbar\": {\"outlinewidth\": 0, \"ticks\": \"\"}}, \"type\": \"histogram\"}], \"histogram2d\": [{\"colorbar\": {\"outlinewidth\": 0, \"ticks\": \"\"}, \"colorscale\": [[0.0, \"#0d0887\"], [0.1111111111111111, \"#46039f\"], [0.2222222222222222, \"#7201a8\"], [0.3333333333333333, \"#9c179e\"], [0.4444444444444444, \"#bd3786\"], [0.5555555555555556, \"#d8576b\"], [0.6666666666666666, \"#ed7953\"], [0.7777777777777778, \"#fb9f3a\"], [0.8888888888888888, \"#fdca26\"], [1.0, \"#f0f921\"]], \"type\": \"histogram2d\"}], \"histogram2dcontour\": [{\"colorbar\": {\"outlinewidth\": 0, \"ticks\": \"\"}, \"colorscale\": [[0.0, \"#0d0887\"], [0.1111111111111111, \"#46039f\"], [0.2222222222222222, \"#7201a8\"], [0.3333333333333333, \"#9c179e\"], [0.4444444444444444, \"#bd3786\"], [0.5555555555555556, \"#d8576b\"], [0.6666666666666666, \"#ed7953\"], [0.7777777777777778, \"#fb9f3a\"], [0.8888888888888888, \"#fdca26\"], [1.0, \"#f0f921\"]], \"type\": \"histogram2dcontour\"}], \"mesh3d\": [{\"colorbar\": {\"outlinewidth\": 0, \"ticks\": \"\"}, \"type\": \"mesh3d\"}], \"parcoords\": [{\"line\": {\"colorbar\": {\"outlinewidth\": 0, \"ticks\": \"\"}}, \"type\": \"parcoords\"}], \"pie\": [{\"automargin\": true, \"type\": \"pie\"}], \"scatter\": [{\"marker\": {\"colorbar\": {\"outlinewidth\": 0, \"ticks\": \"\"}}, \"type\": \"scatter\"}], \"scatter3d\": [{\"line\": {\"colorbar\": {\"outlinewidth\": 0, \"ticks\": \"\"}}, \"marker\": {\"colorbar\": {\"outlinewidth\": 0, \"ticks\": \"\"}}, \"type\": \"scatter3d\"}], \"scattercarpet\": [{\"marker\": {\"colorbar\": {\"outlinewidth\": 0, \"ticks\": \"\"}}, \"type\": \"scattercarpet\"}], \"scattergeo\": [{\"marker\": {\"colorbar\": {\"outlinewidth\": 0, \"ticks\": \"\"}}, \"type\": \"scattergeo\"}], \"scattergl\": [{\"marker\": {\"colorbar\": {\"outlinewidth\": 0, \"ticks\": \"\"}}, \"type\": \"scattergl\"}], \"scattermapbox\": [{\"marker\": {\"colorbar\": {\"outlinewidth\": 0, \"ticks\": \"\"}}, \"type\": \"scattermapbox\"}], \"scatterpolar\": [{\"marker\": {\"colorbar\": {\"outlinewidth\": 0, \"ticks\": \"\"}}, \"type\": \"scatterpolar\"}], \"scatterpolargl\": [{\"marker\": {\"colorbar\": {\"outlinewidth\": 0, \"ticks\": \"\"}}, \"type\": \"scatterpolargl\"}], \"scatterternary\": [{\"marker\": {\"colorbar\": {\"outlinewidth\": 0, \"ticks\": \"\"}}, \"type\": \"scatterternary\"}], \"surface\": [{\"colorbar\": {\"outlinewidth\": 0, \"ticks\": \"\"}, \"colorscale\": [[0.0, \"#0d0887\"], [0.1111111111111111, \"#46039f\"], [0.2222222222222222, \"#7201a8\"], [0.3333333333333333, \"#9c179e\"], [0.4444444444444444, \"#bd3786\"], [0.5555555555555556, \"#d8576b\"], [0.6666666666666666, \"#ed7953\"], [0.7777777777777778, \"#fb9f3a\"], [0.8888888888888888, \"#fdca26\"], [1.0, \"#f0f921\"]], \"type\": \"surface\"}], \"table\": [{\"cells\": {\"fill\": {\"color\": \"#EBF0F8\"}, \"line\": {\"color\": \"white\"}}, \"header\": {\"fill\": {\"color\": \"#C8D4E3\"}, \"line\": {\"color\": \"white\"}}, \"type\": \"table\"}]}, \"layout\": {\"annotationdefaults\": {\"arrowcolor\": \"#2a3f5f\", \"arrowhead\": 0, \"arrowwidth\": 1}, \"autotypenumbers\": \"strict\", \"coloraxis\": {\"colorbar\": {\"outlinewidth\": 0, \"ticks\": \"\"}}, \"colorscale\": {\"diverging\": [[0, \"#8e0152\"], [0.1, \"#c51b7d\"], [0.2, \"#de77ae\"], [0.3, \"#f1b6da\"], [0.4, \"#fde0ef\"], [0.5, \"#f7f7f7\"], [0.6, \"#e6f5d0\"], [0.7, \"#b8e186\"], [0.8, \"#7fbc41\"], [0.9, \"#4d9221\"], [1, \"#276419\"]], \"sequential\": [[0.0, \"#0d0887\"], [0.1111111111111111, \"#46039f\"], [0.2222222222222222, \"#7201a8\"], [0.3333333333333333, \"#9c179e\"], [0.4444444444444444, \"#bd3786\"], [0.5555555555555556, \"#d8576b\"], [0.6666666666666666, \"#ed7953\"], [0.7777777777777778, \"#fb9f3a\"], [0.8888888888888888, \"#fdca26\"], [1.0, \"#f0f921\"]], \"sequentialminus\": [[0.0, \"#0d0887\"], [0.1111111111111111, \"#46039f\"], [0.2222222222222222, \"#7201a8\"], [0.3333333333333333, \"#9c179e\"], [0.4444444444444444, \"#bd3786\"], [0.5555555555555556, \"#d8576b\"], [0.6666666666666666, \"#ed7953\"], [0.7777777777777778, \"#fb9f3a\"], [0.8888888888888888, \"#fdca26\"], [1.0, \"#f0f921\"]]}, \"colorway\": [\"#636efa\", \"#EF553B\", \"#00cc96\", \"#ab63fa\", \"#FFA15A\", \"#19d3f3\", \"#FF6692\", \"#B6E880\", \"#FF97FF\", \"#FECB52\"], \"font\": {\"color\": \"#2a3f5f\"}, \"geo\": {\"bgcolor\": \"white\", \"lakecolor\": \"white\", \"landcolor\": \"#E5ECF6\", \"showlakes\": true, \"showland\": true, \"subunitcolor\": \"white\"}, \"hoverlabel\": {\"align\": \"left\"}, \"hovermode\": \"closest\", \"mapbox\": {\"style\": \"light\"}, \"paper_bgcolor\": \"white\", \"plot_bgcolor\": \"#E5ECF6\", \"polar\": {\"angularaxis\": {\"gridcolor\": \"white\", \"linecolor\": \"white\", \"ticks\": \"\"}, \"bgcolor\": \"#E5ECF6\", \"radialaxis\": {\"gridcolor\": \"white\", \"linecolor\": \"white\", \"ticks\": \"\"}}, \"scene\": {\"xaxis\": {\"backgroundcolor\": \"#E5ECF6\", \"gridcolor\": \"white\", \"gridwidth\": 2, \"linecolor\": \"white\", \"showbackground\": true, \"ticks\": \"\", \"zerolinecolor\": \"white\"}, \"yaxis\": {\"backgroundcolor\": \"#E5ECF6\", \"gridcolor\": \"white\", \"gridwidth\": 2, \"linecolor\": \"white\", \"showbackground\": true, \"ticks\": \"\", \"zerolinecolor\": \"white\"}, \"zaxis\": {\"backgroundcolor\": \"#E5ECF6\", \"gridcolor\": \"white\", \"gridwidth\": 2, \"linecolor\": \"white\", \"showbackground\": true, \"ticks\": \"\", \"zerolinecolor\": \"white\"}}, \"shapedefaults\": {\"line\": {\"color\": \"#2a3f5f\"}}, \"ternary\": {\"aaxis\": {\"gridcolor\": \"white\", \"linecolor\": \"white\", \"ticks\": \"\"}, \"baxis\": {\"gridcolor\": \"white\", \"linecolor\": \"white\", \"ticks\": \"\"}, \"bgcolor\": \"#E5ECF6\", \"caxis\": {\"gridcolor\": \"white\", \"linecolor\": \"white\", \"ticks\": \"\"}}, \"title\": {\"x\": 0.05}, \"xaxis\": {\"automargin\": true, \"gridcolor\": \"white\", \"linecolor\": \"white\", \"ticks\": \"\", \"title\": {\"standoff\": 15}, \"zerolinecolor\": \"white\", \"zerolinewidth\": 2}, \"yaxis\": {\"automargin\": true, \"gridcolor\": \"white\", \"linecolor\": \"white\", \"ticks\": \"\", \"title\": {\"standoff\": 15}, \"zerolinecolor\": \"white\", \"zerolinewidth\": 2}}}, \"xaxis\": {\"anchor\": \"y\", \"categoryarray\": [\"Los Angeles\", \"Cook\", \"Maricopa\", \"Miami-Dade\", \"Harris\", \"San Bernardino\", \"Dallas\", \"Riverside\", \"Clark\", \"Orange\", \"San Diego\", \"Tarrant\", \"Broward\", \"Queens\", \"Kings\", \"Bexar\", \"Salt Lake\", \"Suffolk\", \"El Paso\", \"Philadelphia\", \"Nassau\", \"Milwaukee\", \"Bronx\", \"Hennepin\", \"Franklin\", \"Palm Beach\", \"Wayne\", \"Hillsborough\", \"Middlesex\"], \"categoryorder\": \"array\", \"domain\": [0.0, 1.0], \"title\": {\"text\": \"county\"}}, \"yaxis\": {\"anchor\": \"x\", \"domain\": [0.0, 1.0], \"title\": {\"text\": \"confirmed\"}}},                        {\"responsive\": true}                    ).then(function(){\n",
       "                            \n",
       "var gd = document.getElementById('be1dbecf-c6e1-4d34-8e59-0530b13345d8');\n",
       "var x = new MutationObserver(function (mutations, observer) {{\n",
       "        var display = window.getComputedStyle(gd).display;\n",
       "        if (!display || display === 'none') {{\n",
       "            console.log([gd, 'removed!']);\n",
       "            Plotly.purge(gd);\n",
       "            observer.disconnect();\n",
       "        }}\n",
       "}});\n",
       "\n",
       "// Listen for the removal of the full notebook cells\n",
       "var notebookContainer = gd.closest('#notebook-container');\n",
       "if (notebookContainer) {{\n",
       "    x.observe(notebookContainer, {childList: true});\n",
       "}}\n",
       "\n",
       "// Listen for the clearing of the current output cell\n",
       "var outputEl = gd.closest('.output');\n",
       "if (outputEl) {{\n",
       "    x.observe(outputEl, {childList: true});\n",
       "}}\n",
       "\n",
       "                        })                };                });            </script>        </div>"
      ]
     },
     "metadata": {},
     "output_type": "display_data"
    }
   ],
   "source": [
    "fig = px.scatter(sorted_df.head(30),\n",
    "                x='county', \n",
    "                y='confirmed',\n",
    "                size='confirmed',\n",
    "                color='county', \n",
    "                hover_name='state',\n",
    "                size_max=60)\n",
    "fig.show()"
   ]
  },
  {
   "cell_type": "code",
   "execution_count": 21,
   "metadata": {},
   "outputs": [],
   "source": [
    "import plotly.graph_objects as go"
   ]
  },
  {
   "cell_type": "code",
   "execution_count": 89,
   "metadata": {},
   "outputs": [],
   "source": [
    "labels = ['confirmed', 'deaths']\n",
    "colors = ['blue', 'red']\n",
    "mode_size = [6,8]\n",
    "line_size = [4,5]\n",
    "\n",
    "fig = go.Figure()\n",
    "\n"
   ]
  },
  {
   "cell_type": "code",
   "execution_count": 90,
   "metadata": {},
   "outputs": [],
   "source": [
    "import folium"
   ]
  },
  {
   "cell_type": "code",
   "execution_count": 109,
   "metadata": {},
   "outputs": [
    {
     "data": {
      "text/html": [
       "<div style=\"width:100%;\"><div style=\"position:relative;width:100%;height:0;padding-bottom:60%;\"><span style=\"color:#565656\">Make this Notebook Trusted to load map: File -> Trust Notebook</span><iframe src=\"about:blank\" style=\"position:absolute;width:100%;height:100%;left:0;top:0;border:none !important;\" data-html=%3C%21DOCTYPE%20html%3E%0A%3Chead%3E%20%20%20%20%0A%20%20%20%20%3Cmeta%20http-equiv%3D%22content-type%22%20content%3D%22text/html%3B%20charset%3DUTF-8%22%20/%3E%0A%20%20%20%20%0A%20%20%20%20%20%20%20%20%3Cscript%3E%0A%20%20%20%20%20%20%20%20%20%20%20%20L_NO_TOUCH%20%3D%20false%3B%0A%20%20%20%20%20%20%20%20%20%20%20%20L_DISABLE_3D%20%3D%20false%3B%0A%20%20%20%20%20%20%20%20%3C/script%3E%0A%20%20%20%20%0A%20%20%20%20%3Cstyle%3Ehtml%2C%20body%20%7Bwidth%3A%20100%25%3Bheight%3A%20100%25%3Bmargin%3A%200%3Bpadding%3A%200%3B%7D%3C/style%3E%0A%20%20%20%20%3Cstyle%3E%23map%20%7Bposition%3Aabsolute%3Btop%3A0%3Bbottom%3A0%3Bright%3A0%3Bleft%3A0%3B%7D%3C/style%3E%0A%20%20%20%20%3Cscript%20src%3D%22https%3A//cdn.jsdelivr.net/npm/leaflet%401.6.0/dist/leaflet.js%22%3E%3C/script%3E%0A%20%20%20%20%3Cscript%20src%3D%22https%3A//code.jquery.com/jquery-1.12.4.min.js%22%3E%3C/script%3E%0A%20%20%20%20%3Cscript%20src%3D%22https%3A//maxcdn.bootstrapcdn.com/bootstrap/3.2.0/js/bootstrap.min.js%22%3E%3C/script%3E%0A%20%20%20%20%3Cscript%20src%3D%22https%3A//cdnjs.cloudflare.com/ajax/libs/Leaflet.awesome-markers/2.0.2/leaflet.awesome-markers.js%22%3E%3C/script%3E%0A%20%20%20%20%3Clink%20rel%3D%22stylesheet%22%20href%3D%22https%3A//cdn.jsdelivr.net/npm/leaflet%401.6.0/dist/leaflet.css%22/%3E%0A%20%20%20%20%3Clink%20rel%3D%22stylesheet%22%20href%3D%22https%3A//maxcdn.bootstrapcdn.com/bootstrap/3.2.0/css/bootstrap.min.css%22/%3E%0A%20%20%20%20%3Clink%20rel%3D%22stylesheet%22%20href%3D%22https%3A//maxcdn.bootstrapcdn.com/bootstrap/3.2.0/css/bootstrap-theme.min.css%22/%3E%0A%20%20%20%20%3Clink%20rel%3D%22stylesheet%22%20href%3D%22https%3A//maxcdn.bootstrapcdn.com/font-awesome/4.6.3/css/font-awesome.min.css%22/%3E%0A%20%20%20%20%3Clink%20rel%3D%22stylesheet%22%20href%3D%22https%3A//cdnjs.cloudflare.com/ajax/libs/Leaflet.awesome-markers/2.0.2/leaflet.awesome-markers.css%22/%3E%0A%20%20%20%20%3Clink%20rel%3D%22stylesheet%22%20href%3D%22https%3A//cdn.jsdelivr.net/gh/python-visualization/folium/folium/templates/leaflet.awesome.rotate.min.css%22/%3E%0A%20%20%20%20%0A%20%20%20%20%20%20%20%20%20%20%20%20%3Cmeta%20name%3D%22viewport%22%20content%3D%22width%3Ddevice-width%2C%0A%20%20%20%20%20%20%20%20%20%20%20%20%20%20%20%20initial-scale%3D1.0%2C%20maximum-scale%3D1.0%2C%20user-scalable%3Dno%22%20/%3E%0A%20%20%20%20%20%20%20%20%20%20%20%20%3Cstyle%3E%0A%20%20%20%20%20%20%20%20%20%20%20%20%20%20%20%20%23map_8891626f5ced449c971672ba244ac297%20%7B%0A%20%20%20%20%20%20%20%20%20%20%20%20%20%20%20%20%20%20%20%20position%3A%20relative%3B%0A%20%20%20%20%20%20%20%20%20%20%20%20%20%20%20%20%20%20%20%20width%3A%20100.0%25%3B%0A%20%20%20%20%20%20%20%20%20%20%20%20%20%20%20%20%20%20%20%20height%3A%20100.0%25%3B%0A%20%20%20%20%20%20%20%20%20%20%20%20%20%20%20%20%20%20%20%20left%3A%200.0%25%3B%0A%20%20%20%20%20%20%20%20%20%20%20%20%20%20%20%20%20%20%20%20top%3A%200.0%25%3B%0A%20%20%20%20%20%20%20%20%20%20%20%20%20%20%20%20%7D%0A%20%20%20%20%20%20%20%20%20%20%20%20%3C/style%3E%0A%20%20%20%20%20%20%20%20%0A%3C/head%3E%0A%3Cbody%3E%20%20%20%20%0A%20%20%20%20%0A%20%20%20%20%20%20%20%20%20%20%20%20%3Cdiv%20class%3D%22folium-map%22%20id%3D%22map_8891626f5ced449c971672ba244ac297%22%20%3E%3C/div%3E%0A%20%20%20%20%20%20%20%20%0A%3C/body%3E%0A%3Cscript%3E%20%20%20%20%0A%20%20%20%20%0A%20%20%20%20%20%20%20%20%20%20%20%20var%20map_8891626f5ced449c971672ba244ac297%20%3D%20L.map%28%0A%20%20%20%20%20%20%20%20%20%20%20%20%20%20%20%20%22map_8891626f5ced449c971672ba244ac297%22%2C%0A%20%20%20%20%20%20%20%20%20%20%20%20%20%20%20%20%7B%0A%20%20%20%20%20%20%20%20%20%20%20%20%20%20%20%20%20%20%20%20center%3A%20%5B45.0%2C%20-100.0%5D%2C%0A%20%20%20%20%20%20%20%20%20%20%20%20%20%20%20%20%20%20%20%20crs%3A%20L.CRS.EPSG3857%2C%0A%20%20%20%20%20%20%20%20%20%20%20%20%20%20%20%20%20%20%20%20zoom%3A%203%2C%0A%20%20%20%20%20%20%20%20%20%20%20%20%20%20%20%20%20%20%20%20zoomControl%3A%20true%2C%0A%20%20%20%20%20%20%20%20%20%20%20%20%20%20%20%20%20%20%20%20preferCanvas%3A%20false%2C%0A%20%20%20%20%20%20%20%20%20%20%20%20%20%20%20%20%7D%0A%20%20%20%20%20%20%20%20%20%20%20%20%29%3B%0A%0A%20%20%20%20%20%20%20%20%20%20%20%20%0A%0A%20%20%20%20%20%20%20%20%0A%20%20%20%20%0A%20%20%20%20%20%20%20%20%20%20%20%20var%20tile_layer_66f1e70b440541c7ad15c0ca5491e89c%20%3D%20L.tileLayer%28%0A%20%20%20%20%20%20%20%20%20%20%20%20%20%20%20%20%22https%3A//cartodb-basemaps-%7Bs%7D.global.ssl.fastly.net/light_all/%7Bz%7D/%7Bx%7D/%7By%7D.png%22%2C%0A%20%20%20%20%20%20%20%20%20%20%20%20%20%20%20%20%7B%22attribution%22%3A%20%22%5Cu0026copy%3B%20%5Cu003ca%20href%3D%5C%22http%3A//www.openstreetmap.org/copyright%5C%22%5Cu003eOpenStreetMap%5Cu003c/a%5Cu003e%20contributors%20%5Cu0026copy%3B%20%5Cu003ca%20href%3D%5C%22http%3A//cartodb.com/attributions%5C%22%5Cu003eCartoDB%5Cu003c/a%5Cu003e%2C%20CartoDB%20%5Cu003ca%20href%20%3D%5C%22http%3A//cartodb.com/attributions%5C%22%5Cu003eattributions%5Cu003c/a%5Cu003e%22%2C%20%22detectRetina%22%3A%20false%2C%20%22maxNativeZoom%22%3A%2010%2C%20%22maxZoom%22%3A%2010%2C%20%22minZoom%22%3A%202%2C%20%22noWrap%22%3A%20false%2C%20%22opacity%22%3A%201%2C%20%22subdomains%22%3A%20%22abc%22%2C%20%22tms%22%3A%20false%7D%0A%20%20%20%20%20%20%20%20%20%20%20%20%29.addTo%28map_8891626f5ced449c971672ba244ac297%29%3B%0A%20%20%20%20%20%20%20%20%0A%20%20%20%20%0A%20%20%20%20%20%20%20%20%20%20%20%20var%20circle_fa7e1b910f544da1a591caacaac7d806%20%3D%20L.circle%28%0A%20%20%20%20%20%20%20%20%20%20%20%20%20%20%20%20%5B34.30828379%2C%20-118.22824109999999%5D%2C%0A%20%20%20%20%20%20%20%20%20%20%20%20%20%20%20%20%7B%22bubblingMouseEvents%22%3A%20true%2C%20%22color%22%3A%20%22crimson%22%2C%20%22dashArray%22%3A%20null%2C%20%22dashOffset%22%3A%20null%2C%20%22fill%22%3A%20true%2C%20%22fillColor%22%3A%20%22blue%22%2C%20%22fillOpacity%22%3A%200.2%2C%20%22fillRule%22%3A%20%22evenodd%22%2C%20%22lineCap%22%3A%20%22round%22%2C%20%22lineJoin%22%3A%20%22round%22%2C%20%22opacity%22%3A%201.0%2C%20%22radius%22%3A%20138000.0%2C%20%22stroke%22%3A%20true%2C%20%22weight%22%3A%203%7D%0A%20%20%20%20%20%20%20%20%20%20%20%20%29.addTo%28map_8891626f5ced449c971672ba244ac297%29%3B%0A%20%20%20%20%20%20%20%20%0A%20%20%20%20%0A%20%20%20%20%20%20%20%20%20%20%20%20circle_fa7e1b910f544da1a591caacaac7d806.bindTooltip%28%0A%20%20%20%20%20%20%20%20%20%20%20%20%20%20%20%20%60%3Cdiv%3E%0A%20%20%20%20%20%20%20%20%20%20%20%20%20%20%20%20%20%20%20%20%20%3Cdiv%20style%3D%27margin%3A%200%3B%20background-color%3A%20black%3B%20color%3A%20white%3B%27%3E%3Ch4%20style%3D%27text-align%3Acenter%3Bfont-weight%3A%20bold%27%3ELos%20Angeles%3C/h4%3E%3Ch6%20style%3D%27text-align%3Acenter%3Bfont-weight%3A%20bold%27%3ECalifornia%3C/h6%3E%3Chr%20style%3D%27margin%3A10px%3Bcolor%3A%20white%3B%27%3E%3Cul%20style%3D%27color%3A%20white%3Blist-style-type%3Acircle%3Balign-item%3Aleft%3Bpadding-left%3A20px%3Bpadding-right%3A20px%27%3E%3Cli%3EConfirmed%3A%20841392%3C/li%3E%3Cli%3EDeaths%3A%2011089%3C/li%3E%3C/ul%3E%3C/div%3E%0A%20%20%20%20%20%20%20%20%20%20%20%20%20%20%20%20%20%3C/div%3E%60%2C%0A%20%20%20%20%20%20%20%20%20%20%20%20%20%20%20%20%7B%22sticky%22%3A%20true%7D%0A%20%20%20%20%20%20%20%20%20%20%20%20%29%3B%0A%20%20%20%20%20%20%20%20%0A%20%20%20%20%0A%20%20%20%20%20%20%20%20%20%20%20%20var%20circle_2b4cf1eb487849a589d69bac7f22c2a6%20%3D%20L.circle%28%0A%20%20%20%20%20%20%20%20%20%20%20%20%20%20%20%20%5B41.84144849%2C%20-87.81658794%5D%2C%0A%20%20%20%20%20%20%20%20%20%20%20%20%20%20%20%20%7B%22bubblingMouseEvents%22%3A%20true%2C%20%22color%22%3A%20%22crimson%22%2C%20%22dashArray%22%3A%20null%2C%20%22dashOffset%22%3A%20null%2C%20%22fill%22%3A%20true%2C%20%22fillColor%22%3A%20%22blue%22%2C%20%22fillOpacity%22%3A%200.2%2C%20%22fillRule%22%3A%20%22evenodd%22%2C%20%22lineCap%22%3A%20%22round%22%2C%20%22lineJoin%22%3A%20%22round%22%2C%20%22opacity%22%3A%201.0%2C%20%22radius%22%3A%20138000.0%2C%20%22stroke%22%3A%20true%2C%20%22weight%22%3A%203%7D%0A%20%20%20%20%20%20%20%20%20%20%20%20%29.addTo%28map_8891626f5ced449c971672ba244ac297%29%3B%0A%20%20%20%20%20%20%20%20%0A%20%20%20%20%0A%20%20%20%20%20%20%20%20%20%20%20%20circle_2b4cf1eb487849a589d69bac7f22c2a6.bindTooltip%28%0A%20%20%20%20%20%20%20%20%20%20%20%20%20%20%20%20%60%3Cdiv%3E%0A%20%20%20%20%20%20%20%20%20%20%20%20%20%20%20%20%20%20%20%20%20%3Cdiv%20style%3D%27margin%3A%200%3B%20background-color%3A%20black%3B%20color%3A%20white%3B%27%3E%3Ch4%20style%3D%27text-align%3Acenter%3Bfont-weight%3A%20bold%27%3ECook%3C/h4%3E%3Ch6%20style%3D%27text-align%3Acenter%3Bfont-weight%3A%20bold%27%3EIllinois%3C/h6%3E%3Chr%20style%3D%27margin%3A10px%3Bcolor%3A%20white%3B%27%3E%3Cul%20style%3D%27color%3A%20white%3Blist-style-type%3Acircle%3Balign-item%3Aleft%3Bpadding-left%3A20px%3Bpadding-right%3A20px%27%3E%3Cli%3EConfirmed%3A%20406674%3C/li%3E%3Cli%3EDeaths%3A%208574%3C/li%3E%3C/ul%3E%3C/div%3E%0A%20%20%20%20%20%20%20%20%20%20%20%20%20%20%20%20%20%3C/div%3E%60%2C%0A%20%20%20%20%20%20%20%20%20%20%20%20%20%20%20%20%7B%22sticky%22%3A%20true%7D%0A%20%20%20%20%20%20%20%20%20%20%20%20%29%3B%0A%20%20%20%20%20%20%20%20%0A%20%20%20%20%0A%20%20%20%20%20%20%20%20%20%20%20%20var%20circle_8968f2bc03314d07a4fa9e8ff64ddde2%20%3D%20L.circle%28%0A%20%20%20%20%20%20%20%20%20%20%20%20%20%20%20%20%5B33.34835867%2C%20-112.49181540000001%5D%2C%0A%20%20%20%20%20%20%20%20%20%20%20%20%20%20%20%20%7B%22bubblingMouseEvents%22%3A%20true%2C%20%22color%22%3A%20%22crimson%22%2C%20%22dashArray%22%3A%20null%2C%20%22dashOffset%22%3A%20null%2C%20%22fill%22%3A%20true%2C%20%22fillColor%22%3A%20%22blue%22%2C%20%22fillOpacity%22%3A%200.2%2C%20%22fillRule%22%3A%20%22evenodd%22%2C%20%22lineCap%22%3A%20%22round%22%2C%20%22lineJoin%22%3A%20%22round%22%2C%20%22opacity%22%3A%201.0%2C%20%22radius%22%3A%20122999.99999999999%2C%20%22stroke%22%3A%20true%2C%20%22weight%22%3A%203%7D%0A%20%20%20%20%20%20%20%20%20%20%20%20%29.addTo%28map_8891626f5ced449c971672ba244ac297%29%3B%0A%20%20%20%20%20%20%20%20%0A%20%20%20%20%0A%20%20%20%20%20%20%20%20%20%20%20%20circle_8968f2bc03314d07a4fa9e8ff64ddde2.bindTooltip%28%0A%20%20%20%20%20%20%20%20%20%20%20%20%20%20%20%20%60%3Cdiv%3E%0A%20%20%20%20%20%20%20%20%20%20%20%20%20%20%20%20%20%20%20%20%20%3Cdiv%20style%3D%27margin%3A%200%3B%20background-color%3A%20black%3B%20color%3A%20white%3B%27%3E%3Ch4%20style%3D%27text-align%3Acenter%3Bfont-weight%3A%20bold%27%3EMaricopa%3C/h4%3E%3Ch6%20style%3D%27text-align%3Acenter%3Bfont-weight%3A%20bold%27%3EArizona%3C/h6%3E%3Chr%20style%3D%27margin%3A10px%3Bcolor%3A%20white%3B%27%3E%3Cul%20style%3D%27color%3A%20white%3Blist-style-type%3Acircle%3Balign-item%3Aleft%3Bpadding-left%3A20px%3Bpadding-right%3A20px%27%3E%3Cli%3EConfirmed%3A%20349852%3C/li%3E%3Cli%3EDeaths%3A%205346%3C/li%3E%3C/ul%3E%3C/div%3E%0A%20%20%20%20%20%20%20%20%20%20%20%20%20%20%20%20%20%3C/div%3E%60%2C%0A%20%20%20%20%20%20%20%20%20%20%20%20%20%20%20%20%7B%22sticky%22%3A%20true%7D%0A%20%20%20%20%20%20%20%20%20%20%20%20%29%3B%0A%20%20%20%20%20%20%20%20%0A%20%20%20%20%0A%20%20%20%20%20%20%20%20%20%20%20%20var%20circle_626495be1e57448988d57ed5026668b8%20%3D%20L.circle%28%0A%20%20%20%20%20%20%20%20%20%20%20%20%20%20%20%20%5B25.6112362%2C%20-80.55170587%5D%2C%0A%20%20%20%20%20%20%20%20%20%20%20%20%20%20%20%20%7B%22bubblingMouseEvents%22%3A%20true%2C%20%22color%22%3A%20%22crimson%22%2C%20%22dashArray%22%3A%20null%2C%20%22dashOffset%22%3A%20null%2C%20%22fill%22%3A%20true%2C%20%22fillColor%22%3A%20%22blue%22%2C%20%22fillOpacity%22%3A%200.2%2C%20%22fillRule%22%3A%20%22evenodd%22%2C%20%22lineCap%22%3A%20%22round%22%2C%20%22lineJoin%22%3A%20%22round%22%2C%20%22opacity%22%3A%201.0%2C%20%22radius%22%3A%20122999.99999999999%2C%20%22stroke%22%3A%20true%2C%20%22weight%22%3A%203%7D%0A%20%20%20%20%20%20%20%20%20%20%20%20%29.addTo%28map_8891626f5ced449c971672ba244ac297%29%3B%0A%20%20%20%20%20%20%20%20%0A%20%20%20%20%0A%20%20%20%20%20%20%20%20%20%20%20%20circle_626495be1e57448988d57ed5026668b8.bindTooltip%28%0A%20%20%20%20%20%20%20%20%20%20%20%20%20%20%20%20%60%3Cdiv%3E%0A%20%20%20%20%20%20%20%20%20%20%20%20%20%20%20%20%20%20%20%20%20%3Cdiv%20style%3D%27margin%3A%200%3B%20background-color%3A%20black%3B%20color%3A%20white%3B%27%3E%3Ch4%20style%3D%27text-align%3Acenter%3Bfont-weight%3A%20bold%27%3EMiami-Dade%3C/h4%3E%3Ch6%20style%3D%27text-align%3Acenter%3Bfont-weight%3A%20bold%27%3EFlorida%3C/h6%3E%3Chr%20style%3D%27margin%3A10px%3Bcolor%3A%20white%3B%27%3E%3Cul%20style%3D%27color%3A%20white%3Blist-style-type%3Acircle%3Balign-item%3Aleft%3Bpadding-left%3A20px%3Bpadding-right%3A20px%27%3E%3Cli%3EConfirmed%3A%20314742%3C/li%3E%3Cli%3EDeaths%3A%204260%3C/li%3E%3C/ul%3E%3C/div%3E%0A%20%20%20%20%20%20%20%20%20%20%20%20%20%20%20%20%20%3C/div%3E%60%2C%0A%20%20%20%20%20%20%20%20%20%20%20%20%20%20%20%20%7B%22sticky%22%3A%20true%7D%0A%20%20%20%20%20%20%20%20%20%20%20%20%29%3B%0A%20%20%20%20%20%20%20%20%0A%20%20%20%20%0A%20%20%20%20%20%20%20%20%20%20%20%20var%20circle_2e885811de014a11b5a78f85dc2a87ff%20%3D%20L.circle%28%0A%20%20%20%20%20%20%20%20%20%20%20%20%20%20%20%20%5B29.85864939%2C%20-95.39339521%5D%2C%0A%20%20%20%20%20%20%20%20%20%20%20%20%20%20%20%20%7B%22bubblingMouseEvents%22%3A%20true%2C%20%22color%22%3A%20%22crimson%22%2C%20%22dashArray%22%3A%20null%2C%20%22dashOffset%22%3A%20null%2C%20%22fill%22%3A%20true%2C%20%22fillColor%22%3A%20%22blue%22%2C%20%22fillOpacity%22%3A%200.2%2C%20%22fillRule%22%3A%20%22evenodd%22%2C%20%22lineCap%22%3A%20%22round%22%2C%20%22lineJoin%22%3A%20%22round%22%2C%20%22opacity%22%3A%201.0%2C%20%22radius%22%3A%20122999.99999999999%2C%20%22stroke%22%3A%20true%2C%20%22weight%22%3A%203%7D%0A%20%20%20%20%20%20%20%20%20%20%20%20%29.addTo%28map_8891626f5ced449c971672ba244ac297%29%3B%0A%20%20%20%20%20%20%20%20%0A%20%20%20%20%0A%20%20%20%20%20%20%20%20%20%20%20%20circle_2e885811de014a11b5a78f85dc2a87ff.bindTooltip%28%0A%20%20%20%20%20%20%20%20%20%20%20%20%20%20%20%20%60%3Cdiv%3E%0A%20%20%20%20%20%20%20%20%20%20%20%20%20%20%20%20%20%20%20%20%20%3Cdiv%20style%3D%27margin%3A%200%3B%20background-color%3A%20black%3B%20color%3A%20white%3B%27%3E%3Ch4%20style%3D%27text-align%3Acenter%3Bfont-weight%3A%20bold%27%3EHarris%3C/h4%3E%3Ch6%20style%3D%27text-align%3Acenter%3Bfont-weight%3A%20bold%27%3ETexas%3C/h6%3E%3Chr%20style%3D%27margin%3A10px%3Bcolor%3A%20white%3B%27%3E%3Cul%20style%3D%27color%3A%20white%3Blist-style-type%3Acircle%3Balign-item%3Aleft%3Bpadding-left%3A20px%3Bpadding-right%3A20px%27%3E%3Cli%3EConfirmed%3A%20249488%3C/li%3E%3Cli%3EDeaths%3A%203453%3C/li%3E%3C/ul%3E%3C/div%3E%0A%20%20%20%20%20%20%20%20%20%20%20%20%20%20%20%20%20%3C/div%3E%60%2C%0A%20%20%20%20%20%20%20%20%20%20%20%20%20%20%20%20%7B%22sticky%22%3A%20true%7D%0A%20%20%20%20%20%20%20%20%20%20%20%20%29%3B%0A%20%20%20%20%20%20%20%20%0A%20%20%20%20%0A%20%20%20%20%20%20%20%20%20%20%20%20var%20circle_9fd3684a518b491cb8dc5861ab908815%20%3D%20L.circle%28%0A%20%20%20%20%20%20%20%20%20%20%20%20%20%20%20%20%5B34.84060306%2C%20-116.1774685%5D%2C%0A%20%20%20%20%20%20%20%20%20%20%20%20%20%20%20%20%7B%22bubblingMouseEvents%22%3A%20true%2C%20%22color%22%3A%20%22crimson%22%2C%20%22dashArray%22%3A%20null%2C%20%22dashOffset%22%3A%20null%2C%20%22fill%22%3A%20true%2C%20%22fillColor%22%3A%20%22blue%22%2C%20%22fillOpacity%22%3A%200.2%2C%20%22fillRule%22%3A%20%22evenodd%22%2C%20%22lineCap%22%3A%20%22round%22%2C%20%22lineJoin%22%3A%20%22round%22%2C%20%22opacity%22%3A%201.0%2C%20%22radius%22%3A%20108000.0%2C%20%22stroke%22%3A%20true%2C%20%22weight%22%3A%203%7D%0A%20%20%20%20%20%20%20%20%20%20%20%20%29.addTo%28map_8891626f5ced449c971672ba244ac297%29%3B%0A%20%20%20%20%20%20%20%20%0A%20%20%20%20%0A%20%20%20%20%20%20%20%20%20%20%20%20circle_9fd3684a518b491cb8dc5861ab908815.bindTooltip%28%0A%20%20%20%20%20%20%20%20%20%20%20%20%20%20%20%20%60%3Cdiv%3E%0A%20%20%20%20%20%20%20%20%20%20%20%20%20%20%20%20%20%20%20%20%20%3Cdiv%20style%3D%27margin%3A%200%3B%20background-color%3A%20black%3B%20color%3A%20white%3B%27%3E%3Ch4%20style%3D%27text-align%3Acenter%3Bfont-weight%3A%20bold%27%3ESan%20Bernardino%3C/h4%3E%3Ch6%20style%3D%27text-align%3Acenter%3Bfont-weight%3A%20bold%27%3ECalifornia%3C/h6%3E%3Chr%20style%3D%27margin%3A10px%3Bcolor%3A%20white%3B%27%3E%3Cul%20style%3D%27color%3A%20white%3Blist-style-type%3Acircle%3Balign-item%3Aleft%3Bpadding-left%3A20px%3Bpadding-right%3A20px%27%3E%3Cli%3EConfirmed%3A%20214813%3C/li%3E%3Cli%3EDeaths%3A%201454%3C/li%3E%3C/ul%3E%3C/div%3E%0A%20%20%20%20%20%20%20%20%20%20%20%20%20%20%20%20%20%3C/div%3E%60%2C%0A%20%20%20%20%20%20%20%20%20%20%20%20%20%20%20%20%7B%22sticky%22%3A%20true%7D%0A%20%20%20%20%20%20%20%20%20%20%20%20%29%3B%0A%20%20%20%20%20%20%20%20%0A%20%20%20%20%0A%20%20%20%20%20%20%20%20%20%20%20%20var%20circle_73fcac7b6e5d416fba9e012b4845cc65%20%3D%20L.circle%28%0A%20%20%20%20%20%20%20%20%20%20%20%20%20%20%20%20%5B32.76670599%2C%20-96.77796049999999%5D%2C%0A%20%20%20%20%20%20%20%20%20%20%20%20%20%20%20%20%7B%22bubblingMouseEvents%22%3A%20true%2C%20%22color%22%3A%20%22crimson%22%2C%20%22dashArray%22%3A%20null%2C%20%22dashOffset%22%3A%20null%2C%20%22fill%22%3A%20true%2C%20%22fillColor%22%3A%20%22blue%22%2C%20%22fillOpacity%22%3A%200.2%2C%20%22fillRule%22%3A%20%22evenodd%22%2C%20%22lineCap%22%3A%20%22round%22%2C%20%22lineJoin%22%3A%20%22round%22%2C%20%22opacity%22%3A%201.0%2C%20%22radius%22%3A%20108000.0%2C%20%22stroke%22%3A%20true%2C%20%22weight%22%3A%203%7D%0A%20%20%20%20%20%20%20%20%20%20%20%20%29.addTo%28map_8891626f5ced449c971672ba244ac297%29%3B%0A%20%20%20%20%20%20%20%20%0A%20%20%20%20%0A%20%20%20%20%20%20%20%20%20%20%20%20circle_73fcac7b6e5d416fba9e012b4845cc65.bindTooltip%28%0A%20%20%20%20%20%20%20%20%20%20%20%20%20%20%20%20%60%3Cdiv%3E%0A%20%20%20%20%20%20%20%20%20%20%20%20%20%20%20%20%20%20%20%20%20%3Cdiv%20style%3D%27margin%3A%200%3B%20background-color%3A%20black%3B%20color%3A%20white%3B%27%3E%3Ch4%20style%3D%27text-align%3Acenter%3Bfont-weight%3A%20bold%27%3EDallas%3C/h4%3E%3Ch6%20style%3D%27text-align%3Acenter%3Bfont-weight%3A%20bold%27%3ETexas%3C/h6%3E%3Chr%20style%3D%27margin%3A10px%3Bcolor%3A%20white%3B%27%3E%3Cul%20style%3D%27color%3A%20white%3Blist-style-type%3Acircle%3Balign-item%3Aleft%3Bpadding-left%3A20px%3Bpadding-right%3A20px%27%3E%3Cli%3EConfirmed%3A%20204374%3C/li%3E%3Cli%3EDeaths%3A%202087%3C/li%3E%3C/ul%3E%3C/div%3E%0A%20%20%20%20%20%20%20%20%20%20%20%20%20%20%20%20%20%3C/div%3E%60%2C%0A%20%20%20%20%20%20%20%20%20%20%20%20%20%20%20%20%7B%22sticky%22%3A%20true%7D%0A%20%20%20%20%20%20%20%20%20%20%20%20%29%3B%0A%20%20%20%20%20%20%20%20%0A%20%20%20%20%0A%20%20%20%20%20%20%20%20%20%20%20%20var%20circle_4235382bb1864a099737676a91393d91%20%3D%20L.circle%28%0A%20%20%20%20%20%20%20%20%20%20%20%20%20%20%20%20%5B33.74314981%2C%20-115.9933578%5D%2C%0A%20%20%20%20%20%20%20%20%20%20%20%20%20%20%20%20%7B%22bubblingMouseEvents%22%3A%20true%2C%20%22color%22%3A%20%22crimson%22%2C%20%22dashArray%22%3A%20null%2C%20%22dashOffset%22%3A%20null%2C%20%22fill%22%3A%20true%2C%20%22fillColor%22%3A%20%22blue%22%2C%20%22fillOpacity%22%3A%200.2%2C%20%22fillRule%22%3A%20%22evenodd%22%2C%20%22lineCap%22%3A%20%22round%22%2C%20%22lineJoin%22%3A%20%22round%22%2C%20%22opacity%22%3A%201.0%2C%20%22radius%22%3A%20108000.0%2C%20%22stroke%22%3A%20true%2C%20%22weight%22%3A%203%7D%0A%20%20%20%20%20%20%20%20%20%20%20%20%29.addTo%28map_8891626f5ced449c971672ba244ac297%29%3B%0A%20%20%20%20%20%20%20%20%0A%20%20%20%20%0A%20%20%20%20%20%20%20%20%20%20%20%20circle_4235382bb1864a099737676a91393d91.bindTooltip%28%0A%20%20%20%20%20%20%20%20%20%20%20%20%20%20%20%20%60%3Cdiv%3E%0A%20%20%20%20%20%20%20%20%20%20%20%20%20%20%20%20%20%20%20%20%20%3Cdiv%20style%3D%27margin%3A%200%3B%20background-color%3A%20black%3B%20color%3A%20white%3B%27%3E%3Ch4%20style%3D%27text-align%3Acenter%3Bfont-weight%3A%20bold%27%3ERiverside%3C/h4%3E%3Ch6%20style%3D%27text-align%3Acenter%3Bfont-weight%3A%20bold%27%3ECalifornia%3C/h6%3E%3Chr%20style%3D%27margin%3A10px%3Bcolor%3A%20white%3B%27%3E%3Cul%20style%3D%27color%3A%20white%3Blist-style-type%3Acircle%3Balign-item%3Aleft%3Bpadding-left%3A20px%3Bpadding-right%3A20px%27%3E%3Cli%3EConfirmed%3A%20200439%3C/li%3E%3Cli%3EDeaths%3A%202098%3C/li%3E%3C/ul%3E%3C/div%3E%0A%20%20%20%20%20%20%20%20%20%20%20%20%20%20%20%20%20%3C/div%3E%60%2C%0A%20%20%20%20%20%20%20%20%20%20%20%20%20%20%20%20%7B%22sticky%22%3A%20true%7D%0A%20%20%20%20%20%20%20%20%20%20%20%20%29%3B%0A%20%20%20%20%20%20%20%20%0A%20%20%20%20%0A%20%20%20%20%20%20%20%20%20%20%20%20var%20circle_43edaec8136e4cbfbcb63fcb1397bc55%20%3D%20L.circle%28%0A%20%20%20%20%20%20%20%20%20%20%20%20%20%20%20%20%5B36.21458855%2C%20-115.0130241%5D%2C%0A%20%20%20%20%20%20%20%20%20%20%20%20%20%20%20%20%7B%22bubblingMouseEvents%22%3A%20true%2C%20%22color%22%3A%20%22crimson%22%2C%20%22dashArray%22%3A%20null%2C%20%22dashOffset%22%3A%20null%2C%20%22fill%22%3A%20true%2C%20%22fillColor%22%3A%20%22blue%22%2C%20%22fillOpacity%22%3A%200.2%2C%20%22fillRule%22%3A%20%22evenodd%22%2C%20%22lineCap%22%3A%20%22round%22%2C%20%22lineJoin%22%3A%20%22round%22%2C%20%22opacity%22%3A%201.0%2C%20%22radius%22%3A%20108000.0%2C%20%22stroke%22%3A%20true%2C%20%22weight%22%3A%203%7D%0A%20%20%20%20%20%20%20%20%20%20%20%20%29.addTo%28map_8891626f5ced449c971672ba244ac297%29%3B%0A%20%20%20%20%20%20%20%20%0A%20%20%20%20%0A%20%20%20%20%20%20%20%20%20%20%20%20circle_43edaec8136e4cbfbcb63fcb1397bc55.bindTooltip%28%0A%20%20%20%20%20%20%20%20%20%20%20%20%20%20%20%20%60%3Cdiv%3E%0A%20%20%20%20%20%20%20%20%20%20%20%20%20%20%20%20%20%20%20%20%20%3Cdiv%20style%3D%27margin%3A%200%3B%20background-color%3A%20black%3B%20color%3A%20white%3B%27%3E%3Ch4%20style%3D%27text-align%3Acenter%3Bfont-weight%3A%20bold%27%3EClark%3C/h4%3E%3Ch6%20style%3D%27text-align%3Acenter%3Bfont-weight%3A%20bold%27%3ENevada%3C/h6%3E%3Chr%20style%3D%27margin%3A10px%3Bcolor%3A%20white%3B%27%3E%3Cul%20style%3D%27color%3A%20white%3Blist-style-type%3Acircle%3Balign-item%3Aleft%3Bpadding-left%3A20px%3Bpadding-right%3A20px%27%3E%3Cli%3EConfirmed%3A%20180524%3C/li%3E%3Cli%3EDeaths%3A%202496%3C/li%3E%3C/ul%3E%3C/div%3E%0A%20%20%20%20%20%20%20%20%20%20%20%20%20%20%20%20%20%3C/div%3E%60%2C%0A%20%20%20%20%20%20%20%20%20%20%20%20%20%20%20%20%7B%22sticky%22%3A%20true%7D%0A%20%20%20%20%20%20%20%20%20%20%20%20%29%3B%0A%20%20%20%20%20%20%20%20%0A%20%20%20%20%0A%20%20%20%20%20%20%20%20%20%20%20%20var%20circle_c8dffc8cb1fd4e84bf0bafb26571d5d5%20%3D%20L.circle%28%0A%20%20%20%20%20%20%20%20%20%20%20%20%20%20%20%20%5B33.70147516%2C%20-117.76459979999998%5D%2C%0A%20%20%20%20%20%20%20%20%20%20%20%20%20%20%20%20%7B%22bubblingMouseEvents%22%3A%20true%2C%20%22color%22%3A%20%22crimson%22%2C%20%22dashArray%22%3A%20null%2C%20%22dashOffset%22%3A%20null%2C%20%22fill%22%3A%20true%2C%20%22fillColor%22%3A%20%22blue%22%2C%20%22fillOpacity%22%3A%200.2%2C%20%22fillRule%22%3A%20%22evenodd%22%2C%20%22lineCap%22%3A%20%22round%22%2C%20%22lineJoin%22%3A%20%22round%22%2C%20%22opacity%22%3A%201.0%2C%20%22radius%22%3A%20108000.0%2C%20%22stroke%22%3A%20true%2C%20%22weight%22%3A%203%7D%0A%20%20%20%20%20%20%20%20%20%20%20%20%29.addTo%28map_8891626f5ced449c971672ba244ac297%29%3B%0A%20%20%20%20%20%20%20%20%0A%20%20%20%20%0A%20%20%20%20%20%20%20%20%20%20%20%20circle_c8dffc8cb1fd4e84bf0bafb26571d5d5.bindTooltip%28%0A%20%20%20%20%20%20%20%20%20%20%20%20%20%20%20%20%60%3Cdiv%3E%0A%20%20%20%20%20%20%20%20%20%20%20%20%20%20%20%20%20%20%20%20%20%3Cdiv%20style%3D%27margin%3A%200%3B%20background-color%3A%20black%3B%20color%3A%20white%3B%27%3E%3Ch4%20style%3D%27text-align%3Acenter%3Bfont-weight%3A%20bold%27%3EOrange%3C/h4%3E%3Ch6%20style%3D%27text-align%3Acenter%3Bfont-weight%3A%20bold%27%3ECalifornia%3C/h6%3E%3Chr%20style%3D%27margin%3A10px%3Bcolor%3A%20white%3B%27%3E%3Cul%20style%3D%27color%3A%20white%3Blist-style-type%3Acircle%3Balign-item%3Aleft%3Bpadding-left%3A20px%3Bpadding-right%3A20px%27%3E%3Cli%3EConfirmed%3A%20174869%3C/li%3E%3Cli%3EDeaths%3A%201926%3C/li%3E%3C/ul%3E%3C/div%3E%0A%20%20%20%20%20%20%20%20%20%20%20%20%20%20%20%20%20%3C/div%3E%60%2C%0A%20%20%20%20%20%20%20%20%20%20%20%20%20%20%20%20%7B%22sticky%22%3A%20true%7D%0A%20%20%20%20%20%20%20%20%20%20%20%20%29%3B%0A%20%20%20%20%20%20%20%20%0A%20%20%20%20%0A%20%20%20%20%20%20%20%20%20%20%20%20var%20circle_2b8187573b5949f89ae887b787bab897%20%3D%20L.circle%28%0A%20%20%20%20%20%20%20%20%20%20%20%20%20%20%20%20%5B33.03484597%2C%20-116.73653259999999%5D%2C%0A%20%20%20%20%20%20%20%20%20%20%20%20%20%20%20%20%7B%22bubblingMouseEvents%22%3A%20true%2C%20%22color%22%3A%20%22crimson%22%2C%20%22dashArray%22%3A%20null%2C%20%22dashOffset%22%3A%20null%2C%20%22fill%22%3A%20true%2C%20%22fillColor%22%3A%20%22blue%22%2C%20%22fillOpacity%22%3A%200.2%2C%20%22fillRule%22%3A%20%22evenodd%22%2C%20%22lineCap%22%3A%20%22round%22%2C%20%22lineJoin%22%3A%20%22round%22%2C%20%22opacity%22%3A%201.0%2C%20%22radius%22%3A%20108000.0%2C%20%22stroke%22%3A%20true%2C%20%22weight%22%3A%203%7D%0A%20%20%20%20%20%20%20%20%20%20%20%20%29.addTo%28map_8891626f5ced449c971672ba244ac297%29%3B%0A%20%20%20%20%20%20%20%20%0A%20%20%20%20%0A%20%20%20%20%20%20%20%20%20%20%20%20circle_2b8187573b5949f89ae887b787bab897.bindTooltip%28%0A%20%20%20%20%20%20%20%20%20%20%20%20%20%20%20%20%60%3Cdiv%3E%0A%20%20%20%20%20%20%20%20%20%20%20%20%20%20%20%20%20%20%20%20%20%3Cdiv%20style%3D%27margin%3A%200%3B%20background-color%3A%20black%3B%20color%3A%20white%3B%27%3E%3Ch4%20style%3D%27text-align%3Acenter%3Bfont-weight%3A%20bold%27%3ESan%20Diego%3C/h4%3E%3Ch6%20style%3D%27text-align%3Acenter%3Bfont-weight%3A%20bold%27%3ECalifornia%3C/h6%3E%3Chr%20style%3D%27margin%3A10px%3Bcolor%3A%20white%3B%27%3E%3Cul%20style%3D%27color%3A%20white%3Blist-style-type%3Acircle%3Balign-item%3Aleft%3Bpadding-left%3A20px%3Bpadding-right%3A20px%27%3E%3Cli%3EConfirmed%3A%20172847%3C/li%3E%3Cli%3EDeaths%3A%201654%3C/li%3E%3C/ul%3E%3C/div%3E%0A%20%20%20%20%20%20%20%20%20%20%20%20%20%20%20%20%20%3C/div%3E%60%2C%0A%20%20%20%20%20%20%20%20%20%20%20%20%20%20%20%20%7B%22sticky%22%3A%20true%7D%0A%20%20%20%20%20%20%20%20%20%20%20%20%29%3B%0A%20%20%20%20%20%20%20%20%0A%20%20%20%20%0A%20%20%20%20%20%20%20%20%20%20%20%20var%20circle_d0f717a7b5c9410ca2fe920f30e4924c%20%3D%20L.circle%28%0A%20%20%20%20%20%20%20%20%20%20%20%20%20%20%20%20%5B32.77143818%2C%20-97.29101614%5D%2C%0A%20%20%20%20%20%20%20%20%20%20%20%20%20%20%20%20%7B%22bubblingMouseEvents%22%3A%20true%2C%20%22color%22%3A%20%22crimson%22%2C%20%22dashArray%22%3A%20null%2C%20%22dashOffset%22%3A%20null%2C%20%22fill%22%3A%20true%2C%20%22fillColor%22%3A%20%22blue%22%2C%20%22fillOpacity%22%3A%200.2%2C%20%22fillRule%22%3A%20%22evenodd%22%2C%20%22lineCap%22%3A%20%22round%22%2C%20%22lineJoin%22%3A%20%22round%22%2C%20%22opacity%22%3A%201.0%2C%20%22radius%22%3A%20108000.0%2C%20%22stroke%22%3A%20true%2C%20%22weight%22%3A%203%7D%0A%20%20%20%20%20%20%20%20%20%20%20%20%29.addTo%28map_8891626f5ced449c971672ba244ac297%29%3B%0A%20%20%20%20%20%20%20%20%0A%20%20%20%20%0A%20%20%20%20%20%20%20%20%20%20%20%20circle_d0f717a7b5c9410ca2fe920f30e4924c.bindTooltip%28%0A%20%20%20%20%20%20%20%20%20%20%20%20%20%20%20%20%60%3Cdiv%3E%0A%20%20%20%20%20%20%20%20%20%20%20%20%20%20%20%20%20%20%20%20%20%3Cdiv%20style%3D%27margin%3A%200%3B%20background-color%3A%20black%3B%20color%3A%20white%3B%27%3E%3Ch4%20style%3D%27text-align%3Acenter%3Bfont-weight%3A%20bold%27%3ETarrant%3C/h4%3E%3Ch6%20style%3D%27text-align%3Acenter%3Bfont-weight%3A%20bold%27%3ETexas%3C/h6%3E%3Chr%20style%3D%27margin%3A10px%3Bcolor%3A%20white%3B%27%3E%3Cul%20style%3D%27color%3A%20white%3Blist-style-type%3Acircle%3Balign-item%3Aleft%3Bpadding-left%3A20px%3Bpadding-right%3A20px%27%3E%3Cli%3EConfirmed%3A%20161878%3C/li%3E%3Cli%3EDeaths%3A%201550%3C/li%3E%3C/ul%3E%3C/div%3E%0A%20%20%20%20%20%20%20%20%20%20%20%20%20%20%20%20%20%3C/div%3E%60%2C%0A%20%20%20%20%20%20%20%20%20%20%20%20%20%20%20%20%7B%22sticky%22%3A%20true%7D%0A%20%20%20%20%20%20%20%20%20%20%20%20%29%3B%0A%20%20%20%20%20%20%20%20%0A%20%20%20%20%0A%20%20%20%20%20%20%20%20%20%20%20%20var%20circle_ca756406615b42e78becf60e56079294%20%3D%20L.circle%28%0A%20%20%20%20%20%20%20%20%20%20%20%20%20%20%20%20%5B26.15184651%2C%20-80.48725556%5D%2C%0A%20%20%20%20%20%20%20%20%20%20%20%20%20%20%20%20%7B%22bubblingMouseEvents%22%3A%20true%2C%20%22color%22%3A%20%22crimson%22%2C%20%22dashArray%22%3A%20null%2C%20%22dashOffset%22%3A%20null%2C%20%22fill%22%3A%20true%2C%20%22fillColor%22%3A%20%22blue%22%2C%20%22fillOpacity%22%3A%200.2%2C%20%22fillRule%22%3A%20%22evenodd%22%2C%20%22lineCap%22%3A%20%22round%22%2C%20%22lineJoin%22%3A%20%22round%22%2C%20%22opacity%22%3A%201.0%2C%20%22radius%22%3A%20108000.0%2C%20%22stroke%22%3A%20true%2C%20%22weight%22%3A%203%7D%0A%20%20%20%20%20%20%20%20%20%20%20%20%29.addTo%28map_8891626f5ced449c971672ba244ac297%29%3B%0A%20%20%20%20%20%20%20%20%0A%20%20%20%20%0A%20%20%20%20%20%20%20%20%20%20%20%20circle_ca756406615b42e78becf60e56079294.bindTooltip%28%0A%20%20%20%20%20%20%20%20%20%20%20%20%20%20%20%20%60%3Cdiv%3E%0A%20%20%20%20%20%20%20%20%20%20%20%20%20%20%20%20%20%20%20%20%20%3Cdiv%20style%3D%27margin%3A%200%3B%20background-color%3A%20black%3B%20color%3A%20white%3B%27%3E%3Ch4%20style%3D%27text-align%3Acenter%3Bfont-weight%3A%20bold%27%3EBroward%3C/h4%3E%3Ch6%20style%3D%27text-align%3Acenter%3Bfont-weight%3A%20bold%27%3EFlorida%3C/h6%3E%3Chr%20style%3D%27margin%3A10px%3Bcolor%3A%20white%3B%27%3E%3Cul%20style%3D%27color%3A%20white%3Blist-style-type%3Acircle%3Balign-item%3Aleft%3Bpadding-left%3A20px%3Bpadding-right%3A20px%27%3E%3Cli%3EConfirmed%3A%20144590%3C/li%3E%3Cli%3EDeaths%3A%201890%3C/li%3E%3C/ul%3E%3C/div%3E%0A%20%20%20%20%20%20%20%20%20%20%20%20%20%20%20%20%20%3C/div%3E%60%2C%0A%20%20%20%20%20%20%20%20%20%20%20%20%20%20%20%20%7B%22sticky%22%3A%20true%7D%0A%20%20%20%20%20%20%20%20%20%20%20%20%29%3B%0A%20%20%20%20%20%20%20%20%0A%20%20%20%20%0A%20%20%20%20%20%20%20%20%20%20%20%20var%20circle_d8731170814c4e76b2198d351bd169ba%20%3D%20L.circle%28%0A%20%20%20%20%20%20%20%20%20%20%20%20%20%20%20%20%5B40.71088124%2C%20-73.81684712%5D%2C%0A%20%20%20%20%20%20%20%20%20%20%20%20%20%20%20%20%7B%22bubblingMouseEvents%22%3A%20true%2C%20%22color%22%3A%20%22crimson%22%2C%20%22dashArray%22%3A%20null%2C%20%22dashOffset%22%3A%20null%2C%20%22fill%22%3A%20true%2C%20%22fillColor%22%3A%20%22blue%22%2C%20%22fillOpacity%22%3A%200.2%2C%20%22fillRule%22%3A%20%22evenodd%22%2C%20%22lineCap%22%3A%20%22round%22%2C%20%22lineJoin%22%3A%20%22round%22%2C%20%22opacity%22%3A%201.0%2C%20%22radius%22%3A%20122999.99999999999%2C%20%22stroke%22%3A%20true%2C%20%22weight%22%3A%203%7D%0A%20%20%20%20%20%20%20%20%20%20%20%20%29.addTo%28map_8891626f5ced449c971672ba244ac297%29%3B%0A%20%20%20%20%20%20%20%20%0A%20%20%20%20%0A%20%20%20%20%20%20%20%20%20%20%20%20circle_d8731170814c4e76b2198d351bd169ba.bindTooltip%28%0A%20%20%20%20%20%20%20%20%20%20%20%20%20%20%20%20%60%3Cdiv%3E%0A%20%20%20%20%20%20%20%20%20%20%20%20%20%20%20%20%20%20%20%20%20%3Cdiv%20style%3D%27margin%3A%200%3B%20background-color%3A%20black%3B%20color%3A%20white%3B%27%3E%3Ch4%20style%3D%27text-align%3Acenter%3Bfont-weight%3A%20bold%27%3EQueens%3C/h4%3E%3Ch6%20style%3D%27text-align%3Acenter%3Bfont-weight%3A%20bold%27%3ENew%20York%3C/h6%3E%3Chr%20style%3D%27margin%3A10px%3Bcolor%3A%20white%3B%27%3E%3Cul%20style%3D%27color%3A%20white%3Blist-style-type%3Acircle%3Balign-item%3Aleft%3Bpadding-left%3A20px%3Bpadding-right%3A20px%27%3E%3Cli%3EConfirmed%3A%20134670%3C/li%3E%3Cli%3EDeaths%3A%207602%3C/li%3E%3C/ul%3E%3C/div%3E%0A%20%20%20%20%20%20%20%20%20%20%20%20%20%20%20%20%20%3C/div%3E%60%2C%0A%20%20%20%20%20%20%20%20%20%20%20%20%20%20%20%20%7B%22sticky%22%3A%20true%7D%0A%20%20%20%20%20%20%20%20%20%20%20%20%29%3B%0A%20%20%20%20%20%20%20%20%0A%20%20%20%20%0A%20%20%20%20%20%20%20%20%20%20%20%20var%20circle_d0c26c58c36e484db62aef417974e3e5%20%3D%20L.circle%28%0A%20%20%20%20%20%20%20%20%20%20%20%20%20%20%20%20%5B40.636182500000004%2C%20-73.94935552%5D%2C%0A%20%20%20%20%20%20%20%20%20%20%20%20%20%20%20%20%7B%22bubblingMouseEvents%22%3A%20true%2C%20%22color%22%3A%20%22crimson%22%2C%20%22dashArray%22%3A%20null%2C%20%22dashOffset%22%3A%20null%2C%20%22fill%22%3A%20true%2C%20%22fillColor%22%3A%20%22blue%22%2C%20%22fillOpacity%22%3A%200.2%2C%20%22fillRule%22%3A%20%22evenodd%22%2C%20%22lineCap%22%3A%20%22round%22%2C%20%22lineJoin%22%3A%20%22round%22%2C%20%22opacity%22%3A%201.0%2C%20%22radius%22%3A%20122999.99999999999%2C%20%22stroke%22%3A%20true%2C%20%22weight%22%3A%203%7D%0A%20%20%20%20%20%20%20%20%20%20%20%20%29.addTo%28map_8891626f5ced449c971672ba244ac297%29%3B%0A%20%20%20%20%20%20%20%20%0A%20%20%20%20%0A%20%20%20%20%20%20%20%20%20%20%20%20circle_d0c26c58c36e484db62aef417974e3e5.bindTooltip%28%0A%20%20%20%20%20%20%20%20%20%20%20%20%20%20%20%20%60%3Cdiv%3E%0A%20%20%20%20%20%20%20%20%20%20%20%20%20%20%20%20%20%20%20%20%20%3Cdiv%20style%3D%27margin%3A%200%3B%20background-color%3A%20black%3B%20color%3A%20white%3B%27%3E%3Ch4%20style%3D%27text-align%3Acenter%3Bfont-weight%3A%20bold%27%3EKings%3C/h4%3E%3Ch6%20style%3D%27text-align%3Acenter%3Bfont-weight%3A%20bold%27%3ENew%20York%3C/h6%3E%3Chr%20style%3D%27margin%3A10px%3Bcolor%3A%20white%3B%27%3E%3Cul%20style%3D%27color%3A%20white%3Blist-style-type%3Acircle%3Balign-item%3Aleft%3Bpadding-left%3A20px%3Bpadding-right%3A20px%27%3E%3Cli%3EConfirmed%3A%20132075%3C/li%3E%3Cli%3EDeaths%3A%207807%3C/li%3E%3C/ul%3E%3C/div%3E%0A%20%20%20%20%20%20%20%20%20%20%20%20%20%20%20%20%20%3C/div%3E%60%2C%0A%20%20%20%20%20%20%20%20%20%20%20%20%20%20%20%20%7B%22sticky%22%3A%20true%7D%0A%20%20%20%20%20%20%20%20%20%20%20%20%29%3B%0A%20%20%20%20%20%20%20%20%0A%20%20%20%20%0A%20%20%20%20%20%20%20%20%20%20%20%20var%20circle_a72c9b695ad64ce8b75db9caee0fcf41%20%3D%20L.circle%28%0A%20%20%20%20%20%20%20%20%20%20%20%20%20%20%20%20%5B29.44928723%2C%20-98.52019748%5D%2C%0A%20%20%20%20%20%20%20%20%20%20%20%20%20%20%20%20%7B%22bubblingMouseEvents%22%3A%20true%2C%20%22color%22%3A%20%22crimson%22%2C%20%22dashArray%22%3A%20null%2C%20%22dashOffset%22%3A%20null%2C%20%22fill%22%3A%20true%2C%20%22fillColor%22%3A%20%22blue%22%2C%20%22fillOpacity%22%3A%200.2%2C%20%22fillRule%22%3A%20%22evenodd%22%2C%20%22lineCap%22%3A%20%22round%22%2C%20%22lineJoin%22%3A%20%22round%22%2C%20%22opacity%22%3A%201.0%2C%20%22radius%22%3A%20108000.0%2C%20%22stroke%22%3A%20true%2C%20%22weight%22%3A%203%7D%0A%20%20%20%20%20%20%20%20%20%20%20%20%29.addTo%28map_8891626f5ced449c971672ba244ac297%29%3B%0A%20%20%20%20%20%20%20%20%0A%20%20%20%20%0A%20%20%20%20%20%20%20%20%20%20%20%20circle_a72c9b695ad64ce8b75db9caee0fcf41.bindTooltip%28%0A%20%20%20%20%20%20%20%20%20%20%20%20%20%20%20%20%60%3Cdiv%3E%0A%20%20%20%20%20%20%20%20%20%20%20%20%20%20%20%20%20%20%20%20%20%3Cdiv%20style%3D%27margin%3A%200%3B%20background-color%3A%20black%3B%20color%3A%20white%3B%27%3E%3Ch4%20style%3D%27text-align%3Acenter%3Bfont-weight%3A%20bold%27%3EBexar%3C/h4%3E%3Ch6%20style%3D%27text-align%3Acenter%3Bfont-weight%3A%20bold%27%3ETexas%3C/h6%3E%3Chr%20style%3D%27margin%3A10px%3Bcolor%3A%20white%3B%27%3E%3Cul%20style%3D%27color%3A%20white%3Blist-style-type%3Acircle%3Balign-item%3Aleft%3Bpadding-left%3A20px%3Bpadding-right%3A20px%27%3E%3Cli%3EConfirmed%3A%20124800%3C/li%3E%3Cli%3EDeaths%3A%201758%3C/li%3E%3C/ul%3E%3C/div%3E%0A%20%20%20%20%20%20%20%20%20%20%20%20%20%20%20%20%20%3C/div%3E%60%2C%0A%20%20%20%20%20%20%20%20%20%20%20%20%20%20%20%20%7B%22sticky%22%3A%20true%7D%0A%20%20%20%20%20%20%20%20%20%20%20%20%29%3B%0A%20%20%20%20%20%20%20%20%0A%20%20%20%20%0A%20%20%20%20%20%20%20%20%20%20%20%20var%20circle_72151b25c02f4a69902a3bd569d4281e%20%3D%20L.circle%28%0A%20%20%20%20%20%20%20%20%20%20%20%20%20%20%20%20%5B40.66616532%2C%20-111.92160109999999%5D%2C%0A%20%20%20%20%20%20%20%20%20%20%20%20%20%20%20%20%7B%22bubblingMouseEvents%22%3A%20true%2C%20%22color%22%3A%20%22crimson%22%2C%20%22dashArray%22%3A%20null%2C%20%22dashOffset%22%3A%20null%2C%20%22fill%22%3A%20true%2C%20%22fillColor%22%3A%20%22blue%22%2C%20%22fillOpacity%22%3A%200.2%2C%20%22fillRule%22%3A%20%22evenodd%22%2C%20%22lineCap%22%3A%20%22round%22%2C%20%22lineJoin%22%3A%20%22round%22%2C%20%22opacity%22%3A%201.0%2C%20%22radius%22%3A%2093000.0%2C%20%22stroke%22%3A%20true%2C%20%22weight%22%3A%203%7D%0A%20%20%20%20%20%20%20%20%20%20%20%20%29.addTo%28map_8891626f5ced449c971672ba244ac297%29%3B%0A%20%20%20%20%20%20%20%20%0A%20%20%20%20%0A%20%20%20%20%20%20%20%20%20%20%20%20circle_72151b25c02f4a69902a3bd569d4281e.bindTooltip%28%0A%20%20%20%20%20%20%20%20%20%20%20%20%20%20%20%20%60%3Cdiv%3E%0A%20%20%20%20%20%20%20%20%20%20%20%20%20%20%20%20%20%20%20%20%20%3Cdiv%20style%3D%27margin%3A%200%3B%20background-color%3A%20black%3B%20color%3A%20white%3B%27%3E%3Ch4%20style%3D%27text-align%3Acenter%3Bfont-weight%3A%20bold%27%3ESalt%20Lake%3C/h4%3E%3Ch6%20style%3D%27text-align%3Acenter%3Bfont-weight%3A%20bold%27%3EUtah%3C/h6%3E%3Chr%20style%3D%27margin%3A10px%3Bcolor%3A%20white%3B%27%3E%3Cul%20style%3D%27color%3A%20white%3Blist-style-type%3Acircle%3Balign-item%3Aleft%3Bpadding-left%3A20px%3Bpadding-right%3A20px%27%3E%3Cli%3EConfirmed%3A%20111389%3C/li%3E%3Cli%3EDeaths%3A%20563%3C/li%3E%3C/ul%3E%3C/div%3E%0A%20%20%20%20%20%20%20%20%20%20%20%20%20%20%20%20%20%3C/div%3E%60%2C%0A%20%20%20%20%20%20%20%20%20%20%20%20%20%20%20%20%7B%22sticky%22%3A%20true%7D%0A%20%20%20%20%20%20%20%20%20%20%20%20%29%3B%0A%20%20%20%20%20%20%20%20%0A%20%20%20%20%0A%20%20%20%20%20%20%20%20%20%20%20%20var%20circle_4ab00dbdfc4847e4bb26a76ecb58ddb8%20%3D%20L.circle%28%0A%20%20%20%20%20%20%20%20%20%20%20%20%20%20%20%20%5B40.88320119%2C%20-72.8012172%5D%2C%0A%20%20%20%20%20%20%20%20%20%20%20%20%20%20%20%20%7B%22bubblingMouseEvents%22%3A%20true%2C%20%22color%22%3A%20%22crimson%22%2C%20%22dashArray%22%3A%20null%2C%20%22dashOffset%22%3A%20null%2C%20%22fill%22%3A%20true%2C%20%22fillColor%22%3A%20%22blue%22%2C%20%22fillOpacity%22%3A%200.2%2C%20%22fillRule%22%3A%20%22evenodd%22%2C%20%22lineCap%22%3A%20%22round%22%2C%20%22lineJoin%22%3A%20%22round%22%2C%20%22opacity%22%3A%201.0%2C%20%22radius%22%3A%20108000.0%2C%20%22stroke%22%3A%20true%2C%20%22weight%22%3A%203%7D%0A%20%20%20%20%20%20%20%20%20%20%20%20%29.addTo%28map_8891626f5ced449c971672ba244ac297%29%3B%0A%20%20%20%20%20%20%20%20%0A%20%20%20%20%0A%20%20%20%20%20%20%20%20%20%20%20%20circle_4ab00dbdfc4847e4bb26a76ecb58ddb8.bindTooltip%28%0A%20%20%20%20%20%20%20%20%20%20%20%20%20%20%20%20%60%3Cdiv%3E%0A%20%20%20%20%20%20%20%20%20%20%20%20%20%20%20%20%20%20%20%20%20%3Cdiv%20style%3D%27margin%3A%200%3B%20background-color%3A%20black%3B%20color%3A%20white%3B%27%3E%3Ch4%20style%3D%27text-align%3Acenter%3Bfont-weight%3A%20bold%27%3ESuffolk%3C/h4%3E%3Ch6%20style%3D%27text-align%3Acenter%3Bfont-weight%3A%20bold%27%3ENew%20York%3C/h6%3E%3Chr%20style%3D%27margin%3A10px%3Bcolor%3A%20white%3B%27%3E%3Cul%20style%3D%27color%3A%20white%3Blist-style-type%3Acircle%3Balign-item%3Aleft%3Bpadding-left%3A20px%3Bpadding-right%3A20px%27%3E%3Cli%3EConfirmed%3A%20106061%3C/li%3E%3Cli%3EDeaths%3A%202388%3C/li%3E%3C/ul%3E%3C/div%3E%0A%20%20%20%20%20%20%20%20%20%20%20%20%20%20%20%20%20%3C/div%3E%60%2C%0A%20%20%20%20%20%20%20%20%20%20%20%20%20%20%20%20%7B%22sticky%22%3A%20true%7D%0A%20%20%20%20%20%20%20%20%20%20%20%20%29%3B%0A%20%20%20%20%20%20%20%20%0A%20%20%20%20%0A%20%20%20%20%20%20%20%20%20%20%20%20var%20circle_e19a2cd347d34e87aad2efaf3fd1cdbf%20%3D%20L.circle%28%0A%20%20%20%20%20%20%20%20%20%20%20%20%20%20%20%20%5B31.76980765%2C%20-106.23632749999999%5D%2C%0A%20%20%20%20%20%20%20%20%20%20%20%20%20%20%20%20%7B%22bubblingMouseEvents%22%3A%20true%2C%20%22color%22%3A%20%22crimson%22%2C%20%22dashArray%22%3A%20null%2C%20%22dashOffset%22%3A%20null%2C%20%22fill%22%3A%20true%2C%20%22fillColor%22%3A%20%22blue%22%2C%20%22fillOpacity%22%3A%200.2%2C%20%22fillRule%22%3A%20%22evenodd%22%2C%20%22lineCap%22%3A%20%22round%22%2C%20%22lineJoin%22%3A%20%22round%22%2C%20%22opacity%22%3A%201.0%2C%20%22radius%22%3A%20108000.0%2C%20%22stroke%22%3A%20true%2C%20%22weight%22%3A%203%7D%0A%20%20%20%20%20%20%20%20%20%20%20%20%29.addTo%28map_8891626f5ced449c971672ba244ac297%29%3B%0A%20%20%20%20%20%20%20%20%0A%20%20%20%20%0A%20%20%20%20%20%20%20%20%20%20%20%20circle_e19a2cd347d34e87aad2efaf3fd1cdbf.bindTooltip%28%0A%20%20%20%20%20%20%20%20%20%20%20%20%20%20%20%20%60%3Cdiv%3E%0A%20%20%20%20%20%20%20%20%20%20%20%20%20%20%20%20%20%20%20%20%20%3Cdiv%20style%3D%27margin%3A%200%3B%20background-color%3A%20black%3B%20color%3A%20white%3B%27%3E%3Ch4%20style%3D%27text-align%3Acenter%3Bfont-weight%3A%20bold%27%3EEl%20Paso%3C/h4%3E%3Ch6%20style%3D%27text-align%3Acenter%3Bfont-weight%3A%20bold%27%3ETexas%3C/h6%3E%3Chr%20style%3D%27margin%3A10px%3Bcolor%3A%20white%3B%27%3E%3Cul%20style%3D%27color%3A%20white%3Blist-style-type%3Acircle%3Balign-item%3Aleft%3Bpadding-left%3A20px%3Bpadding-right%3A20px%27%3E%3Cli%3EConfirmed%3A%20100944%3C/li%3E%3Cli%3EDeaths%3A%201714%3C/li%3E%3C/ul%3E%3C/div%3E%0A%20%20%20%20%20%20%20%20%20%20%20%20%20%20%20%20%20%3C/div%3E%60%2C%0A%20%20%20%20%20%20%20%20%20%20%20%20%20%20%20%20%7B%22sticky%22%3A%20true%7D%0A%20%20%20%20%20%20%20%20%20%20%20%20%29%3B%0A%20%20%20%20%20%20%20%20%0A%20%20%20%20%0A%20%20%20%20%20%20%20%20%20%20%20%20var%20circle_2451ac29ff0e46e4bf10c49f2a6a3381%20%3D%20L.circle%28%0A%20%20%20%20%20%20%20%20%20%20%20%20%20%20%20%20%5B40.00338507%2C%20-75.1379271%5D%2C%0A%20%20%20%20%20%20%20%20%20%20%20%20%20%20%20%20%7B%22bubblingMouseEvents%22%3A%20true%2C%20%22color%22%3A%20%22crimson%22%2C%20%22dashArray%22%3A%20null%2C%20%22dashOffset%22%3A%20null%2C%20%22fill%22%3A%20true%2C%20%22fillColor%22%3A%20%22blue%22%2C%20%22fillOpacity%22%3A%200.2%2C%20%22fillRule%22%3A%20%22evenodd%22%2C%20%22lineCap%22%3A%20%22round%22%2C%20%22lineJoin%22%3A%20%22round%22%2C%20%22opacity%22%3A%201.0%2C%20%22radius%22%3A%20108000.0%2C%20%22stroke%22%3A%20true%2C%20%22weight%22%3A%203%7D%0A%20%20%20%20%20%20%20%20%20%20%20%20%29.addTo%28map_8891626f5ced449c971672ba244ac297%29%3B%0A%20%20%20%20%20%20%20%20%0A%20%20%20%20%0A%20%20%20%20%20%20%20%20%20%20%20%20circle_2451ac29ff0e46e4bf10c49f2a6a3381.bindTooltip%28%0A%20%20%20%20%20%20%20%20%20%20%20%20%20%20%20%20%60%3Cdiv%3E%0A%20%20%20%20%20%20%20%20%20%20%20%20%20%20%20%20%20%20%20%20%20%3Cdiv%20style%3D%27margin%3A%200%3B%20background-color%3A%20black%3B%20color%3A%20white%3B%27%3E%3Ch4%20style%3D%27text-align%3Acenter%3Bfont-weight%3A%20bold%27%3EPhiladelphia%3C/h4%3E%3Ch6%20style%3D%27text-align%3Acenter%3Bfont-weight%3A%20bold%27%3EPennsylvania%3C/h6%3E%3Chr%20style%3D%27margin%3A10px%3Bcolor%3A%20white%3B%27%3E%3Cul%20style%3D%27color%3A%20white%3Blist-style-type%3Acircle%3Balign-item%3Aleft%3Bpadding-left%3A20px%3Bpadding-right%3A20px%27%3E%3Cli%3EConfirmed%3A%2097099%3C/li%3E%3Cli%3EDeaths%3A%202553%3C/li%3E%3C/ul%3E%3C/div%3E%0A%20%20%20%20%20%20%20%20%20%20%20%20%20%20%20%20%20%3C/div%3E%60%2C%0A%20%20%20%20%20%20%20%20%20%20%20%20%20%20%20%20%7B%22sticky%22%3A%20true%7D%0A%20%20%20%20%20%20%20%20%20%20%20%20%29%3B%0A%20%20%20%20%20%20%20%20%0A%20%20%20%20%0A%20%20%20%20%20%20%20%20%20%20%20%20var%20circle_a8f9821d80934b04a9e6cb68dd63a8c4%20%3D%20L.circle%28%0A%20%20%20%20%20%20%20%20%20%20%20%20%20%20%20%20%5B40.74066522%2C%20-73.58941873%5D%2C%0A%20%20%20%20%20%20%20%20%20%20%20%20%20%20%20%20%7B%22bubblingMouseEvents%22%3A%20true%2C%20%22color%22%3A%20%22crimson%22%2C%20%22dashArray%22%3A%20null%2C%20%22dashOffset%22%3A%20null%2C%20%22fill%22%3A%20true%2C%20%22fillColor%22%3A%20%22blue%22%2C%20%22fillOpacity%22%3A%200.2%2C%20%22fillRule%22%3A%20%22evenodd%22%2C%20%22lineCap%22%3A%20%22round%22%2C%20%22lineJoin%22%3A%20%22round%22%2C%20%22opacity%22%3A%201.0%2C%20%22radius%22%3A%20108000.0%2C%20%22stroke%22%3A%20true%2C%20%22weight%22%3A%203%7D%0A%20%20%20%20%20%20%20%20%20%20%20%20%29.addTo%28map_8891626f5ced449c971672ba244ac297%29%3B%0A%20%20%20%20%20%20%20%20%0A%20%20%20%20%0A%20%20%20%20%20%20%20%20%20%20%20%20circle_a8f9821d80934b04a9e6cb68dd63a8c4.bindTooltip%28%0A%20%20%20%20%20%20%20%20%20%20%20%20%20%20%20%20%60%3Cdiv%3E%0A%20%20%20%20%20%20%20%20%20%20%20%20%20%20%20%20%20%20%20%20%20%3Cdiv%20style%3D%27margin%3A%200%3B%20background-color%3A%20black%3B%20color%3A%20white%3B%27%3E%3Ch4%20style%3D%27text-align%3Acenter%3Bfont-weight%3A%20bold%27%3ENassau%3C/h4%3E%3Ch6%20style%3D%27text-align%3Acenter%3Bfont-weight%3A%20bold%27%3ENew%20York%3C/h6%3E%3Chr%20style%3D%27margin%3A10px%3Bcolor%3A%20white%3B%27%3E%3Cul%20style%3D%27color%3A%20white%3Blist-style-type%3Acircle%3Balign-item%3Aleft%3Bpadding-left%3A20px%3Bpadding-right%3A20px%27%3E%3Cli%3EConfirmed%3A%2096112%3C/li%3E%3Cli%3EDeaths%3A%202445%3C/li%3E%3C/ul%3E%3C/div%3E%0A%20%20%20%20%20%20%20%20%20%20%20%20%20%20%20%20%20%3C/div%3E%60%2C%0A%20%20%20%20%20%20%20%20%20%20%20%20%20%20%20%20%7B%22sticky%22%3A%20true%7D%0A%20%20%20%20%20%20%20%20%20%20%20%20%29%3B%0A%20%20%20%20%20%20%20%20%0A%20%20%20%20%0A%20%20%20%20%20%20%20%20%20%20%20%20var%20circle_3ae63391e7ca48039c245d0477b3331a%20%3D%20L.circle%28%0A%20%20%20%20%20%20%20%20%20%20%20%20%20%20%20%20%5B43.00486062%2C%20-87.96733172%5D%2C%0A%20%20%20%20%20%20%20%20%20%20%20%20%20%20%20%20%7B%22bubblingMouseEvents%22%3A%20true%2C%20%22color%22%3A%20%22crimson%22%2C%20%22dashArray%22%3A%20null%2C%20%22dashOffset%22%3A%20null%2C%20%22fill%22%3A%20true%2C%20%22fillColor%22%3A%20%22blue%22%2C%20%22fillOpacity%22%3A%200.2%2C%20%22fillRule%22%3A%20%22evenodd%22%2C%20%22lineCap%22%3A%20%22round%22%2C%20%22lineJoin%22%3A%20%22round%22%2C%20%22opacity%22%3A%201.0%2C%20%22radius%22%3A%2093000.0%2C%20%22stroke%22%3A%20true%2C%20%22weight%22%3A%203%7D%0A%20%20%20%20%20%20%20%20%20%20%20%20%29.addTo%28map_8891626f5ced449c971672ba244ac297%29%3B%0A%20%20%20%20%20%20%20%20%0A%20%20%20%20%0A%20%20%20%20%20%20%20%20%20%20%20%20circle_3ae63391e7ca48039c245d0477b3331a.bindTooltip%28%0A%20%20%20%20%20%20%20%20%20%20%20%20%20%20%20%20%60%3Cdiv%3E%0A%20%20%20%20%20%20%20%20%20%20%20%20%20%20%20%20%20%20%20%20%20%3Cdiv%20style%3D%27margin%3A%200%3B%20background-color%3A%20black%3B%20color%3A%20white%3B%27%3E%3Ch4%20style%3D%27text-align%3Acenter%3Bfont-weight%3A%20bold%27%3EMilwaukee%3C/h4%3E%3Ch6%20style%3D%27text-align%3Acenter%3Bfont-weight%3A%20bold%27%3EWisconsin%3C/h6%3E%3Chr%20style%3D%27margin%3A10px%3Bcolor%3A%20white%3B%27%3E%3Cul%20style%3D%27color%3A%20white%3Blist-style-type%3Acircle%3Balign-item%3Aleft%3Bpadding-left%3A20px%3Bpadding-right%3A20px%27%3E%3Cli%3EConfirmed%3A%2093509%3C/li%3E%3Cli%3EDeaths%3A%201008%3C/li%3E%3C/ul%3E%3C/div%3E%0A%20%20%20%20%20%20%20%20%20%20%20%20%20%20%20%20%20%3C/div%3E%60%2C%0A%20%20%20%20%20%20%20%20%20%20%20%20%20%20%20%20%7B%22sticky%22%3A%20true%7D%0A%20%20%20%20%20%20%20%20%20%20%20%20%29%3B%0A%20%20%20%20%20%20%20%20%0A%20%20%20%20%0A%20%20%20%20%20%20%20%20%20%20%20%20var%20circle_c7effbdd11ec4a6cb02e58cf7345e3d9%20%3D%20L.circle%28%0A%20%20%20%20%20%20%20%20%20%20%20%20%20%20%20%20%5B40.85209301%2C%20-73.86282755%5D%2C%0A%20%20%20%20%20%20%20%20%20%20%20%20%20%20%20%20%7B%22bubblingMouseEvents%22%3A%20true%2C%20%22color%22%3A%20%22crimson%22%2C%20%22dashArray%22%3A%20null%2C%20%22dashOffset%22%3A%20null%2C%20%22fill%22%3A%20true%2C%20%22fillColor%22%3A%20%22blue%22%2C%20%22fillOpacity%22%3A%200.2%2C%20%22fillRule%22%3A%20%22evenodd%22%2C%20%22lineCap%22%3A%20%22round%22%2C%20%22lineJoin%22%3A%20%22round%22%2C%20%22opacity%22%3A%201.0%2C%20%22radius%22%3A%20122999.99999999999%2C%20%22stroke%22%3A%20true%2C%20%22weight%22%3A%203%7D%0A%20%20%20%20%20%20%20%20%20%20%20%20%29.addTo%28map_8891626f5ced449c971672ba244ac297%29%3B%0A%20%20%20%20%20%20%20%20%0A%20%20%20%20%0A%20%20%20%20%20%20%20%20%20%20%20%20circle_c7effbdd11ec4a6cb02e58cf7345e3d9.bindTooltip%28%0A%20%20%20%20%20%20%20%20%20%20%20%20%20%20%20%20%60%3Cdiv%3E%0A%20%20%20%20%20%20%20%20%20%20%20%20%20%20%20%20%20%20%20%20%20%3Cdiv%20style%3D%27margin%3A%200%3B%20background-color%3A%20black%3B%20color%3A%20white%3B%27%3E%3Ch4%20style%3D%27text-align%3Acenter%3Bfont-weight%3A%20bold%27%3EBronx%3C/h4%3E%3Ch6%20style%3D%27text-align%3Acenter%3Bfont-weight%3A%20bold%27%3ENew%20York%3C/h6%3E%3Chr%20style%3D%27margin%3A10px%3Bcolor%3A%20white%3B%27%3E%3Cul%20style%3D%27color%3A%20white%3Blist-style-type%3Acircle%3Balign-item%3Aleft%3Bpadding-left%3A20px%3Bpadding-right%3A20px%27%3E%3Cli%3EConfirmed%3A%2090958%3C/li%3E%3Cli%3EDeaths%3A%205165%3C/li%3E%3C/ul%3E%3C/div%3E%0A%20%20%20%20%20%20%20%20%20%20%20%20%20%20%20%20%20%3C/div%3E%60%2C%0A%20%20%20%20%20%20%20%20%20%20%20%20%20%20%20%20%7B%22sticky%22%3A%20true%7D%0A%20%20%20%20%20%20%20%20%20%20%20%20%29%3B%0A%20%20%20%20%20%20%20%20%0A%20%20%20%20%0A%20%20%20%20%20%20%20%20%20%20%20%20var%20circle_4efdb2e1888949628205ffd479737fdc%20%3D%20L.circle%28%0A%20%20%20%20%20%20%20%20%20%20%20%20%20%20%20%20%5B45.00761521%2C%20-93.47694895%5D%2C%0A%20%20%20%20%20%20%20%20%20%20%20%20%20%20%20%20%7B%22bubblingMouseEvents%22%3A%20true%2C%20%22color%22%3A%20%22crimson%22%2C%20%22dashArray%22%3A%20null%2C%20%22dashOffset%22%3A%20null%2C%20%22fill%22%3A%20true%2C%20%22fillColor%22%3A%20%22blue%22%2C%20%22fillOpacity%22%3A%200.2%2C%20%22fillRule%22%3A%20%22evenodd%22%2C%20%22lineCap%22%3A%20%22round%22%2C%20%22lineJoin%22%3A%20%22round%22%2C%20%22opacity%22%3A%201.0%2C%20%22radius%22%3A%20108000.0%2C%20%22stroke%22%3A%20true%2C%20%22weight%22%3A%203%7D%0A%20%20%20%20%20%20%20%20%20%20%20%20%29.addTo%28map_8891626f5ced449c971672ba244ac297%29%3B%0A%20%20%20%20%20%20%20%20%0A%20%20%20%20%0A%20%20%20%20%20%20%20%20%20%20%20%20circle_4efdb2e1888949628205ffd479737fdc.bindTooltip%28%0A%20%20%20%20%20%20%20%20%20%20%20%20%20%20%20%20%60%3Cdiv%3E%0A%20%20%20%20%20%20%20%20%20%20%20%20%20%20%20%20%20%20%20%20%20%3Cdiv%20style%3D%27margin%3A%200%3B%20background-color%3A%20black%3B%20color%3A%20white%3B%27%3E%3Ch4%20style%3D%27text-align%3Acenter%3Bfont-weight%3A%20bold%27%3EHennepin%3C/h4%3E%3Ch6%20style%3D%27text-align%3Acenter%3Bfont-weight%3A%20bold%27%3EMinnesota%3C/h6%3E%3Chr%20style%3D%27margin%3A10px%3Bcolor%3A%20white%3B%27%3E%3Cul%20style%3D%27color%3A%20white%3Blist-style-type%3Acircle%3Balign-item%3Aleft%3Bpadding-left%3A20px%3Bpadding-right%3A20px%27%3E%3Cli%3EConfirmed%3A%2088832%3C/li%3E%3Cli%3EDeaths%3A%201417%3C/li%3E%3C/ul%3E%3C/div%3E%0A%20%20%20%20%20%20%20%20%20%20%20%20%20%20%20%20%20%3C/div%3E%60%2C%0A%20%20%20%20%20%20%20%20%20%20%20%20%20%20%20%20%7B%22sticky%22%3A%20true%7D%0A%20%20%20%20%20%20%20%20%20%20%20%20%29%3B%0A%20%20%20%20%20%20%20%20%0A%20%20%20%20%0A%20%20%20%20%20%20%20%20%20%20%20%20var%20circle_c87d739ae4f545359f61e17146a467fa%20%3D%20L.circle%28%0A%20%20%20%20%20%20%20%20%20%20%20%20%20%20%20%20%5B39.96995815%2C%20-83.01115755%5D%2C%0A%20%20%20%20%20%20%20%20%20%20%20%20%20%20%20%20%7B%22bubblingMouseEvents%22%3A%20true%2C%20%22color%22%3A%20%22crimson%22%2C%20%22dashArray%22%3A%20null%2C%20%22dashOffset%22%3A%20null%2C%20%22fill%22%3A%20true%2C%20%22fillColor%22%3A%20%22blue%22%2C%20%22fillOpacity%22%3A%200.2%2C%20%22fillRule%22%3A%20%22evenodd%22%2C%20%22lineCap%22%3A%20%22round%22%2C%20%22lineJoin%22%3A%20%22round%22%2C%20%22opacity%22%3A%201.0%2C%20%22radius%22%3A%2093000.0%2C%20%22stroke%22%3A%20true%2C%20%22weight%22%3A%203%7D%0A%20%20%20%20%20%20%20%20%20%20%20%20%29.addTo%28map_8891626f5ced449c971672ba244ac297%29%3B%0A%20%20%20%20%20%20%20%20%0A%20%20%20%20%0A%20%20%20%20%20%20%20%20%20%20%20%20circle_c87d739ae4f545359f61e17146a467fa.bindTooltip%28%0A%20%20%20%20%20%20%20%20%20%20%20%20%20%20%20%20%60%3Cdiv%3E%0A%20%20%20%20%20%20%20%20%20%20%20%20%20%20%20%20%20%20%20%20%20%3Cdiv%20style%3D%27margin%3A%200%3B%20background-color%3A%20black%3B%20color%3A%20white%3B%27%3E%3Ch4%20style%3D%27text-align%3Acenter%3Bfont-weight%3A%20bold%27%3EFranklin%3C/h4%3E%3Ch6%20style%3D%27text-align%3Acenter%3Bfont-weight%3A%20bold%27%3EOhio%3C/h6%3E%3Chr%20style%3D%27margin%3A10px%3Bcolor%3A%20white%3B%27%3E%3Cul%20style%3D%27color%3A%20white%3Blist-style-type%3Acircle%3Balign-item%3Aleft%3Bpadding-left%3A20px%3Bpadding-right%3A20px%27%3E%3Cli%3EConfirmed%3A%2088447%3C/li%3E%3Cli%3EDeaths%3A%20700%3C/li%3E%3C/ul%3E%3C/div%3E%0A%20%20%20%20%20%20%20%20%20%20%20%20%20%20%20%20%20%3C/div%3E%60%2C%0A%20%20%20%20%20%20%20%20%20%20%20%20%20%20%20%20%7B%22sticky%22%3A%20true%7D%0A%20%20%20%20%20%20%20%20%20%20%20%20%29%3B%0A%20%20%20%20%20%20%20%20%0A%20%20%20%20%0A%20%20%20%20%20%20%20%20%20%20%20%20var%20circle_dca0b3ff644f44a39fab1a8f680e4a54%20%3D%20L.circle%28%0A%20%20%20%20%20%20%20%20%20%20%20%20%20%20%20%20%5B26.64676272%2C%20-80.46536002%5D%2C%0A%20%20%20%20%20%20%20%20%20%20%20%20%20%20%20%20%7B%22bubblingMouseEvents%22%3A%20true%2C%20%22color%22%3A%20%22crimson%22%2C%20%22dashArray%22%3A%20null%2C%20%22dashOffset%22%3A%20null%2C%20%22fill%22%3A%20true%2C%20%22fillColor%22%3A%20%22blue%22%2C%20%22fillOpacity%22%3A%200.2%2C%20%22fillRule%22%3A%20%22evenodd%22%2C%20%22lineCap%22%3A%20%22round%22%2C%20%22lineJoin%22%3A%20%22round%22%2C%20%22opacity%22%3A%201.0%2C%20%22radius%22%3A%20108000.0%2C%20%22stroke%22%3A%20true%2C%20%22weight%22%3A%203%7D%0A%20%20%20%20%20%20%20%20%20%20%20%20%29.addTo%28map_8891626f5ced449c971672ba244ac297%29%3B%0A%20%20%20%20%20%20%20%20%0A%20%20%20%20%0A%20%20%20%20%20%20%20%20%20%20%20%20circle_dca0b3ff644f44a39fab1a8f680e4a54.bindTooltip%28%0A%20%20%20%20%20%20%20%20%20%20%20%20%20%20%20%20%60%3Cdiv%3E%0A%20%20%20%20%20%20%20%20%20%20%20%20%20%20%20%20%20%20%20%20%20%3Cdiv%20style%3D%27margin%3A%200%3B%20background-color%3A%20black%3B%20color%3A%20white%3B%27%3E%3Ch4%20style%3D%27text-align%3Acenter%3Bfont-weight%3A%20bold%27%3EPalm%20Beach%3C/h4%3E%3Ch6%20style%3D%27text-align%3Acenter%3Bfont-weight%3A%20bold%27%3EFlorida%3C/h6%3E%3Chr%20style%3D%27margin%3A10px%3Bcolor%3A%20white%3B%27%3E%3Cul%20style%3D%27color%3A%20white%3Blist-style-type%3Acircle%3Balign-item%3Aleft%3Bpadding-left%3A20px%3Bpadding-right%3A20px%27%3E%3Cli%3EConfirmed%3A%2087683%3C/li%3E%3Cli%3EDeaths%3A%201923%3C/li%3E%3C/ul%3E%3C/div%3E%0A%20%20%20%20%20%20%20%20%20%20%20%20%20%20%20%20%20%3C/div%3E%60%2C%0A%20%20%20%20%20%20%20%20%20%20%20%20%20%20%20%20%7B%22sticky%22%3A%20true%7D%0A%20%20%20%20%20%20%20%20%20%20%20%20%29%3B%0A%20%20%20%20%20%20%20%20%0A%20%20%20%20%0A%20%20%20%20%20%20%20%20%20%20%20%20var%20circle_4f85b9e5fa3740d0a0beebece35321c8%20%3D%20L.circle%28%0A%20%20%20%20%20%20%20%20%20%20%20%20%20%20%20%20%5B42.28098405%2C%20-83.281255%5D%2C%0A%20%20%20%20%20%20%20%20%20%20%20%20%20%20%20%20%7B%22bubblingMouseEvents%22%3A%20true%2C%20%22color%22%3A%20%22crimson%22%2C%20%22dashArray%22%3A%20null%2C%20%22dashOffset%22%3A%20null%2C%20%22fill%22%3A%20true%2C%20%22fillColor%22%3A%20%22blue%22%2C%20%22fillOpacity%22%3A%200.2%2C%20%22fillRule%22%3A%20%22evenodd%22%2C%20%22lineCap%22%3A%20%22round%22%2C%20%22lineJoin%22%3A%20%22round%22%2C%20%22opacity%22%3A%201.0%2C%20%22radius%22%3A%20122999.99999999999%2C%20%22stroke%22%3A%20true%2C%20%22weight%22%3A%203%7D%0A%20%20%20%20%20%20%20%20%20%20%20%20%29.addTo%28map_8891626f5ced449c971672ba244ac297%29%3B%0A%20%20%20%20%20%20%20%20%0A%20%20%20%20%0A%20%20%20%20%20%20%20%20%20%20%20%20circle_4f85b9e5fa3740d0a0beebece35321c8.bindTooltip%28%0A%20%20%20%20%20%20%20%20%20%20%20%20%20%20%20%20%60%3Cdiv%3E%0A%20%20%20%20%20%20%20%20%20%20%20%20%20%20%20%20%20%20%20%20%20%3Cdiv%20style%3D%27margin%3A%200%3B%20background-color%3A%20black%3B%20color%3A%20white%3B%27%3E%3Ch4%20style%3D%27text-align%3Acenter%3Bfont-weight%3A%20bold%27%3EWayne%3C/h4%3E%3Ch6%20style%3D%27text-align%3Acenter%3Bfont-weight%3A%20bold%27%3EMichigan%3C/h6%3E%3Chr%20style%3D%27margin%3A10px%3Bcolor%3A%20white%3B%27%3E%3Cul%20style%3D%27color%3A%20white%3Blist-style-type%3Acircle%3Balign-item%3Aleft%3Bpadding-left%3A20px%3Bpadding-right%3A20px%27%3E%3Cli%3EConfirmed%3A%2087259%3C/li%3E%3Cli%3EDeaths%3A%203702%3C/li%3E%3C/ul%3E%3C/div%3E%0A%20%20%20%20%20%20%20%20%20%20%20%20%20%20%20%20%20%3C/div%3E%60%2C%0A%20%20%20%20%20%20%20%20%20%20%20%20%20%20%20%20%7B%22sticky%22%3A%20true%7D%0A%20%20%20%20%20%20%20%20%20%20%20%20%29%3B%0A%20%20%20%20%20%20%20%20%0A%20%20%20%20%0A%20%20%20%20%20%20%20%20%20%20%20%20var%20circle_4dbffb2e0a984c92aa4f00ef8c3414d1%20%3D%20L.circle%28%0A%20%20%20%20%20%20%20%20%20%20%20%20%20%20%20%20%5B27.9276559%2C%20-82.32013172%5D%2C%0A%20%20%20%20%20%20%20%20%20%20%20%20%20%20%20%20%7B%22bubblingMouseEvents%22%3A%20true%2C%20%22color%22%3A%20%22crimson%22%2C%20%22dashArray%22%3A%20null%2C%20%22dashOffset%22%3A%20null%2C%20%22fill%22%3A%20true%2C%20%22fillColor%22%3A%20%22blue%22%2C%20%22fillOpacity%22%3A%200.2%2C%20%22fillRule%22%3A%20%22evenodd%22%2C%20%22lineCap%22%3A%20%22round%22%2C%20%22lineJoin%22%3A%20%22round%22%2C%20%22opacity%22%3A%201.0%2C%20%22radius%22%3A%20108000.0%2C%20%22stroke%22%3A%20true%2C%20%22weight%22%3A%203%7D%0A%20%20%20%20%20%20%20%20%20%20%20%20%29.addTo%28map_8891626f5ced449c971672ba244ac297%29%3B%0A%20%20%20%20%20%20%20%20%0A%20%20%20%20%0A%20%20%20%20%20%20%20%20%20%20%20%20circle_4dbffb2e0a984c92aa4f00ef8c3414d1.bindTooltip%28%0A%20%20%20%20%20%20%20%20%20%20%20%20%20%20%20%20%60%3Cdiv%3E%0A%20%20%20%20%20%20%20%20%20%20%20%20%20%20%20%20%20%20%20%20%20%3Cdiv%20style%3D%27margin%3A%200%3B%20background-color%3A%20black%3B%20color%3A%20white%3B%27%3E%3Ch4%20style%3D%27text-align%3Acenter%3Bfont-weight%3A%20bold%27%3EHillsborough%3C/h4%3E%3Ch6%20style%3D%27text-align%3Acenter%3Bfont-weight%3A%20bold%27%3EFlorida%3C/h6%3E%3Chr%20style%3D%27margin%3A10px%3Bcolor%3A%20white%3B%27%3E%3Cul%20style%3D%27color%3A%20white%3Blist-style-type%3Acircle%3Balign-item%3Aleft%3Bpadding-left%3A20px%3Bpadding-right%3A20px%27%3E%3Cli%3EConfirmed%3A%2082257%3C/li%3E%3Cli%3EDeaths%3A%201102%3C/li%3E%3C/ul%3E%3C/div%3E%0A%20%20%20%20%20%20%20%20%20%20%20%20%20%20%20%20%20%3C/div%3E%60%2C%0A%20%20%20%20%20%20%20%20%20%20%20%20%20%20%20%20%7B%22sticky%22%3A%20true%7D%0A%20%20%20%20%20%20%20%20%20%20%20%20%29%3B%0A%20%20%20%20%20%20%20%20%0A%20%20%20%20%0A%20%20%20%20%20%20%20%20%20%20%20%20var%20circle_bd4dcd06cf034c0aaf1100d3c75e09a8%20%3D%20L.circle%28%0A%20%20%20%20%20%20%20%20%20%20%20%20%20%20%20%20%5B28.51367621%2C%20-81.31799498%5D%2C%0A%20%20%20%20%20%20%20%20%20%20%20%20%20%20%20%20%7B%22bubblingMouseEvents%22%3A%20true%2C%20%22color%22%3A%20%22crimson%22%2C%20%22dashArray%22%3A%20null%2C%20%22dashOffset%22%3A%20null%2C%20%22fill%22%3A%20true%2C%20%22fillColor%22%3A%20%22blue%22%2C%20%22fillOpacity%22%3A%200.2%2C%20%22fillRule%22%3A%20%22evenodd%22%2C%20%22lineCap%22%3A%20%22round%22%2C%20%22lineJoin%22%3A%20%22round%22%2C%20%22opacity%22%3A%201.0%2C%20%22radius%22%3A%2093000.0%2C%20%22stroke%22%3A%20true%2C%20%22weight%22%3A%203%7D%0A%20%20%20%20%20%20%20%20%20%20%20%20%29.addTo%28map_8891626f5ced449c971672ba244ac297%29%3B%0A%20%20%20%20%20%20%20%20%0A%20%20%20%20%0A%20%20%20%20%20%20%20%20%20%20%20%20circle_bd4dcd06cf034c0aaf1100d3c75e09a8.bindTooltip%28%0A%20%20%20%20%20%20%20%20%20%20%20%20%20%20%20%20%60%3Cdiv%3E%0A%20%20%20%20%20%20%20%20%20%20%20%20%20%20%20%20%20%20%20%20%20%3Cdiv%20style%3D%27margin%3A%200%3B%20background-color%3A%20black%3B%20color%3A%20white%3B%27%3E%3Ch4%20style%3D%27text-align%3Acenter%3Bfont-weight%3A%20bold%27%3EOrange%3C/h4%3E%3Ch6%20style%3D%27text-align%3Acenter%3Bfont-weight%3A%20bold%27%3EFlorida%3C/h6%3E%3Chr%20style%3D%27margin%3A10px%3Bcolor%3A%20white%3B%27%3E%3Cul%20style%3D%27color%3A%20white%3Blist-style-type%3Acircle%3Balign-item%3Aleft%3Bpadding-left%3A20px%3Bpadding-right%3A20px%27%3E%3Cli%3EConfirmed%3A%2082155%3C/li%3E%3Cli%3EDeaths%3A%20776%3C/li%3E%3C/ul%3E%3C/div%3E%0A%20%20%20%20%20%20%20%20%20%20%20%20%20%20%20%20%20%3C/div%3E%60%2C%0A%20%20%20%20%20%20%20%20%20%20%20%20%20%20%20%20%7B%22sticky%22%3A%20true%7D%0A%20%20%20%20%20%20%20%20%20%20%20%20%29%3B%0A%20%20%20%20%20%20%20%20%0A%20%20%20%20%0A%20%20%20%20%20%20%20%20%20%20%20%20var%20circle_13d7b6fb00ba408089ce2fe9a33853ac%20%3D%20L.circle%28%0A%20%20%20%20%20%20%20%20%20%20%20%20%20%20%20%20%5B42.48607732%2C%20-71.39049229%5D%2C%0A%20%20%20%20%20%20%20%20%20%20%20%20%20%20%20%20%7B%22bubblingMouseEvents%22%3A%20true%2C%20%22color%22%3A%20%22crimson%22%2C%20%22dashArray%22%3A%20null%2C%20%22dashOffset%22%3A%20null%2C%20%22fill%22%3A%20true%2C%20%22fillColor%22%3A%20%22blue%22%2C%20%22fillOpacity%22%3A%200.2%2C%20%22fillRule%22%3A%20%22evenodd%22%2C%20%22lineCap%22%3A%20%22round%22%2C%20%22lineJoin%22%3A%20%22round%22%2C%20%22opacity%22%3A%201.0%2C%20%22radius%22%3A%20108000.0%2C%20%22stroke%22%3A%20true%2C%20%22weight%22%3A%203%7D%0A%20%20%20%20%20%20%20%20%20%20%20%20%29.addTo%28map_8891626f5ced449c971672ba244ac297%29%3B%0A%20%20%20%20%20%20%20%20%0A%20%20%20%20%0A%20%20%20%20%20%20%20%20%20%20%20%20circle_13d7b6fb00ba408089ce2fe9a33853ac.bindTooltip%28%0A%20%20%20%20%20%20%20%20%20%20%20%20%20%20%20%20%60%3Cdiv%3E%0A%20%20%20%20%20%20%20%20%20%20%20%20%20%20%20%20%20%20%20%20%20%3Cdiv%20style%3D%27margin%3A%200%3B%20background-color%3A%20black%3B%20color%3A%20white%3B%27%3E%3Ch4%20style%3D%27text-align%3Acenter%3Bfont-weight%3A%20bold%27%3EMiddlesex%3C/h4%3E%3Ch6%20style%3D%27text-align%3Acenter%3Bfont-weight%3A%20bold%27%3EMassachusetts%3C/h6%3E%3Chr%20style%3D%27margin%3A10px%3Bcolor%3A%20white%3B%27%3E%3Cul%20style%3D%27color%3A%20white%3Blist-style-type%3Acircle%3Balign-item%3Aleft%3Bpadding-left%3A20px%3Bpadding-right%3A20px%27%3E%3Cli%3EConfirmed%3A%2079505%3C/li%3E%3Cli%3EDeaths%3A%202784%3C/li%3E%3C/ul%3E%3C/div%3E%0A%20%20%20%20%20%20%20%20%20%20%20%20%20%20%20%20%20%3C/div%3E%60%2C%0A%20%20%20%20%20%20%20%20%20%20%20%20%20%20%20%20%7B%22sticky%22%3A%20true%7D%0A%20%20%20%20%20%20%20%20%20%20%20%20%29%3B%0A%20%20%20%20%20%20%20%20%0A%3C/script%3E onload=\"this.contentDocument.open();this.contentDocument.write(    decodeURIComponent(this.getAttribute('data-html')));this.contentDocument.close();\" allowfullscreen webkitallowfullscreen mozallowfullscreen></iframe></div></div>"
      ],
      "text/plain": [
       "<folium.folium.Map at 0x7f00826da6d0>"
      ]
     },
     "execution_count": 109,
     "metadata": {},
     "output_type": "execute_result"
    }
   ],
   "source": [
    "us_map = folium.Map(location=[45,-100], tiles='cartodbpositron', zoom_start=3, max_zoom=10, min_zoom=2)\n",
    "\n",
    "for i in range(len(sorted_df)):\n",
    "    folium.Circle(\n",
    "        location=[sorted_df.iloc[i]['lat'], sorted_df.iloc[i]['long']],\n",
    "        fill= True,\n",
    "        radius = (int((np.log(sorted_df.iloc[i, 6]+1.00001))) + 0.2)*15000,\n",
    "        fill_color = 'blue',\n",
    "        color = 'crimson',\n",
    "        tooltip =  \"<div style='margin: 0; background-color: black; color: white;'>\" +\n",
    "                        \"<h4 style='text-align:center;font-weight: bold'>\" +sorted_df.iloc[i]['county'] + \"</h4>\"\n",
    "                        \"<h6 style='text-align:center;font-weight: bold'>\" +sorted_df.iloc[i]['state'] + \"</h6>\"\n",
    "                        \"<hr style='margin:10px;color: white;'>\"+\n",
    "                        \"<ul style='color: white;list-style-type:circle;align-item:left;padding-left:20px;padding-right:20px'>\"+\n",
    "                            \"<li>Confirmed: \"+str(sorted_df.iloc[i,-4])+\"</li>\"+\n",
    "                            \"<li>Deaths: \"+str(sorted_df.iloc[i,-3])+\"</li>\"\n",
    "                        \"</ul></div>\",\n",
    "        ).add_to(us_map)\n",
    "    \n",
    "us_map"
   ]
  },
  {
   "cell_type": "code",
   "execution_count": null,
   "metadata": {},
   "outputs": [],
   "source": []
  },
  {
   "cell_type": "code",
   "execution_count": null,
   "metadata": {},
   "outputs": [],
   "source": []
  }
 ],
 "metadata": {
  "kernelspec": {
   "display_name": "Python 3",
   "language": "python",
   "name": "python3"
  },
  "language_info": {
   "codemirror_mode": {
    "name": "ipython",
    "version": 3
   },
   "file_extension": ".py",
   "mimetype": "text/x-python",
   "name": "python",
   "nbconvert_exporter": "python",
   "pygments_lexer": "ipython3",
   "version": "3.8.5"
  }
 },
 "nbformat": 4,
 "nbformat_minor": 4
}
